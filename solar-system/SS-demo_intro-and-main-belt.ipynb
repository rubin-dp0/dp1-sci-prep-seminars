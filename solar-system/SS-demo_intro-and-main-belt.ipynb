{
 "cells": [
  {
   "cell_type": "markdown",
   "id": "638477ea-a356-4479-bdea-e165b02762bd",
   "metadata": {},
   "source": [
    "# Exploring Solar System Populations and the Main Belt in DP0.3\n",
    "<img align=\"left\" src = https://project.lsst.org/sites/default/files/Rubin-O-Logo_0.png width=250 style=\"padding: 10px\"> \n",
    "Last verified to run: 2025-04-22 <br>\n",
    "LSST Science Pipelines version: Weekly 2025_09 <br>\n",
    "Container size: medium <br>"
   ]
  },
  {
   "cell_type": "markdown",
   "id": "e57b4248-cf79-4945-956b-3186f3cc41c2",
   "metadata": {},
   "source": [
    "**Description:** An overview of the contents of the DP0.3 moving object catalogs including a look at the Main Belt."
   ]
  },
  {
   "cell_type": "markdown",
   "id": "d9fd4286-3bff-4345-affa-0d8e519b8d50",
   "metadata": {},
   "source": [
    "**Skills:** Use the TAP service and ADQL to access the DP0.3 tables."
   ]
  },
  {
   "cell_type": "markdown",
   "id": "7e79e389-8abf-4dff-b503-55c0383084d1",
   "metadata": {},
   "source": [
    "**LSST Data Products:** TAP dp03_catalogs."
   ]
  },
  {
   "cell_type": "markdown",
   "id": "07aae406-2b73-4995-a1c8-fc833a24cee2",
   "metadata": {},
   "source": [
    "**Packages:** `lsst.rsp.get_tap_service`"
   ]
  },
  {
   "cell_type": "markdown",
   "id": "8740f32b-3d92-4c10-8d88-46e600a63a96",
   "metadata": {},
   "source": [
    "**Credit:**  This notebook largely contains material drawn from DP0.3 tutorial notebooks 01_Introduction_to_DP03 and 02_Main_Belt_Asteroids originally authored by Bob Abel, Douglas Tucker, Melissa Graham, and Jeff Carlin."
   ]
  },
  {
   "cell_type": "markdown",
   "id": "e7b54235-6bab-4626-a603-13c15a3c93b6",
   "metadata": {},
   "source": [
    "**Get Support:**\n",
    "Everyone is encouraged to ask questions or raise issues in the <a href=\"https://community.lsst.org/c/support/6\">Support Category</a> of the Rubin Community Forum. Rubin staff will respond to all questions posted there."
   ]
  },
  {
   "cell_type": "markdown",
   "id": "c84499ca-08c3-47a6-b1cc-6e289ec42fdf",
   "metadata": {},
   "source": [
    "## 1. Introduction\n",
    "\n",
    "This notebook demonstrates how to access the simulated Data Preview 0.3 (DP0.3) data set in the Rubin Science Platform.\n",
    "\n",
    "For the DP0.3 simulation, only moving objects were simulated, and only catalogs were created (there are no images).\n",
    "The DP0.3 simulation is *entirely independent of and separate from* the DP0.2 simulation.\n",
    "\n",
    "DP0.3 is a hybrid catalog that contains both real and simulated Solar System objects (asteroids, near-earth objects, Trojans, trans-Neptunian objects, and comets... but no major planets nor the Moon).\n",
    "See the <a href=\"https://dp0-3.lsst.io\">DP0.3 documentation</a> for more information about how the hybrid catalog was created.\n",
    "\n",
    "In Rubin Operations, these tables would be constantly changing, updated every day with the results of\n",
    "the previous night's observations.\n",
    "However, for DP0.3, both a static 1-year catalog and a static 10-year catalog have been simulated.\n",
    "\n",
    "> **Notice:** The remainder of this notebook will consider the tables for the 10-year catalog.\n"
   ]
  },
  {
   "cell_type": "markdown",
   "id": "1fdd57af-83de-464a-863f-f0886a70d989",
   "metadata": {},
   "source": [
    "### 1.1. Package Imports\n",
    "\n",
    "Import general python packages and the Rubin TAP service utilities."
   ]
  },
  {
   "cell_type": "code",
   "execution_count": null,
   "id": "dab33fdd-8ff9-4f8f-b027-77ba5368de5d",
   "metadata": {
    "tags": []
   },
   "outputs": [],
   "source": [
    "import numpy as np\n",
    "import matplotlib.pyplot as plt\n",
    "from matplotlib import colormaps\n",
    "import pandas as pd\n",
    "from lsst.rsp import get_tap_service"
   ]
  },
  {
   "cell_type": "markdown",
   "id": "87c153f4-b394-42a4-92d2-d0184f8b8bc1",
   "metadata": {},
   "source": [
    "### 1.2 Define Functions and Parameters\n",
    "\n",
    "Define a function to convert a given perihelion distance (`q`) and eccentricity (`e`) to an orbital semi-major axis (`a`). Their relationship is defined by q = a(1-e)."
   ]
  },
  {
   "cell_type": "code",
   "execution_count": null,
   "id": "394ab72f-c002-4b9d-b7fa-72e355ee41d0",
   "metadata": {
    "tags": []
   },
   "outputs": [],
   "source": [
    "def calc_semimajor_axis(q, e):\n",
    "    \"\"\"\n",
    "    Given a perihelion distance and orbital eccentricity,\n",
    "    calculate the semi-major axis of the orbit.\n",
    "\n",
    "    Parameters\n",
    "    ----------\n",
    "    q: float\n",
    "        Distance at perihelion, in au.\n",
    "    e: float\n",
    "        Orbital eccentricity.\n",
    "\n",
    "    Returns\n",
    "    -------\n",
    "    a: float\n",
    "        Semi-major axis of the orbit, in au.\n",
    "        q = a(1-e), so a = q/(1-e)\n",
    "    \"\"\"\n",
    "\n",
    "    return q / (1.0 - e)"
   ]
  },
  {
   "cell_type": "markdown",
   "id": "0484b1ba-eafd-465a-8691-5c1ba3bcc208",
   "metadata": {},
   "source": [
    "## 2. Create the Rubin SSO TAP Service client\n",
    "\n",
    "The DP0.3 data sets are available via the Table Access Protocol (TAP) service,\n",
    "and can be accessed with ADQL (Astronomical Data Query Language) statements.\n",
    "\n",
    "TAP provides standardized access to catalog data for discovery, search, and retrieval.\n",
    "Full <a href=\"http://www.ivoa.net/documents/TAP\">documentation for TAP</a> is provided by the International Virtual Observatory Alliance (IVOA).\n",
    "ADQL is similar to SQL (Structured Query Langage).\n",
    "The <a href=\"http://www.ivoa.net/documents/latest/ADQL.html\">documentation for ADQL</a> includes more information about syntax and keywords.\n",
    "\n",
    "Get an instance of the SSO TAP service, and check that this was successful.\n",
    "\n",
    "> **Notice:** The DP0.3 TAP service is called `ssotap` (whereas `tap` is used for DP0.2)."
   ]
  },
  {
   "cell_type": "code",
   "execution_count": null,
   "id": "a8daf49b-a897-479b-9524-f816bea54733",
   "metadata": {
    "tags": []
   },
   "outputs": [],
   "source": [
    "service = get_tap_service(\"ssotap\")\n",
    "assert service is not None"
   ]
  },
  {
   "cell_type": "markdown",
   "id": "e7302673-cab0-4003-a3dd-d22b1a77a97b",
   "metadata": {},
   "source": [
    "## 3. The `MPCORB` table\n",
    "\n",
    "During Rubin Operations, Solar System Processing will occur in the daytime, after a night of observing.\n",
    "It will link together the difference-image detections of moving objects and report discoveries\n",
    "to the <a href=\"https://minorplanetcenter.net\">Minor Planet Center</a> (MPC),\n",
    "as well as compute derived properties (magnitudes, phase-curve fits, coordinates in various systems).\n",
    "\n",
    "The MPC will calculate the orbital parameters and these results will be passed back to Rubin, and stored\n",
    "and made available to users as the `MPCORB` table.\n",
    "The DP0.3 `MPCORB` table is a simulation of what this data product will be like after 10 years of LSST.\n",
    "\n",
    "> **Notice:** The MPC contains all reported moving objects in the Solar System, and is not limited to those detected by LSST. Thus, the `MPCORB` table will have more rows than the `SSObject` table.\n",
    "\n",
    "> **Notice:** For DP0.3, there was no fitting done by the MPC and the MPCORB table is the orbital elements used in the simulation (the `MPCORB` table is a truth table).\n",
    "\n",
    "For more information about Rubin's plans for Solar System Processing, see Section 3.2.2 of the \n",
    "<a href=\"https://docushare.lsstcorp.org/docushare/dsweb/Get/LSE-163/LSE-163_DataProductsDefinitionDocumentDPDD.pdf\">Data Products Definitions Document</a>.\n",
    "Note that there remain differences between Table 4 of the DPDD, which contains the anticipated schema \n",
    "for the moving object tables, and the DP0.3 table schemas."
   ]
  },
  {
   "cell_type": "markdown",
   "id": "cd15dac9-45bf-4a0f-9f32-5d31bb48a4d5",
   "metadata": {},
   "source": [
    "### 3.1. Size\n",
    "\n",
    "Use the TAP service to count of the number of rows in the `MPCORB` table."
   ]
  },
  {
   "cell_type": "code",
   "execution_count": null,
   "id": "e965cf06-6e16-4117-a29b-97a6a8577fb2",
   "metadata": {
    "tags": []
   },
   "outputs": [],
   "source": [
    "results = service.search(\"SELECT COUNT(*) FROM dp03_catalogs_10yr.MPCORB\")\n",
    "results.to_table()"
   ]
  },
  {
   "cell_type": "markdown",
   "id": "1dfddcd0-0a73-4f41-9324-2fc590bb0fbf",
   "metadata": {},
   "source": [
    "There are roughly 14.5 million rows in the `MPCORB` table."
   ]
  },
  {
   "cell_type": "markdown",
   "id": "69152b41-0c0c-435c-884f-553ca4a682db",
   "metadata": {},
   "source": [
    "### 3.2. Columns\n",
    "\n",
    "Use the TAP service to query for the column information from `MPCORB`.\n",
    "\n",
    "Print the results as a `pandas` table."
   ]
  },
  {
   "cell_type": "code",
   "execution_count": null,
   "id": "d24359a4-6f1a-433b-84cf-b9184f4f673f",
   "metadata": {
    "tags": []
   },
   "outputs": [],
   "source": [
    "results = service.search(\"SELECT column_name, datatype, description, \"\n",
    "                         \"       unit from TAP_SCHEMA.columns \"\n",
    "                         \"WHERE table_name = 'dp03_catalogs_10yr.MPCORB'\")\n",
    "results.to_table().to_pandas()"
   ]
  },
  {
   "cell_type": "markdown",
   "id": "50c4dcdf-9e70-4c56-aa2b-15c7bc6feb65",
   "metadata": {},
   "source": [
    "### 3.3. Retrieve a random subset\n",
    "\n",
    "To retrieve a random subset of rows, make use of the fact that `ssObjectId` is a randomly assigned 64-bit long unsigned integer. \n",
    "Since ADQL interprets a 64-bit long unsigned integer as a 63-bit _signed_ integer, \n",
    "these range from a very large negative integer value to a very large positive integer value.\n",
    "This will be fixed in the future so that all identifiers are positive numbers.\n",
    "\n",
    "> **Notice:** By using `ssObjectId`, the following query returns a random subset of `MPCORB` rows *that are associated with a row in the `SSObject` table*. In other words, this limits the query to only retrieve moving objects from the `MPCORB` table that have been detected by LSST.\n",
    "\n"
   ]
  },
  {
   "cell_type": "markdown",
   "id": "086af243-a5fe-4bc3-b7d9-57595cb0c637",
   "metadata": {},
   "source": [
    "Define a search range for `ssObjectId` that would return no more than 1% of all objects in `MPCORB` by estimating a new minimum `ssObjectId` that is 1% _below_ the maximum `ssObjectId` for the full range of `ssObjectId` values.\n",
    "\n",
    "> **Notice:** Since the _range_ of `ssObjectId`'s (-9223370383071521539 --> +9223370875126069107) is much larger than the number of _rows_ in the `MPCORB` table (14600302), don't expect to get _exactly_ 1% of the rows from `MPCORB` via this method. The result will have approximately 1%, as long as the `ssObjectId` values are distributed reasonably uniformly over their large range.\n"
   ]
  },
  {
   "cell_type": "markdown",
   "id": "6ab5d7bb-6c76-4a06-9086-d6d92d458ce3",
   "metadata": {
    "execution": {
     "iopub.execute_input": "2023-06-27T22:39:44.565969Z",
     "iopub.status.busy": "2023-06-27T22:39:44.565076Z",
     "iopub.status.idle": "2023-06-27T22:39:44.570822Z",
     "shell.execute_reply": "2023-06-27T22:39:44.569984Z",
     "shell.execute_reply.started": "2023-06-27T22:39:44.565938Z"
    },
    "tags": []
   },
   "source": [
    "Execute the search, and retrieve all (\\*) columns from the `MPCORB` table."
   ]
  },
  {
   "cell_type": "markdown",
   "id": "bfff1a2e-21ea-4ef4-9063-5f0bfac18b4f",
   "metadata": {},
   "source": [
    "Define query."
   ]
  },
  {
   "cell_type": "code",
   "execution_count": null,
   "id": "94bde06e-a1eb-4c57-82ac-2a02a17d30e2",
   "metadata": {},
   "outputs": [],
   "source": [
    "query = \"\"\"SELECT * FROM dp03_catalogs_10yr.MPCORB \n",
    "              WHERE ssObjectId BETWEEN 9038903462544093184 \n",
    "              AND 9223370875126069107\"\"\""
   ]
  },
  {
   "cell_type": "markdown",
   "id": "1bd96843-2309-4f06-9c12-47faad0305ea",
   "metadata": {},
   "source": [
    "Submit the query."
   ]
  },
  {
   "cell_type": "code",
   "execution_count": null,
   "id": "e1fc92d6-06ae-410b-8e95-6ad759d4c51e",
   "metadata": {},
   "outputs": [],
   "source": [
    "job = service.submit_job(query)\n",
    "job.run()\n",
    "job.wait(phases=['COMPLETED', 'ERROR'])\n",
    "print('Job phase is', job.phase)\n",
    "results = job.fetch_result()\n",
    "assert job.phase == 'COMPLETED'"
   ]
  },
  {
   "cell_type": "markdown",
   "id": "0e2fb6d0-dddf-4c35-aa1d-561f7fcf29a8",
   "metadata": {},
   "source": [
    "Store the results in `df` as a `pandas` dataframe."
   ]
  },
  {
   "cell_type": "code",
   "execution_count": null,
   "id": "f286f6a7-e5ec-4bf4-978a-26abbe71bf6c",
   "metadata": {},
   "outputs": [],
   "source": [
    "df = results.to_table().to_pandas()"
   ]
  },
  {
   "cell_type": "code",
   "execution_count": null,
   "id": "ad9e8cbd-9555-4adb-bb33-826ba4f12d18",
   "metadata": {},
   "outputs": [],
   "source": [
    "print(len(df))"
   ]
  },
  {
   "cell_type": "markdown",
   "id": "528bd445-2510-4fbd-985e-f33c91f3e47f",
   "metadata": {},
   "source": [
    "144,472 rows were returned, which -- _as expected_ -- is almost (but not exactly) 1% of the 14,462,388 rows in the `MPCORB` table.  \n",
    "\n",
    "> **Notice:** There are several columns that currently contain `NaN` (not a number) values.\n",
    "For the simulated DP0.3 data these columns might be replaced in the near future, \n",
    "and for real data releases there will not be all-`NaN` columns.  If desired, users can drop all-`NaN` columns with, e.g., `df.dropna(axis=1, how='all', inplace=True)`.\n",
    "However the better practice is to understand the columns and retrieve only what you are going to use."
   ]
  },
  {
   "cell_type": "markdown",
   "id": "9721c47c-6302-4e0c-8d38-3825ff86266c",
   "metadata": {},
   "source": [
    "### 3.4. Plot histograms of selected columns\n",
    "\n",
    "Wikipedia provides a decent <a href=\"https://en.wikipedia.org/wiki/Orbital_elements\">beginner-level guide to orbital elements</a>.\n",
    "\n",
    "For a quick reference, distributions are shown below for five key orbital elements\n",
    "and the absolute $H$ magnitude."
   ]
  },
  {
   "cell_type": "code",
   "execution_count": null,
   "id": "478cba37-0c97-4132-83e5-6bde2083b6bc",
   "metadata": {
    "tags": []
   },
   "outputs": [],
   "source": [
    "fig, ax = plt.subplots(2, 3, figsize=(10, 6), sharey=False)\n",
    "ax[0, 0].hist(df['e'], bins=100, log=True)\n",
    "ax[0, 0].set_xlabel('Eccentricity')\n",
    "ax[0, 0].set_ylabel('log(Number)')\n",
    "ax[0, 1].hist(df['incl'], bins=100, log=True)\n",
    "ax[0, 1].set_xlabel('Inclination (deg)')\n",
    "ax[0, 1].set_ylabel('log(Number)')\n",
    "ax[0, 2].hist(df['mpcH'], bins=100, log=True)\n",
    "ax[0, 2].set_xlabel('Absolute Magnitude, H (mag)')\n",
    "ax[0, 2].set_ylabel('log(Number)')\n",
    "ax[1, 0].hist(df['node'], bins=50)\n",
    "ax[1, 0].set_xlabel('Longitude of Ascending Node (deg)')\n",
    "ax[1, 0].set_ylabel('Number')\n",
    "ax[1, 0].set_ylim(0,3500)\n",
    "ax[1, 1].hist(df['peri'], bins=50)\n",
    "ax[1, 1].set_xlabel('Argument of Perihelion (deg)')\n",
    "ax[1, 1].set_ylabel('Number')\n",
    "ax[1, 1].set_ylim(0,3500)\n",
    "ax[1, 2].hist(df['q'], bins=100, log=True)\n",
    "ax[1, 2].set_xlabel('Perihelion Distance (au)')\n",
    "ax[1, 2].set_ylabel('log(Number)')\n",
    "fig.suptitle('Histograms for Key Orbital Elements')\n",
    "fig.tight_layout()\n",
    "plt.show()"
   ]
  },
  {
   "cell_type": "markdown",
   "id": "242b5cb8-0431-44e8-9aa1-2fb449845cc9",
   "metadata": {},
   "source": [
    "> **Figure 1**: Six histograms showing the (log) number of solar system objects in the `MPCORB` table as a function of their eccentricity, inclination, absolute magnitude H, longitude of the ascending node, argument of perihelion, and perihelion distance (from upper left to lower right)."
   ]
  },
  {
   "cell_type": "markdown",
   "id": "463704a9-dc73-4f7c-abfd-43b2f9731539",
   "metadata": {
    "execution": {
     "iopub.execute_input": "2023-06-17T15:47:28.771164Z",
     "iopub.status.busy": "2023-06-17T15:47:28.770077Z",
     "iopub.status.idle": "2023-06-17T15:47:28.774678Z",
     "shell.execute_reply": "2023-06-17T15:47:28.773860Z",
     "shell.execute_reply.started": "2023-06-17T15:47:28.771122Z"
    },
    "tags": []
   },
   "source": [
    "## 4. The `SSObject` table\n",
    "\n",
    "During Rubin Operations, Prompt Processing will occur during the night, detecting sources in \n",
    "difference images (`DiaSources`) and associating them into static-sky transients\n",
    "and variables (`DiaObjects`, not included in DP0.3).\n",
    "\n",
    "The Solar System Processing which occurs in the daytime, after a night of observing,\n",
    "links together the `DiaSources` for moving objects into `SSObjects`.\n",
    "Whereas the `MPCORB` table contains the orbital elements for these moving objects,\n",
    "the `SSObjects` table contains the Rubin-measured properties such as phase curve fits and absolute magnitudes.\n",
    "\n",
    "The process of phase curve fitting is covered in DP0.3 tutorial notebooks DP03_04a_Introduction_to_Phase_Curves and DP03_04b_Advanced_Phase_Curve_Modeling.\n",
    "\n",
    "> **Notice:** no artifacts or spurious difference-image sources have been injected into the DP0.3 catalogs.\n",
    "\n",
    "> **Notice:** although there are columns for them, no _u-_ or _Y_-band data were simulated for DP0.3.\n",
    "\n",
    "### 4.1. Size\n",
    "\n",
    "Use the ADQL count function to return the number of rows in the `SSObject` table."
   ]
  },
  {
   "cell_type": "code",
   "execution_count": null,
   "id": "cd943cfe-7c32-49da-b2eb-af12cf3b78b2",
   "metadata": {
    "tags": []
   },
   "outputs": [],
   "source": [
    "results = service.search(\"SELECT COUNT(*) from dp03_catalogs_10yr.SSObject\")\n",
    "results.to_table().to_pandas()"
   ]
  },
  {
   "cell_type": "markdown",
   "id": "56f8dad2-5f9a-4393-960c-f652440ed3b1",
   "metadata": {},
   "source": [
    "The DP0.3 data set contains 4.4 million solar system objects detected by Rubin.\n",
    "\n",
    "This is fewer than the 14.5 million objects in the `MPCORB` catalog.\n",
    "It is left as an exercise for the learner to determine the characteristics of those \n",
    "objects from the `MPCORB` table that are missing from the `SSObject` table."
   ]
  },
  {
   "cell_type": "markdown",
   "id": "ef9ba117-4a6c-4a4c-9b82-5b74a9c40001",
   "metadata": {},
   "source": [
    "## 5. The `SSSource` table\n",
    "\n",
    "As described above, Solar System Processing links together the `DiaSources` (detections in the\n",
    "individual difference images) from moving objects into `SSObjects`. \n",
    "\n",
    "The `SSSource` table contains the 2-d (sky) coordinates and 3-d distances and velocities \n",
    "for every `SSObject` at the time of every LSST observation of that `SSObject`.\n",
    "The `SSSource` and `DiaSource` tables are 1:1, as they each contain data *per observation*,\n",
    "whereas `SSObject` contains data *per object*. This table contains over 650 million sources!"
   ]
  },
  {
   "cell_type": "markdown",
   "id": "55f7fd6f-a5c8-4e58-8781-5d7f14ebf530",
   "metadata": {},
   "source": [
    "### 5.1. Retrieve data for one Main Belt `SSObject`\n",
    "\n",
    "Examine the`SSSource` table contents for just one `SSObject`, the one with an `ssObjectId` = `6793512588511170680`.\n",
    "\n",
    "Retrieve the heliocentric (Sun-centered) and topocentric (observatory-centered) X and Y coordinates."
   ]
  },
  {
   "cell_type": "markdown",
   "id": "e9f81967-a036-4f71-af59-2e2254e37977",
   "metadata": {},
   "source": [
    "Define the query and run the query."
   ]
  },
  {
   "cell_type": "code",
   "execution_count": null,
   "id": "b0c0b207-7c44-46d7-b776-221f357e6467",
   "metadata": {},
   "outputs": [],
   "source": [
    "query = \"\"\"SELECT heliocentricX, heliocentricY, \n",
    "              topocentricX, topocentricY, ssObjectId \n",
    "              FROM dp03_catalogs_10yr.SSSource \n",
    "              WHERE ssObjectId = 6793512588511170680\"\"\"\n",
    "\n",
    "job = service.submit_job(query)\n",
    "job.run()\n",
    "job.wait(phases=['COMPLETED', 'ERROR'])\n",
    "print('Job phase is', job.phase)\n",
    "results = job.fetch_result()\n",
    "assert job.phase == 'COMPLETED'\n",
    "\n",
    "df_xy = results.to_table().to_pandas()\n",
    "print('Retrieved ', len(df_xy), ' rows.')"
   ]
  },
  {
   "cell_type": "markdown",
   "id": "11c32da4-7632-4ca0-8e51-c3ae130bde77",
   "metadata": {},
   "source": [
    "### 5.2. Plot the locations of one Main Belt `SSObject`\n",
    "\n",
    "Plot the locations of the selected `SSObject` at the time of every \n",
    "LSST observation using the X and Y heliocentric (Sun-centered; orange star) \n",
    "coordinates.\n",
    "This can be considered a projection of the orbit into the plane of the Solar System.\n",
    "\n",
    "Notice how the points are not regularly spaced.\n",
    "This is because there is one point per LSST observation of the object,\n",
    "and in some years it receives more or fewer observations.\n",
    "\n",
    "Notice how the points appear in an ellipse around the Sun with heliocentric coordinates.\n",
    "This is because the selected object is in the main asteroid belt and close enough to the Sun \n",
    "to complete at least one orbit during the 10-year LSST survey.\n",
    "Had the selected object been in the outer Solar System, or were this tutorial using\n",
    "the 1-year data set, the plot below would show an arc instead of an ellipse."
   ]
  },
  {
   "cell_type": "code",
   "execution_count": null,
   "id": "0464b3fa-299a-4d27-8f47-f19cd21062b6",
   "metadata": {
    "tags": []
   },
   "outputs": [],
   "source": [
    "plt.plot(df_xy['heliocentricX'], df_xy['heliocentricY'],\n",
    "         'o', ms=4, mew=0, color='black')\n",
    "plt.plot(0, 0, '*', ms=15, color='darkorange')\n",
    "plt.xlabel('heliocentric X (au)')\n",
    "plt.ylabel('heliocentric Y (au)')\n",
    "plt.title('XY Path of 6793512588511170680 in Heliocentric Coordinates')\n",
    "plt.show()"
   ]
  },
  {
   "cell_type": "markdown",
   "id": "79a48c31-d2ad-41ed-916a-aa46f60c1894",
   "metadata": {},
   "source": [
    "> **Figure 2:** The two-dimensional projection of the location of the selected solar system object into the XY plane in heliocentric (Sun-centered) coordinates. The Sun is represented by an orange star and the solar system object's positions are represented by small black circles."
   ]
  },
  {
   "cell_type": "markdown",
   "id": "7b1be600-779d-41cf-8f71-a03d4bdb8791",
   "metadata": {},
   "source": [
    "## 6. The Main Belt in DP0.3"
   ]
  },
  {
   "cell_type": "markdown",
   "id": "050c1679-c6bd-48ab-98e1-a371422ef48c",
   "metadata": {},
   "source": [
    "Query the DP0.3 catalogs, joining the MPCORB and SSObject tables on their ssObjectId. One _could_ retrieve the entire catalog (containing millions of rows), but that query may take a long time. To minimize query time but still extract a large sample, use a range of `ssObjectId` values."
   ]
  },
  {
   "cell_type": "markdown",
   "id": "2cde0d7a-7fa6-4ffb-967a-92975b467878",
   "metadata": {},
   "source": [
    "Define the query."
   ]
  },
  {
   "cell_type": "code",
   "execution_count": null,
   "id": "6dd701b8-4ea0-4f17-907a-3f4d6cd790e0",
   "metadata": {},
   "outputs": [],
   "source": [
    "query = \"\"\"SELECT mpc.ssObjectId, mpc.e, mpc.incl, mpc.q, mpc.peri\n",
    "        FROM dp03_catalogs_10yr.MPCORB as mpc \n",
    "        JOIN dp03_catalogs_10yr.SSObject as sso \n",
    "        ON mpc.ssObjectId = sso.ssObjectId \n",
    "        WHERE mpc.ssObjectId < 9223370875126069107 \n",
    "        AND mpc.ssObjectId > 7331137166374808576 \n",
    "        AND sso.numObs > 50\"\"\""
   ]
  },
  {
   "cell_type": "markdown",
   "id": "507de275-d6cc-46f5-b3b3-a5fa021b15f5",
   "metadata": {},
   "source": [
    "Submit the query."
   ]
  },
  {
   "cell_type": "code",
   "execution_count": null,
   "id": "d0a56880-89ba-424a-92d4-0b583d78ea12",
   "metadata": {},
   "outputs": [],
   "source": [
    "job = service.submit_job(query)\n",
    "job.run()\n",
    "job.wait(phases=['COMPLETED', 'ERROR'])\n",
    "print('Job phase is', job.phase)\n",
    "results = job.fetch_result()\n",
    "assert job.phase == 'COMPLETED'"
   ]
  },
  {
   "cell_type": "markdown",
   "id": "58fa0a45-1b46-4590-b062-6fc0bc2a914e",
   "metadata": {},
   "source": [
    "Store the results as a pandas dataframe called `df_mpc_sso` and display number of results."
   ]
  },
  {
   "cell_type": "code",
   "execution_count": null,
   "id": "df418712-d974-4cf3-9d92-7602cdea5cd7",
   "metadata": {},
   "outputs": [],
   "source": [
    "df_mpc_sso = results.to_table().to_pandas()"
   ]
  },
  {
   "cell_type": "code",
   "execution_count": null,
   "id": "82f5677d-73bc-4f9f-bc5f-99a61f34e5d1",
   "metadata": {},
   "outputs": [],
   "source": [
    "print('The query returned ', len(df_mpc_sso), ' results.')"
   ]
  },
  {
   "cell_type": "markdown",
   "id": "36ec0462-77ce-48b3-ba89-eb7c8241f47d",
   "metadata": {},
   "source": [
    "### 6.1 Overall orbital properties\n",
    "\n",
    "First, calculate the semi-major axis of each object's orbit, using the function we defined above."
   ]
  },
  {
   "cell_type": "code",
   "execution_count": null,
   "id": "9b089af7-3576-4e47-8332-56fa7c137160",
   "metadata": {
    "tags": []
   },
   "outputs": [],
   "source": [
    "a = calc_semimajor_axis(df_mpc_sso.q, df_mpc_sso.e)"
   ]
  },
  {
   "cell_type": "markdown",
   "id": "21ee1ef4-ae9e-4ad2-9714-62c68a8a51d0",
   "metadata": {},
   "source": [
    "### 6.2 Semi-major axes of Main Belt asteroids\n",
    "\n",
    "For the rest of this notebook, focus on the so-called [\"Main Belt\" asteroids](https://en.wikipedia.org/wiki/Asteroid_belt), which roughly speaking inhabit the space between the orbits of Mars and Jupiter. The exact Main Belt definition is not uniform in the literature; for this demo, consider objects with 1.6 au < a < 4.2 au.\n",
    "\n",
    "Visualize where Main Belt asteroids are located in the Solar System via their `semi-major axis (a)`."
   ]
  },
  {
   "cell_type": "code",
   "execution_count": null,
   "id": "a40df506-04df-4e92-b9ca-ada7fb228c3c",
   "metadata": {
    "tags": []
   },
   "outputs": [],
   "source": [
    "main_belt = (a > 1.6) & (a < 4.2)"
   ]
  },
  {
   "cell_type": "code",
   "execution_count": null,
   "id": "ed257b15-e8a9-441c-929a-ea107af816d8",
   "metadata": {
    "tags": []
   },
   "outputs": [],
   "source": [
    "fig = plt.figure(figsize=(6, 4))\n",
    "\n",
    "plt.hist(a[main_belt], bins=np.arange(1.6, 4.3, 0.01), color='Black')\n",
    "plt.xlabel('semi-major axis (au)')\n",
    "plt.ylabel('number of objects')\n",
    "plt.minorticks_on()\n",
    "plt.show()"
   ]
  },
  {
   "cell_type": "markdown",
   "id": "9ac38ab4-3413-4dff-b216-2caf1bc19636",
   "metadata": {},
   "source": [
    "> **Figure 3:** A histogram of the number of Main Belt asteroids as a function of semi-major axis."
   ]
  },
  {
   "cell_type": "markdown",
   "id": "464492ae-0833-49c0-99e7-3a83a401f4a3",
   "metadata": {},
   "source": [
    "Clearly it's not just a uniform \"belt\" between Mars and Jupiter -- it has some \"gaps\" where there are very few (or no) objects. These are known as [Kirkwood gaps](https://en.wikipedia.org/wiki/Kirkwood_gap), which arise due to resonances between the asteroid's orbital period and that of Jupiter. For example, at a=2.5 au, an asteroid orbits 3 times for each single orbit of Jupiter, and is thus in a \"3:1 resonance\". For more, see tutorial notebook DP03_02_Main_Belt_Asteroids, \"Properties of Main Belt Asteroids in DP0.3\"."
   ]
  }
 ],
 "metadata": {
  "kernelspec": {
   "display_name": "LSST",
   "language": "python",
   "name": "lsst"
  },
  "language_info": {
   "codemirror_mode": {
    "name": "ipython",
    "version": 3
   },
   "file_extension": ".py",
   "mimetype": "text/x-python",
   "name": "python",
   "nbconvert_exporter": "python",
   "pygments_lexer": "ipython3",
   "version": "3.12.9"
  }
 },
 "nbformat": 4,
 "nbformat_minor": 5
}
