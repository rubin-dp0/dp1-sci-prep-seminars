{
 "cells": [
  {
   "cell_type": "markdown",
   "id": "638477ea-a356-4479-bdea-e165b02762bd",
   "metadata": {},
   "source": [
    "# Exploring Solar System Populations and the Main Belt in DP0.3\n",
    "<img align=\"left\" src = https://project.lsst.org/sites/default/files/Rubin-O-Logo_0.png width=250 style=\"padding: 10px\"> \n",
    "Last verified to run: 2025-04-08 <br>\n",
    "LSST Science Pipelines version: Weekly 2025_09 <br>\n",
    "Container size: medium <br>\n",
    "Targeted learning level: beginner <br>"
   ]
  },
  {
   "cell_type": "markdown",
   "id": "e57b4248-cf79-4945-956b-3186f3cc41c2",
   "metadata": {},
   "source": [
    "**Description:** An overview of the contents of the DP0.3 moving object catalogs."
   ]
  },
  {
   "cell_type": "markdown",
   "id": "d9fd4286-3bff-4345-affa-0d8e519b8d50",
   "metadata": {},
   "source": [
    "**Skills:** Use the TAP service and ADQL to access the DP0.3 tables."
   ]
  },
  {
   "cell_type": "markdown",
   "id": "7e79e389-8abf-4dff-b503-55c0383084d1",
   "metadata": {},
   "source": [
    "**LSST Data Products:** TAP dp03_catalogs."
   ]
  },
  {
   "cell_type": "markdown",
   "id": "07aae406-2b73-4995-a1c8-fc833a24cee2",
   "metadata": {},
   "source": [
    "**Packages:** `lsst.rsp.get_tap_service`"
   ]
  },
  {
   "cell_type": "markdown",
   "id": "8740f32b-3d92-4c10-8d88-46e600a63a96",
   "metadata": {},
   "source": [
    "**Credit:**  This notebook largely contains material drawn from DP0.3 tutorial notebooks 01_Introduction_to_DP03 and 02_Main_Belt_Asteroids originally authored by Bob Abel, Douglas Tucker, Melissa Graham, and Jeff Carlin."
   ]
  },
  {
   "cell_type": "markdown",
   "id": "e7b54235-6bab-4626-a603-13c15a3c93b6",
   "metadata": {},
   "source": [
    "**Get Support:**\n",
    "Everyone is encouraged to ask questions or raise issues in the <a href=\"https://community.lsst.org/c/support/6\">Support Category</a> of the Rubin Community Forum. Rubin staff will respond to all questions posted there."
   ]
  },
  {
   "cell_type": "markdown",
   "id": "c84499ca-08c3-47a6-b1cc-6e289ec42fdf",
   "metadata": {},
   "source": [
    "## 1. Introduction\n",
    "\n",
    "This notebook demonstrates how to access the simulated Data Preview 0.3 (DP0.3) data set in the Rubin Science Platform.\n",
    "\n",
    "For the DP0.3 simulation, only moving objects were simulated, and only catalogs were created (there are no images).\n",
    "The DP0.3 simulation is *entirely independent of and separate from* the DP0.2 simulation.\n",
    "\n",
    "DP0.3 is a hybrid catalog that contains both real and simulated Solar System objects (asteroids, near-earth objects, Trojans, trans-Neptunian objects, and comets... but no major planets nor the Moon).\n",
    "See the <a href=\"https://dp0-3.lsst.io\">DP0.3 documentation</a> for more information about how the hybrid catalog was created.\n",
    "\n",
    "In Rubin Operations, these tables would be constantly changing, updated every day with the results of\n",
    "the previous night's observations.\n",
    "However, for DP0.3, both a static 1-year catalog and a static 10-year catalog have been simulated.\n",
    "\n",
    "> **Notice:** The remainder of this notebook, unless otherwise noted, will consider the tables for the 10-year catalog.\n"
   ]
  },
  {
   "cell_type": "markdown",
   "id": "1fdd57af-83de-464a-863f-f0886a70d989",
   "metadata": {},
   "source": [
    "### 1.1. Package Imports\n",
    "\n",
    "Import general python packages and the Rubin TAP service utilities."
   ]
  },
  {
   "cell_type": "code",
   "execution_count": 1,
   "id": "dab33fdd-8ff9-4f8f-b027-77ba5368de5d",
   "metadata": {
    "execution": {
     "iopub.execute_input": "2025-04-08T09:23:26.152176Z",
     "iopub.status.busy": "2025-04-08T09:23:26.151806Z",
     "iopub.status.idle": "2025-04-08T09:23:27.493187Z",
     "shell.execute_reply": "2025-04-08T09:23:27.492259Z",
     "shell.execute_reply.started": "2025-04-08T09:23:26.152139Z"
    },
    "tags": []
   },
   "outputs": [],
   "source": [
    "import numpy as np\n",
    "import matplotlib.pyplot as plt\n",
    "from matplotlib import colormaps\n",
    "import pandas as pd\n",
    "from lsst.rsp import get_tap_service"
   ]
  },
  {
   "cell_type": "markdown",
   "id": "87c153f4-b394-42a4-92d2-d0184f8b8bc1",
   "metadata": {},
   "source": [
    "### 1.2 Define Functions and Parameters\n",
    "\n",
    "Define a function to convert a given perihelion distance (`q`) and eccentricity (`e`) to an orbital semi-major axis (`a`). Their relationship is defined by q = a(1-e)."
   ]
  },
  {
   "cell_type": "code",
   "execution_count": 2,
   "id": "394ab72f-c002-4b9d-b7fa-72e355ee41d0",
   "metadata": {
    "execution": {
     "iopub.execute_input": "2025-04-08T09:23:27.497179Z",
     "iopub.status.busy": "2025-04-08T09:23:27.496921Z",
     "iopub.status.idle": "2025-04-08T09:23:27.501010Z",
     "shell.execute_reply": "2025-04-08T09:23:27.500375Z",
     "shell.execute_reply.started": "2025-04-08T09:23:27.497154Z"
    },
    "tags": []
   },
   "outputs": [],
   "source": [
    "def calc_semimajor_axis(q, e):\n",
    "    \"\"\"\n",
    "    Given a perihelion distance and orbital eccentricity,\n",
    "      calculate the semi-major axis of the orbit.\n",
    "\n",
    "    Parameters\n",
    "    ----------\n",
    "    q: float\n",
    "        Distance at perihelion, in au.\n",
    "    e: float\n",
    "        Orbital eccentricity.\n",
    "\n",
    "    Returns\n",
    "    -------\n",
    "    a: float\n",
    "        Semi-major axis of the orbit, in au.\n",
    "        q = a(1-e), so a = q/(1-e)\n",
    "    \"\"\"\n",
    "\n",
    "    return q / (1.0 - e)"
   ]
  },
  {
   "cell_type": "markdown",
   "id": "0484b1ba-eafd-465a-8691-5c1ba3bcc208",
   "metadata": {},
   "source": [
    "## 2. Create the Rubin SSO TAP Service client\n",
    "\n",
    "The DP0.3 data sets are available via the Table Access Protocol (TAP) service,\n",
    "and can be accessed with ADQL (Astronomical Data Query Language) statements.\n",
    "\n",
    "TAP provides standardized access to catalog data for discovery, search, and retrieval.\n",
    "Full <a href=\"http://www.ivoa.net/documents/TAP\">documentation for TAP</a> is provided by the International Virtual Observatory Alliance (IVOA).\n",
    "ADQL is similar to SQL (Structured Query Langage).\n",
    "The <a href=\"http://www.ivoa.net/documents/latest/ADQL.html\">documentation for ADQL</a> includes more information about syntax and keywords.\n",
    "\n",
    "Get an instance of the SSO TAP service, and assert that it exists.\n",
    "\n",
    "> **Notice:** The DP0.3 TAP service is called `ssotap` (whereas `tap` is used for DP0.2)."
   ]
  },
  {
   "cell_type": "code",
   "execution_count": 3,
   "id": "a8daf49b-a897-479b-9524-f816bea54733",
   "metadata": {
    "execution": {
     "iopub.execute_input": "2025-04-08T09:23:27.504722Z",
     "iopub.status.busy": "2025-04-08T09:23:27.504128Z",
     "iopub.status.idle": "2025-04-08T09:23:27.597519Z",
     "shell.execute_reply": "2025-04-08T09:23:27.596708Z",
     "shell.execute_reply.started": "2025-04-08T09:23:27.504692Z"
    },
    "tags": []
   },
   "outputs": [],
   "source": [
    "service = get_tap_service(\"ssotap\")\n",
    "assert service is not None"
   ]
  },
  {
   "cell_type": "markdown",
   "id": "e7302673-cab0-4003-a3dd-d22b1a77a97b",
   "metadata": {},
   "source": [
    "## 3. The `MPCORB` table\n",
    "\n",
    "During Rubin Operations, Solar System Processing will occur in the daytime, after a night of observing.\n",
    "It will link together the difference-image detections of moving objects and report discoveries\n",
    "to the <a href=\"https://minorplanetcenter.net\">Minor Planet Center</a> (MPC),\n",
    "as well as compute derived properties (magnitudes, phase-curve fits, coordinates in various systems).\n",
    "\n",
    "The MPC will calculate the orbital parameters and these results will be passed back to Rubin, and stored\n",
    "and made available to users as the `MPCORB` table.\n",
    "The DP0.3 `MPCORB` table is a simulation of what this data product will be like after 10 years of LSST.\n",
    "\n",
    "> **Notice:** The MPC contains all reported moving objects in the Solar System, and is not limited to those detected by LSST. Thus, the `MPCORB` table will have more rows than the `SSObject` table.\n",
    "\n",
    "> **Notice:** For DP0.3, there was no fitting done by the MPC and the MPCORB table is the orbital elements used in the simulation (the `MPCORB` table is a truth table).\n",
    "\n",
    "For more information about Rubin's plans for Solar System Processing, see Section 3.2.2 of the \n",
    "<a href=\"https://docushare.lsstcorp.org/docushare/dsweb/Get/LSE-163/LSE-163_DataProductsDefinitionDocumentDPDD.pdf\">Data Products Definitions Document</a>.\n",
    "Note that there remain differences between Table 4 of the DPDD, which contains the anticipated schema \n",
    "for the moving object tables, and the DP0.3 table schemas."
   ]
  },
  {
   "cell_type": "markdown",
   "id": "cd15dac9-45bf-4a0f-9f32-5d31bb48a4d5",
   "metadata": {},
   "source": [
    "### 3.1. Size\n",
    "\n",
    "Use the TAP service to count of the number of rows in the `MPCORB` table."
   ]
  },
  {
   "cell_type": "code",
   "execution_count": 4,
   "id": "e965cf06-6e16-4117-a29b-97a6a8577fb2",
   "metadata": {
    "execution": {
     "iopub.execute_input": "2025-04-08T09:23:27.600832Z",
     "iopub.status.busy": "2025-04-08T09:23:27.600384Z",
     "iopub.status.idle": "2025-04-08T09:23:31.141530Z",
     "shell.execute_reply": "2025-04-08T09:23:31.140177Z",
     "shell.execute_reply.started": "2025-04-08T09:23:27.600801Z"
    },
    "tags": []
   },
   "outputs": [
    {
     "data": {
      "text/html": [
       "<div><i>Table length=1</i>\n",
       "<table id=\"table134972338212736\" class=\"table-striped table-bordered table-condensed\">\n",
       "<thead><tr><th>COUNT1</th></tr></thead>\n",
       "<thead><tr><th>int64</th></tr></thead>\n",
       "<tr><td>14462388</td></tr>\n",
       "</table></div>"
      ],
      "text/plain": [
       "<Table length=1>\n",
       " COUNT1 \n",
       " int64  \n",
       "--------\n",
       "14462388"
      ]
     },
     "execution_count": 4,
     "metadata": {},
     "output_type": "execute_result"
    }
   ],
   "source": [
    "results = service.search(\"SELECT COUNT(*) FROM dp03_catalogs_10yr.MPCORB\")\n",
    "results.to_table()"
   ]
  },
  {
   "cell_type": "markdown",
   "id": "1dfddcd0-0a73-4f41-9324-2fc590bb0fbf",
   "metadata": {},
   "source": [
    "There are roughly 14.5 million rows in the `MPCORB` table."
   ]
  },
  {
   "cell_type": "markdown",
   "id": "69152b41-0c0c-435c-884f-553ca4a682db",
   "metadata": {},
   "source": [
    "### 3.2. Columns\n",
    "\n",
    "Use the TAP service to query for the column information from `MPCORB`.\n",
    "\n",
    "Print the results as a `pandas` table."
   ]
  },
  {
   "cell_type": "code",
   "execution_count": 5,
   "id": "d24359a4-6f1a-433b-84cf-b9184f4f673f",
   "metadata": {
    "execution": {
     "iopub.execute_input": "2025-04-08T09:23:31.146414Z",
     "iopub.status.busy": "2025-04-08T09:23:31.146020Z",
     "iopub.status.idle": "2025-04-08T09:23:31.340435Z",
     "shell.execute_reply": "2025-04-08T09:23:31.339537Z",
     "shell.execute_reply.started": "2025-04-08T09:23:31.146376Z"
    },
    "tags": []
   },
   "outputs": [
    {
     "data": {
      "text/html": [
       "<div>\n",
       "<style scoped>\n",
       "    .dataframe tbody tr th:only-of-type {\n",
       "        vertical-align: middle;\n",
       "    }\n",
       "\n",
       "    .dataframe tbody tr th {\n",
       "        vertical-align: top;\n",
       "    }\n",
       "\n",
       "    .dataframe thead th {\n",
       "        text-align: right;\n",
       "    }\n",
       "</style>\n",
       "<table border=\"1\" class=\"dataframe\">\n",
       "  <thead>\n",
       "    <tr style=\"text-align: right;\">\n",
       "      <th></th>\n",
       "      <th>column_name</th>\n",
       "      <th>datatype</th>\n",
       "      <th>description</th>\n",
       "      <th>unit</th>\n",
       "    </tr>\n",
       "  </thead>\n",
       "  <tbody>\n",
       "    <tr>\n",
       "      <th>0</th>\n",
       "      <td>arc</td>\n",
       "      <td>float</td>\n",
       "      <td>MPCORB: Arc (days), for single-opposition objects</td>\n",
       "      <td>d</td>\n",
       "    </tr>\n",
       "    <tr>\n",
       "      <th>1</th>\n",
       "      <td>arcEnd</td>\n",
       "      <td>char</td>\n",
       "      <td>MPCORB: Year of last observation (for multi-op...</td>\n",
       "      <td></td>\n",
       "    </tr>\n",
       "    <tr>\n",
       "      <th>2</th>\n",
       "      <td>arcStart</td>\n",
       "      <td>char</td>\n",
       "      <td>MPCORB: Year of first observation (for multi-o...</td>\n",
       "      <td></td>\n",
       "    </tr>\n",
       "    <tr>\n",
       "      <th>3</th>\n",
       "      <td>computer</td>\n",
       "      <td>char</td>\n",
       "      <td>MPCORB: Computer name</td>\n",
       "      <td></td>\n",
       "    </tr>\n",
       "    <tr>\n",
       "      <th>4</th>\n",
       "      <td>e</td>\n",
       "      <td>double</td>\n",
       "      <td>MPCORB: Orbital eccentricity</td>\n",
       "      <td></td>\n",
       "    </tr>\n",
       "    <tr>\n",
       "      <th>5</th>\n",
       "      <td>epoch</td>\n",
       "      <td>double</td>\n",
       "      <td>MPCORB: Epoch (in MJD, .0 TT)</td>\n",
       "      <td>d</td>\n",
       "    </tr>\n",
       "    <tr>\n",
       "      <th>6</th>\n",
       "      <td>flags</td>\n",
       "      <td>int</td>\n",
       "      <td>MPCORB: 4-hexdigit flags. See https://minorpla...</td>\n",
       "      <td></td>\n",
       "    </tr>\n",
       "    <tr>\n",
       "      <th>7</th>\n",
       "      <td>fullDesignation</td>\n",
       "      <td>char</td>\n",
       "      <td>MPCORB: Readable designation</td>\n",
       "      <td></td>\n",
       "    </tr>\n",
       "    <tr>\n",
       "      <th>8</th>\n",
       "      <td>incl</td>\n",
       "      <td>double</td>\n",
       "      <td>MPCORB: Inclination to the ecliptic, J2000.0 (...</td>\n",
       "      <td>deg</td>\n",
       "    </tr>\n",
       "    <tr>\n",
       "      <th>9</th>\n",
       "      <td>lastIncludedObservation</td>\n",
       "      <td>float</td>\n",
       "      <td>MPCORB: Date of last observation included in o...</td>\n",
       "      <td>d</td>\n",
       "    </tr>\n",
       "    <tr>\n",
       "      <th>10</th>\n",
       "      <td>mpcDesignation</td>\n",
       "      <td>char</td>\n",
       "      <td>MPCORB: Number or provisional designation (in ...</td>\n",
       "      <td></td>\n",
       "    </tr>\n",
       "    <tr>\n",
       "      <th>11</th>\n",
       "      <td>mpcG</td>\n",
       "      <td>float</td>\n",
       "      <td>MPCORB: Slope parameter, G</td>\n",
       "      <td></td>\n",
       "    </tr>\n",
       "    <tr>\n",
       "      <th>12</th>\n",
       "      <td>mpcH</td>\n",
       "      <td>float</td>\n",
       "      <td>MPCORB: Absolute magnitude, H</td>\n",
       "      <td>mag</td>\n",
       "    </tr>\n",
       "    <tr>\n",
       "      <th>13</th>\n",
       "      <td>mpcNumber</td>\n",
       "      <td>int</td>\n",
       "      <td>MPC number (if the asteroid has been numbered;...</td>\n",
       "      <td></td>\n",
       "    </tr>\n",
       "    <tr>\n",
       "      <th>14</th>\n",
       "      <td>n</td>\n",
       "      <td>double</td>\n",
       "      <td>MPCORB: Mean daily motion (degrees per day)</td>\n",
       "      <td>deg/d</td>\n",
       "    </tr>\n",
       "    <tr>\n",
       "      <th>15</th>\n",
       "      <td>nobs</td>\n",
       "      <td>int</td>\n",
       "      <td>MPCORB: Number of observations</td>\n",
       "      <td></td>\n",
       "    </tr>\n",
       "    <tr>\n",
       "      <th>16</th>\n",
       "      <td>node</td>\n",
       "      <td>double</td>\n",
       "      <td>MPCORB: Longitude of the ascending node, J2000...</td>\n",
       "      <td>deg</td>\n",
       "    </tr>\n",
       "    <tr>\n",
       "      <th>17</th>\n",
       "      <td>nopp</td>\n",
       "      <td>int</td>\n",
       "      <td>MPCORB: Number of oppositions</td>\n",
       "      <td></td>\n",
       "    </tr>\n",
       "    <tr>\n",
       "      <th>18</th>\n",
       "      <td>peri</td>\n",
       "      <td>double</td>\n",
       "      <td>MPCORB: Argument of perihelion, J2000.0 (degrees)</td>\n",
       "      <td>deg</td>\n",
       "    </tr>\n",
       "    <tr>\n",
       "      <th>19</th>\n",
       "      <td>pertsLong</td>\n",
       "      <td>char</td>\n",
       "      <td>MPCORB: Precise indicator of perturbers (blank...</td>\n",
       "      <td></td>\n",
       "    </tr>\n",
       "    <tr>\n",
       "      <th>20</th>\n",
       "      <td>pertsShort</td>\n",
       "      <td>char</td>\n",
       "      <td>MPCORB: Coarse indicator of perturbers (blank ...</td>\n",
       "      <td></td>\n",
       "    </tr>\n",
       "    <tr>\n",
       "      <th>21</th>\n",
       "      <td>q</td>\n",
       "      <td>double</td>\n",
       "      <td>MPCORB: Perihelion distance (AU)</td>\n",
       "      <td>AU</td>\n",
       "    </tr>\n",
       "    <tr>\n",
       "      <th>22</th>\n",
       "      <td>reference</td>\n",
       "      <td>char</td>\n",
       "      <td>MPCORB: Reference</td>\n",
       "      <td></td>\n",
       "    </tr>\n",
       "    <tr>\n",
       "      <th>23</th>\n",
       "      <td>rms</td>\n",
       "      <td>float</td>\n",
       "      <td>MPCORB: r.m.s residual (\")</td>\n",
       "      <td>arcsec</td>\n",
       "    </tr>\n",
       "    <tr>\n",
       "      <th>24</th>\n",
       "      <td>ssObjectId</td>\n",
       "      <td>long</td>\n",
       "      <td>LSST unique identifier (if observed by LSST)</td>\n",
       "      <td></td>\n",
       "    </tr>\n",
       "    <tr>\n",
       "      <th>25</th>\n",
       "      <td>tperi</td>\n",
       "      <td>double</td>\n",
       "      <td>MPCORB: MJD of pericentric passage</td>\n",
       "      <td>d</td>\n",
       "    </tr>\n",
       "    <tr>\n",
       "      <th>26</th>\n",
       "      <td>uncertaintyParameter</td>\n",
       "      <td>char</td>\n",
       "      <td>MPCORB: Uncertainty parameter, U</td>\n",
       "      <td></td>\n",
       "    </tr>\n",
       "  </tbody>\n",
       "</table>\n",
       "</div>"
      ],
      "text/plain": [
       "                column_name datatype  \\\n",
       "0                       arc    float   \n",
       "1                    arcEnd     char   \n",
       "2                  arcStart     char   \n",
       "3                  computer     char   \n",
       "4                         e   double   \n",
       "5                     epoch   double   \n",
       "6                     flags      int   \n",
       "7           fullDesignation     char   \n",
       "8                      incl   double   \n",
       "9   lastIncludedObservation    float   \n",
       "10           mpcDesignation     char   \n",
       "11                     mpcG    float   \n",
       "12                     mpcH    float   \n",
       "13                mpcNumber      int   \n",
       "14                        n   double   \n",
       "15                     nobs      int   \n",
       "16                     node   double   \n",
       "17                     nopp      int   \n",
       "18                     peri   double   \n",
       "19                pertsLong     char   \n",
       "20               pertsShort     char   \n",
       "21                        q   double   \n",
       "22                reference     char   \n",
       "23                      rms    float   \n",
       "24               ssObjectId     long   \n",
       "25                    tperi   double   \n",
       "26     uncertaintyParameter     char   \n",
       "\n",
       "                                          description    unit  \n",
       "0   MPCORB: Arc (days), for single-opposition objects       d  \n",
       "1   MPCORB: Year of last observation (for multi-op...          \n",
       "2   MPCORB: Year of first observation (for multi-o...          \n",
       "3                               MPCORB: Computer name          \n",
       "4                        MPCORB: Orbital eccentricity          \n",
       "5                       MPCORB: Epoch (in MJD, .0 TT)       d  \n",
       "6   MPCORB: 4-hexdigit flags. See https://minorpla...          \n",
       "7                        MPCORB: Readable designation          \n",
       "8   MPCORB: Inclination to the ecliptic, J2000.0 (...     deg  \n",
       "9   MPCORB: Date of last observation included in o...       d  \n",
       "10  MPCORB: Number or provisional designation (in ...          \n",
       "11                         MPCORB: Slope parameter, G          \n",
       "12                      MPCORB: Absolute magnitude, H     mag  \n",
       "13  MPC number (if the asteroid has been numbered;...          \n",
       "14        MPCORB: Mean daily motion (degrees per day)   deg/d  \n",
       "15                     MPCORB: Number of observations          \n",
       "16  MPCORB: Longitude of the ascending node, J2000...     deg  \n",
       "17                      MPCORB: Number of oppositions          \n",
       "18  MPCORB: Argument of perihelion, J2000.0 (degrees)     deg  \n",
       "19  MPCORB: Precise indicator of perturbers (blank...          \n",
       "20  MPCORB: Coarse indicator of perturbers (blank ...          \n",
       "21                   MPCORB: Perihelion distance (AU)      AU  \n",
       "22                                  MPCORB: Reference          \n",
       "23                         MPCORB: r.m.s residual (\")  arcsec  \n",
       "24       LSST unique identifier (if observed by LSST)          \n",
       "25                 MPCORB: MJD of pericentric passage       d  \n",
       "26                   MPCORB: Uncertainty parameter, U          "
      ]
     },
     "execution_count": 5,
     "metadata": {},
     "output_type": "execute_result"
    }
   ],
   "source": [
    "results = service.search(\"SELECT column_name, datatype, description, \"\n",
    "                         \"       unit from TAP_SCHEMA.columns \"\n",
    "                         \"WHERE table_name = 'dp03_catalogs_10yr.MPCORB'\")\n",
    "results.to_table().to_pandas()"
   ]
  },
  {
   "cell_type": "markdown",
   "id": "50c4dcdf-9e70-4c56-aa2b-15c7bc6feb65",
   "metadata": {},
   "source": [
    "### 3.3. Retrieve a random subset\n",
    "\n",
    "To retrieve a random subset of rows, make use of the fact that `ssObjectId` is a randomly assigned 64-bit long unsigned integer. \n",
    "Since ADQL interprets a 64-bit long unsigned integer as a 63-bit _signed_ integer, \n",
    "these range from a very large negative integer value to a very large positive integer value.\n",
    "This will be fixed in the future so that all identifiers are positive numbers.\n",
    "\n",
    "> **Notice:** By using `ssObjectId`, the following query returns a random subset of `MPCORB` rows *that are associated with a row in the `SSObject` table*. In other words, this limits the query to only retrieve moving objects from the `MPCORB` table that have been detected by LSST.\n",
    "\n"
   ]
  },
  {
   "cell_type": "markdown",
   "id": "086af243-a5fe-4bc3-b7d9-57595cb0c637",
   "metadata": {},
   "source": [
    "Define a search range for `ssObjectId` that would return no more than 1% of all objects in `MPCORB` by estimating a new minimum `ssObjectId` that is 1% _below_ the maximum `ssObjectId` for the full range of `ssObjectId` values.\n",
    "\n",
    "> **Notice:** Since the _range_ of `ssObjectId`'s (-9223370383071521539 --> +9223370875126069107) is much larger than the number of _rows_ in the `MPCORB` table (14600302), don't expect to get _exactly_ 1% of the rows from `MPCORB` via this method. The result will have approximately 1%, as long as the `ssObjectId` values are distributed reasonably uniformly over their large range.\n"
   ]
  },
  {
   "cell_type": "markdown",
   "id": "6ab5d7bb-6c76-4a06-9086-d6d92d458ce3",
   "metadata": {
    "execution": {
     "iopub.execute_input": "2023-06-27T22:39:44.565969Z",
     "iopub.status.busy": "2023-06-27T22:39:44.565076Z",
     "iopub.status.idle": "2023-06-27T22:39:44.570822Z",
     "shell.execute_reply": "2023-06-27T22:39:44.569984Z",
     "shell.execute_reply.started": "2023-06-27T22:39:44.565938Z"
    },
    "tags": []
   },
   "source": [
    "Execute the search, and retrieve all (\\*) columns from the `MPCORB` table."
   ]
  },
  {
   "cell_type": "markdown",
   "id": "bfff1a2e-21ea-4ef4-9063-5f0bfac18b4f",
   "metadata": {},
   "source": [
    "Define query."
   ]
  },
  {
   "cell_type": "code",
   "execution_count": 6,
   "id": "94bde06e-a1eb-4c57-82ac-2a02a17d30e2",
   "metadata": {
    "execution": {
     "iopub.execute_input": "2025-04-08T09:23:31.345617Z",
     "iopub.status.busy": "2025-04-08T09:23:31.345146Z",
     "iopub.status.idle": "2025-04-08T09:23:31.350357Z",
     "shell.execute_reply": "2025-04-08T09:23:31.349174Z",
     "shell.execute_reply.started": "2025-04-08T09:23:31.345581Z"
    }
   },
   "outputs": [],
   "source": [
    "query = \"\"\"SELECT * FROM dp03_catalogs_10yr.MPCORB \n",
    "              WHERE ssObjectId BETWEEN 9038903462544093184 \n",
    "              AND 9223370875126069107\"\"\""
   ]
  },
  {
   "cell_type": "markdown",
   "id": "1bd96843-2309-4f06-9c12-47faad0305ea",
   "metadata": {},
   "source": [
    "Submit asynchronous query."
   ]
  },
  {
   "cell_type": "code",
   "execution_count": 7,
   "id": "e1fc92d6-06ae-410b-8e95-6ad759d4c51e",
   "metadata": {
    "execution": {
     "iopub.execute_input": "2025-04-08T09:23:31.355067Z",
     "iopub.status.busy": "2025-04-08T09:23:31.354721Z",
     "iopub.status.idle": "2025-04-08T09:24:05.155037Z",
     "shell.execute_reply": "2025-04-08T09:24:05.153930Z",
     "shell.execute_reply.started": "2025-04-08T09:23:31.355038Z"
    }
   },
   "outputs": [
    {
     "name": "stdout",
     "output_type": "stream",
     "text": [
      "Job phase is COMPLETED\n"
     ]
    }
   ],
   "source": [
    "job = service.submit_job(query)\n",
    "job.run()\n",
    "job.wait(phases=['COMPLETED', 'ERROR'])\n",
    "print('Job phase is', job.phase)\n",
    "results = job.fetch_result()\n",
    "assert job.phase == 'COMPLETED'"
   ]
  },
  {
   "cell_type": "markdown",
   "id": "0e2fb6d0-dddf-4c35-aa1d-561f7fcf29a8",
   "metadata": {},
   "source": [
    "Store the results in `df` as a `pandas` dataframe."
   ]
  },
  {
   "cell_type": "code",
   "execution_count": 8,
   "id": "f286f6a7-e5ec-4bf4-978a-26abbe71bf6c",
   "metadata": {
    "execution": {
     "iopub.execute_input": "2025-04-08T09:24:05.159492Z",
     "iopub.status.busy": "2025-04-08T09:24:05.159130Z",
     "iopub.status.idle": "2025-04-08T09:24:05.472639Z",
     "shell.execute_reply": "2025-04-08T09:24:05.471973Z",
     "shell.execute_reply.started": "2025-04-08T09:24:05.159459Z"
    }
   },
   "outputs": [],
   "source": [
    "df = results.to_table().to_pandas()"
   ]
  },
  {
   "cell_type": "code",
   "execution_count": 9,
   "id": "ad9e8cbd-9555-4adb-bb33-826ba4f12d18",
   "metadata": {
    "execution": {
     "iopub.execute_input": "2025-04-08T09:24:05.475065Z",
     "iopub.status.busy": "2025-04-08T09:24:05.474878Z",
     "iopub.status.idle": "2025-04-08T09:24:05.478407Z",
     "shell.execute_reply": "2025-04-08T09:24:05.477875Z",
     "shell.execute_reply.started": "2025-04-08T09:24:05.475048Z"
    }
   },
   "outputs": [
    {
     "name": "stdout",
     "output_type": "stream",
     "text": [
      "144472\n"
     ]
    }
   ],
   "source": [
    "print(len(df))"
   ]
  },
  {
   "cell_type": "markdown",
   "id": "528bd445-2510-4fbd-985e-f33c91f3e47f",
   "metadata": {},
   "source": [
    "144,472 rows were returned, which -- _as expected_ -- is almost (but not exactly) 1% of the 14,462,388 rows in the `MPCORB` table.  \n",
    "\n",
    "> **Notice:** There are several columns that currently contain `NaN` (not a number) values.\n",
    "For the simulated DP0.3 data these columns might be replaced in the near future, \n",
    "and for real data releases there will not be all-`NaN` columns.  If desired, users can drop all-`NaN` columns with, e.g., `df.dropna(axis=1, how='all', inplace=True)`.\n",
    "However the better practice is to understand the columns and retrieve only what you are going to use."
   ]
  },
  {
   "cell_type": "markdown",
   "id": "9721c47c-6302-4e0c-8d38-3825ff86266c",
   "metadata": {},
   "source": [
    "### 3.4. Plot histograms of selected columns\n",
    "\n",
    "Wikipedia provides a decent <a href=\"https://en.wikipedia.org/wiki/Orbital_elements\">beginner-level guide to orbital elements</a>.\n",
    "\n",
    "For a quick reference, distributions are shown below for five key orbital elements\n",
    "and the absolute $H$ magnitude (see Section 4.3 for a description of $H$)."
   ]
  },
  {
   "cell_type": "code",
   "execution_count": 10,
   "id": "478cba37-0c97-4132-83e5-6bde2083b6bc",
   "metadata": {
    "execution": {
     "iopub.execute_input": "2025-04-08T09:24:05.479075Z",
     "iopub.status.busy": "2025-04-08T09:24:05.478903Z",
     "iopub.status.idle": "2025-04-08T09:24:07.988393Z",
     "shell.execute_reply": "2025-04-08T09:24:07.987721Z",
     "shell.execute_reply.started": "2025-04-08T09:24:05.479060Z"
    },
    "tags": []
   },
   "outputs": [
    {
     "data": {
      "image/png": "[encoded data removed]",
      "text/plain": [
       "<Figure size 1000x600 with 6 Axes>"
      ]
     },
     "metadata": {},
     "output_type": "display_data"
    }
   ],
   "source": [
    "fig, ax = plt.subplots(2, 3, figsize=(10, 6), sharey=False)\n",
    "ax[0, 0].hist(df['e'], bins=100, log=True)\n",
    "ax[0, 0].set_xlabel('Eccentricity')\n",
    "ax[0, 0].set_ylabel('log(Number)')\n",
    "ax[0, 1].hist(df['incl'], bins=100, log=True)\n",
    "ax[0, 1].set_xlabel('Inclination (deg)')\n",
    "ax[0, 1].set_ylabel('log(Number)')\n",
    "ax[0, 2].hist(df['mpcH'], bins=100, log=True)\n",
    "ax[0, 2].set_xlabel('Absolute Magnitude, H (mag)')\n",
    "ax[0, 2].set_ylabel('log(Number)')\n",
    "ax[1, 0].hist(df['node'], bins=50)\n",
    "ax[1, 0].set_xlabel('Longitude of Ascending Node (deg)')\n",
    "ax[1, 0].set_ylabel('Number')\n",
    "ax[1, 0].set_ylim(0,3500)\n",
    "ax[1, 1].hist(df['peri'], bins=50)\n",
    "ax[1, 1].set_xlabel('Argument of Perihelion (deg)')\n",
    "ax[1, 1].set_ylabel('Number')\n",
    "ax[1, 1].set_ylim(0,3500)\n",
    "ax[1, 2].hist(df['q'], bins=100, log=True)\n",
    "ax[1, 2].set_xlabel('Perihelion Distance (au)')\n",
    "ax[1, 2].set_ylabel('log(Number)')\n",
    "fig.suptitle('Histograms for Key Orbital Elements')\n",
    "fig.tight_layout()\n",
    "plt.show()"
   ]
  },
  {
   "cell_type": "markdown",
   "id": "242b5cb8-0431-44e8-9aa1-2fb449845cc9",
   "metadata": {},
   "source": [
    "> **Figure 1**: Six histograms showing the (log) number of solar system objects in the `MPCORB` table as a function of their eccentricity, inclination, absolute H magnitude, longitude of the ascending node, argument of perihelion, and perihelion distance (from upper left to lower ight)."
   ]
  },
  {
   "cell_type": "markdown",
   "id": "463704a9-dc73-4f7c-abfd-43b2f9731539",
   "metadata": {
    "execution": {
     "iopub.execute_input": "2023-06-17T15:47:28.771164Z",
     "iopub.status.busy": "2023-06-17T15:47:28.770077Z",
     "iopub.status.idle": "2023-06-17T15:47:28.774678Z",
     "shell.execute_reply": "2023-06-17T15:47:28.773860Z",
     "shell.execute_reply.started": "2023-06-17T15:47:28.771122Z"
    },
    "tags": []
   },
   "source": [
    "## 4. The `SSObject` table\n",
    "\n",
    "During Rubin Operations, Prompt Processing will occur during the night, detecting sources in \n",
    "difference images (`DiaSources`) and associating them into static-sky transients\n",
    "and variables (`DiaObjects`, not included in DP0.3).\n",
    "\n",
    "The Solar System Processing which occurs in the daytime, after a night of observing,\n",
    "links together the `DiaSources` for moving objects into `SSObjects`.\n",
    "Whereas the `MPCORB` table contains the orbital elements for these moving objects,\n",
    "the `SSObjects` contains the Rubin-measured properties such as phase curve fits and absolute magnitudes.\n",
    "\n",
    "> **Notice:** no artifacts or spurious difference-image sources have been injected into the DP0.3 catalogs.\n",
    "\n",
    "> **Notice:** although there are columns for them, no _u-_ or _Y_-band data were simulated for DP0.3.  Unless noted, ignore _u-_ or _Y_-band data for the remainder of this notebook.\n",
    "\n",
    "### 4.1. Size\n",
    "\n",
    "Use the ADQL count function to return the number of rows in the `SSObject` table."
   ]
  },
  {
   "cell_type": "code",
   "execution_count": 11,
   "id": "cd943cfe-7c32-49da-b2eb-af12cf3b78b2",
   "metadata": {
    "execution": {
     "iopub.execute_input": "2025-04-08T09:24:07.989397Z",
     "iopub.status.busy": "2025-04-08T09:24:07.989165Z",
     "iopub.status.idle": "2025-04-08T09:24:08.656866Z",
     "shell.execute_reply": "2025-04-08T09:24:08.655948Z",
     "shell.execute_reply.started": "2025-04-08T09:24:07.989376Z"
    },
    "tags": []
   },
   "outputs": [
    {
     "data": {
      "text/html": [
       "<div>\n",
       "<style scoped>\n",
       "    .dataframe tbody tr th:only-of-type {\n",
       "        vertical-align: middle;\n",
       "    }\n",
       "\n",
       "    .dataframe tbody tr th {\n",
       "        vertical-align: top;\n",
       "    }\n",
       "\n",
       "    .dataframe thead th {\n",
       "        text-align: right;\n",
       "    }\n",
       "</style>\n",
       "<table border=\"1\" class=\"dataframe\">\n",
       "  <thead>\n",
       "    <tr style=\"text-align: right;\">\n",
       "      <th></th>\n",
       "      <th>COUNT1</th>\n",
       "    </tr>\n",
       "  </thead>\n",
       "  <tbody>\n",
       "    <tr>\n",
       "      <th>0</th>\n",
       "      <td>4443479</td>\n",
       "    </tr>\n",
       "  </tbody>\n",
       "</table>\n",
       "</div>"
      ],
      "text/plain": [
       "    COUNT1\n",
       "0  4443479"
      ]
     },
     "execution_count": 11,
     "metadata": {},
     "output_type": "execute_result"
    }
   ],
   "source": [
    "results = service.search(\"SELECT COUNT(*) from dp03_catalogs_10yr.SSObject\")\n",
    "results.to_table().to_pandas()"
   ]
  },
  {
   "cell_type": "markdown",
   "id": "56f8dad2-5f9a-4393-960c-f652440ed3b1",
   "metadata": {},
   "source": [
    "The DP0.3 data set contains 4.4 million solar system objects detected by Rubin.\n",
    "\n",
    "This is less than the 14.5 million objects in the `MPCORB` catalog.\n",
    "It is left as an exercise for the learner to determine the characteristics of those \n",
    "objects from the `MPCORB` table are missing from the `SSObject` table."
   ]
  },
  {
   "cell_type": "markdown",
   "id": "e4c7043b-4fc4-4c46-a819-9c3bdfed379a",
   "metadata": {},
   "source": [
    "### 4.2. Retrieve a random subset\n",
    "\n",
    "Use essentially the same query as was used for the `MPCORB` table, above."
   ]
  },
  {
   "cell_type": "markdown",
   "id": "d27d03d6-91c5-4ec2-991f-8477a4e70fba",
   "metadata": {
    "tags": []
   },
   "source": [
    "Define query."
   ]
  },
  {
   "cell_type": "code",
   "execution_count": 12,
   "id": "4623d230-b4f5-49ba-9bdf-db283a6a19f9",
   "metadata": {
    "execution": {
     "iopub.execute_input": "2025-04-08T09:24:08.663583Z",
     "iopub.status.busy": "2025-04-08T09:24:08.663062Z",
     "iopub.status.idle": "2025-04-08T09:24:08.667891Z",
     "shell.execute_reply": "2025-04-08T09:24:08.666970Z",
     "shell.execute_reply.started": "2025-04-08T09:24:08.663541Z"
    }
   },
   "outputs": [],
   "source": [
    "query = \"\"\"SELECT * FROM dp03_catalogs_10yr.ssObject \n",
    "                WHERE ssObjectId BETWEEN 9038903462544093184 \n",
    "                AND 9223370875126069107\"\"\"\n"
   ]
  },
  {
   "cell_type": "markdown",
   "id": "574d6c23-54f0-4731-ad8a-b940701143eb",
   "metadata": {},
   "source": [
    "Submit asynchronous query."
   ]
  },
  {
   "cell_type": "code",
   "execution_count": 13,
   "id": "9eed8a78-e6f9-4432-92aa-cd40672b253d",
   "metadata": {
    "execution": {
     "iopub.execute_input": "2025-04-08T09:24:08.668971Z",
     "iopub.status.busy": "2025-04-08T09:24:08.668678Z",
     "iopub.status.idle": "2025-04-08T09:24:30.992728Z",
     "shell.execute_reply": "2025-04-08T09:24:30.992097Z",
     "shell.execute_reply.started": "2025-04-08T09:24:08.668945Z"
    }
   },
   "outputs": [
    {
     "name": "stdout",
     "output_type": "stream",
     "text": [
      "Job phase is COMPLETED\n"
     ]
    }
   ],
   "source": [
    "job = service.submit_job(query)\n",
    "job.run()\n",
    "job.wait(phases=['COMPLETED', 'ERROR'])\n",
    "print('Job phase is', job.phase)\n",
    "results = job.fetch_result()\n",
    "assert job.phase == 'COMPLETED'"
   ]
  },
  {
   "cell_type": "markdown",
   "id": "387cd83a-a08f-4047-ae61-2d3a0633b995",
   "metadata": {},
   "source": [
    "Store the results in df as a pandas dataframe."
   ]
  },
  {
   "cell_type": "code",
   "execution_count": 14,
   "id": "dcb474d8-2081-419f-9c79-6e1cfae45164",
   "metadata": {
    "execution": {
     "iopub.execute_input": "2025-04-08T09:24:30.993647Z",
     "iopub.status.busy": "2025-04-08T09:24:30.993422Z",
     "iopub.status.idle": "2025-04-08T09:24:31.072960Z",
     "shell.execute_reply": "2025-04-08T09:24:31.072311Z",
     "shell.execute_reply.started": "2025-04-08T09:24:30.993629Z"
    }
   },
   "outputs": [],
   "source": [
    "df = results.to_table().to_pandas()"
   ]
  },
  {
   "cell_type": "code",
   "execution_count": 15,
   "id": "d81aaf79-8f23-48da-9769-fd69296b3e15",
   "metadata": {
    "execution": {
     "iopub.execute_input": "2025-04-08T09:24:31.074424Z",
     "iopub.status.busy": "2025-04-08T09:24:31.073752Z",
     "iopub.status.idle": "2025-04-08T09:24:31.078039Z",
     "shell.execute_reply": "2025-04-08T09:24:31.077539Z",
     "shell.execute_reply.started": "2025-04-08T09:24:31.074393Z"
    }
   },
   "outputs": [
    {
     "name": "stdout",
     "output_type": "stream",
     "text": [
      "44611\n"
     ]
    }
   ],
   "source": [
    "print(len(df))"
   ]
  },
  {
   "cell_type": "markdown",
   "id": "4cd4af29-a072-4361-b65b-5979d4812783",
   "metadata": {
    "execution": {
     "iopub.execute_input": "2023-06-27T21:51:31.545543Z",
     "iopub.status.busy": "2023-06-27T21:51:31.545077Z",
     "iopub.status.idle": "2023-06-27T21:51:31.549274Z",
     "shell.execute_reply": "2023-06-27T21:51:31.548724Z",
     "shell.execute_reply.started": "2023-06-27T21:51:31.545521Z"
    },
    "tags": []
   },
   "source": [
    "There are 44611 rows."
   ]
  },
  {
   "cell_type": "markdown",
   "id": "f5c93746-8820-4dc1-8102-4d67b393b542",
   "metadata": {},
   "source": [
    "### 4.3. Plot a color-color diagram\n",
    "\n",
    "Before calculating and plotting the colors, drop all of the rows for which the phase-curve fits were not successful for g, r, i, and/or z bands."
   ]
  },
  {
   "cell_type": "code",
   "execution_count": 16,
   "id": "937fb5ee-ef7b-4ef3-98ea-8d7237fe2a95",
   "metadata": {
    "execution": {
     "iopub.execute_input": "2025-04-08T09:24:31.079174Z",
     "iopub.status.busy": "2025-04-08T09:24:31.078673Z",
     "iopub.status.idle": "2025-04-08T09:24:31.097142Z",
     "shell.execute_reply": "2025-04-08T09:24:31.096541Z",
     "shell.execute_reply.started": "2025-04-08T09:24:31.079154Z"
    },
    "tags": []
   },
   "outputs": [
    {
     "name": "stdout",
     "output_type": "stream",
     "text": [
      "Number of rows after dropping rows: 30853\n"
     ]
    }
   ],
   "source": [
    "df.dropna(subset=['g_H', 'r_H', 'i_H', 'z_H'], inplace=True)\n",
    "df.reset_index(inplace=True)\n",
    "print('Number of rows after dropping rows: %d' % len(df))"
   ]
  },
  {
   "cell_type": "markdown",
   "id": "00180672-d7d6-40df-9d85-c51bb298dce6",
   "metadata": {},
   "source": [
    "For Solar System objects, absolute magnitudes are defined to be for an object 1 au from the Sun and 1 au \n",
    "from the observer, and at a phase angle (the angle Sun-object-Earth) of 0 degrees.\n",
    "\n",
    "Absolute magnitudes are derived by correcting for distance, fitting a function to the relationship between \n",
    "absolute magnitude and phase, and evaluating the function at a phase of 0 deg.\n",
    "\n",
    "Calculate colors in the Rubin filters for the `SSObjects` that have absolute magnitudes."
   ]
  },
  {
   "cell_type": "code",
   "execution_count": 17,
   "id": "16eeddc9-f0dc-470c-ab96-252b4cfc66f6",
   "metadata": {
    "execution": {
     "iopub.execute_input": "2025-04-08T09:24:31.098232Z",
     "iopub.status.busy": "2025-04-08T09:24:31.097813Z",
     "iopub.status.idle": "2025-04-08T09:24:31.103700Z",
     "shell.execute_reply": "2025-04-08T09:24:31.103153Z",
     "shell.execute_reply.started": "2025-04-08T09:24:31.098211Z"
    },
    "tags": []
   },
   "outputs": [],
   "source": [
    "df['gr'] = df['g_H'] - df['r_H']\n",
    "df['ri'] = df['r_H'] - df['i_H']\n",
    "df['iz'] = df['i_H'] - df['z_H']"
   ]
  },
  {
   "cell_type": "markdown",
   "id": "8296082b-a528-4abd-92ce-52707da8ccc4",
   "metadata": {},
   "source": [
    "Plot color-color diagrams as 2-dimensional histograms (heatmaps)."
   ]
  },
  {
   "cell_type": "code",
   "execution_count": 18,
   "id": "649578b9-496c-4703-8938-b3084d37cfd2",
   "metadata": {
    "execution": {
     "iopub.execute_input": "2025-04-08T09:24:31.104594Z",
     "iopub.status.busy": "2025-04-08T09:24:31.104377Z",
     "iopub.status.idle": "2025-04-08T09:24:31.796227Z",
     "shell.execute_reply": "2025-04-08T09:24:31.795612Z",
     "shell.execute_reply.started": "2025-04-08T09:24:31.104576Z"
    },
    "tags": []
   },
   "outputs": [
    {
     "data": {
      "image/png": "[encoded data removed]",
      "text/plain": [
       "<Figure size 800x300 with 4 Axes>"
      ]
     },
     "metadata": {},
     "output_type": "display_data"
    }
   ],
   "source": [
    "fig, ax = plt.subplots(1, 2, figsize=(8, 3))\n",
    "\n",
    "h = ax[0].hist2d(df['gr'], df['ri'],\n",
    "                 bins=(np.arange(-0.5, 1.5, 0.01),\n",
    "                       np.arange(-0.5, 0.75, 0.01)),\n",
    "                 norm='log')\n",
    "ax[0].set_xlabel('g - r')\n",
    "ax[0].set_ylabel('r - i')\n",
    "ax[0].grid()\n",
    "plt.colorbar(h[3])\n",
    "\n",
    "h = ax[1].hist2d(df['ri'], df['iz'],\n",
    "                 bins=(np.arange(-0.5, 0.75, 0.01),\n",
    "                       np.arange(-0.75, 0.5, 0.01)),\n",
    "                 norm='log')\n",
    "ax[1].set_xlabel('r - i')\n",
    "ax[1].set_ylabel('i - z')\n",
    "ax[1].grid()\n",
    "plt.colorbar(h[3])\n",
    "\n",
    "fig.suptitle('Color-Color Plots for the SSObject Catalog')\n",
    "fig.tight_layout()\n",
    "plt.show()"
   ]
  },
  {
   "cell_type": "markdown",
   "id": "653f251d-a172-4cda-b3c5-0aeecf28d8e6",
   "metadata": {},
   "source": [
    "> **Figure 2:** Two panels showing color-color plots for the retrieved subset of the `SSObject` catalog. At left, the $r-i$ vs. $g-r$ color and at right, the $i-z$ versus $r-i$ color. In both panels, the color distribution is bimodal.\n",
    "\n",
    "As shown in the figure above, there are two colors used in the simulation - but this is not the case for real Solar System objects.\n",
    "These plots will look very different in the future, when they are made with real Rubin data."
   ]
  },
  {
   "cell_type": "markdown",
   "id": "ef9ba117-4a6c-4a4c-9b82-5b74a9c40001",
   "metadata": {},
   "source": [
    "## 5. The `SSSource` table\n",
    "\n",
    "As described above, Solar System Processing links together the `DiaSources` (detections in the\n",
    "individual difference images) from moving objects into `SSObjects`. \n",
    "\n",
    "The `SSSource` table contains the 2-d (sky) coordinates and 3-d distances and velocities \n",
    "for every `SSObject` at the time of every LSST observation of that `SSObject`.\n",
    "The `SSSource` and `DiaSource` tables are 1:1, as they each contain data *per observation*,\n",
    "whereas `SSObject` contains data *per object*."
   ]
  },
  {
   "cell_type": "markdown",
   "id": "4dc55526-5aa8-47cd-8d2a-75f02b8b48b7",
   "metadata": {},
   "source": [
    "### 5.1. Size\n",
    "\n",
    "It can take up to a minute to retrieve the size of the `SSSource` catalog."
   ]
  },
  {
   "cell_type": "markdown",
   "id": "000450cd-dcbf-4001-bd35-7d925d82468e",
   "metadata": {},
   "source": [
    "Define query."
   ]
  },
  {
   "cell_type": "code",
   "execution_count": 19,
   "id": "840d8a1d-2777-47b4-a050-8d8d627f58d4",
   "metadata": {
    "execution": {
     "iopub.execute_input": "2025-04-08T09:24:31.797095Z",
     "iopub.status.busy": "2025-04-08T09:24:31.796872Z",
     "iopub.status.idle": "2025-04-08T09:24:31.800055Z",
     "shell.execute_reply": "2025-04-08T09:24:31.799542Z",
     "shell.execute_reply.started": "2025-04-08T09:24:31.797074Z"
    }
   },
   "outputs": [],
   "source": [
    "query = \"SELECT COUNT(*) from dp03_catalogs_10yr.SSSource\"\n"
   ]
  },
  {
   "cell_type": "markdown",
   "id": "c8956663-94b2-411a-80ea-56bf54351bdb",
   "metadata": {},
   "source": [
    "Submit asynchonous query."
   ]
  },
  {
   "cell_type": "code",
   "execution_count": 20,
   "id": "cf8f6fe1-0d50-4134-81b6-82f64f3559f6",
   "metadata": {
    "execution": {
     "iopub.execute_input": "2025-04-08T09:24:31.800895Z",
     "iopub.status.busy": "2025-04-08T09:24:31.800693Z",
     "iopub.status.idle": "2025-04-08T09:25:27.250643Z",
     "shell.execute_reply": "2025-04-08T09:25:27.249426Z",
     "shell.execute_reply.started": "2025-04-08T09:24:31.800878Z"
    }
   },
   "outputs": [
    {
     "name": "stdout",
     "output_type": "stream",
     "text": [
      "Job phase is COMPLETED\n"
     ]
    }
   ],
   "source": [
    "job = service.submit_job(query)\n",
    "job.run()\n",
    "job.wait(phases=['COMPLETED', 'ERROR'])\n",
    "print('Job phase is', job.phase)\n",
    "results = job.fetch_result()\n",
    "assert job.phase == 'COMPLETED'"
   ]
  },
  {
   "cell_type": "markdown",
   "id": "d7e104da-e779-46e2-8c92-ef71f58cce1f",
   "metadata": {},
   "source": [
    "Display results as a pandas data frame. "
   ]
  },
  {
   "cell_type": "code",
   "execution_count": 21,
   "id": "b4900874-b7b1-49a5-af5d-a99de6affc70",
   "metadata": {
    "execution": {
     "iopub.execute_input": "2025-04-08T09:25:27.252358Z",
     "iopub.status.busy": "2025-04-08T09:25:27.251946Z",
     "iopub.status.idle": "2025-04-08T09:25:27.264971Z",
     "shell.execute_reply": "2025-04-08T09:25:27.264018Z",
     "shell.execute_reply.started": "2025-04-08T09:25:27.252318Z"
    }
   },
   "outputs": [
    {
     "data": {
      "text/html": [
       "<div>\n",
       "<style scoped>\n",
       "    .dataframe tbody tr th:only-of-type {\n",
       "        vertical-align: middle;\n",
       "    }\n",
       "\n",
       "    .dataframe tbody tr th {\n",
       "        vertical-align: top;\n",
       "    }\n",
       "\n",
       "    .dataframe thead th {\n",
       "        text-align: right;\n",
       "    }\n",
       "</style>\n",
       "<table border=\"1\" class=\"dataframe\">\n",
       "  <thead>\n",
       "    <tr style=\"text-align: right;\">\n",
       "      <th></th>\n",
       "      <th>COUNT1</th>\n",
       "    </tr>\n",
       "  </thead>\n",
       "  <tbody>\n",
       "    <tr>\n",
       "      <th>0</th>\n",
       "      <td>653005444</td>\n",
       "    </tr>\n",
       "  </tbody>\n",
       "</table>\n",
       "</div>"
      ],
      "text/plain": [
       "      COUNT1\n",
       "0  653005444"
      ]
     },
     "execution_count": 21,
     "metadata": {},
     "output_type": "execute_result"
    }
   ],
   "source": [
    "results.to_table().to_pandas()"
   ]
  },
  {
   "cell_type": "markdown",
   "id": "47b9a7c5-4f38-42f3-96b8-732c72010b81",
   "metadata": {},
   "source": [
    "**_This table contains over 653 million sources!_**"
   ]
  },
  {
   "cell_type": "markdown",
   "id": "55f7fd6f-a5c8-4e58-8781-5d7f14ebf530",
   "metadata": {},
   "source": [
    "### 5.2. Retrieve data for one `SSObject`\n",
    "\n",
    "Examine the`SSSource` table contents for just one `SSObject`, the one with an `ssObjectId` = `6793512588511170680`.\n",
    "\n",
    "Retrieve the heliocentric (sun-centered) and topocentric (observatory-centered) X and Y coordinates."
   ]
  },
  {
   "cell_type": "markdown",
   "id": "e9f81967-a036-4f71-af59-2e2254e37977",
   "metadata": {},
   "source": [
    "Define the query and run the asynchronous query."
   ]
  },
  {
   "cell_type": "code",
   "execution_count": 22,
   "id": "b0c0b207-7c44-46d7-b776-221f357e6467",
   "metadata": {
    "execution": {
     "iopub.execute_input": "2025-04-08T09:25:27.266872Z",
     "iopub.status.busy": "2025-04-08T09:25:27.266529Z",
     "iopub.status.idle": "2025-04-08T09:25:28.575398Z",
     "shell.execute_reply": "2025-04-08T09:25:28.574767Z",
     "shell.execute_reply.started": "2025-04-08T09:25:27.266843Z"
    }
   },
   "outputs": [
    {
     "name": "stdout",
     "output_type": "stream",
     "text": [
      "Job phase is COMPLETED\n",
      "Retrieved  319  rows.\n"
     ]
    }
   ],
   "source": [
    "query = \"\"\"SELECT heliocentricX, heliocentricY, \n",
    "              topocentricX, topocentricY, ssObjectId \n",
    "              FROM dp03_catalogs_10yr.SSSource \n",
    "              WHERE ssObjectId = 6793512588511170680\"\"\"\n",
    "\n",
    "job = service.submit_job(query)\n",
    "job.run()\n",
    "job.wait(phases=['COMPLETED', 'ERROR'])\n",
    "print('Job phase is', job.phase)\n",
    "results = job.fetch_result()\n",
    "assert job.phase == 'COMPLETED'\n",
    "\n",
    "df_xy = results.to_table().to_pandas()\n",
    "print('Retrieved ', len(df_xy), ' rows.')"
   ]
  },
  {
   "cell_type": "markdown",
   "id": "11c32da4-7632-4ca0-8e51-c3ae130bde77",
   "metadata": {},
   "source": [
    "### 5.3. Plot the locations of one `SSObject`\n",
    "\n",
    "Plot the locations of the selected `SSObject` at the time of every \n",
    "LSST observation using the X and Y heliocentric (Sun-centered; orange star) \n",
    "coordinates.\n",
    "This can be considered a projection of the orbit into the plane of the Solar System.\n",
    "\n",
    "Notice how the points are not regularly spaced.\n",
    "This is because there is one point per LSST observation of the object,\n",
    "and in some years it receives more or fewer observations.\n",
    "\n",
    "Notice how the points appear in an ellipse around the Sun with heliocentric coordinates.\n",
    "This is because the selected object is in the main asteroid belt and close enough to the Sun \n",
    "to complete at least on orbit during the 10-year LSST survey.\n",
    "Had the selected object been in the outer Solar System, or were this tutorial using\n",
    "the 1-year data set, the plot below would show an arc instead of an ellipse."
   ]
  },
  {
   "cell_type": "code",
   "execution_count": 23,
   "id": "0464b3fa-299a-4d27-8f47-f19cd21062b6",
   "metadata": {
    "execution": {
     "iopub.execute_input": "2025-04-08T09:25:28.576305Z",
     "iopub.status.busy": "2025-04-08T09:25:28.576068Z",
     "iopub.status.idle": "2025-04-08T09:25:28.716472Z",
     "shell.execute_reply": "2025-04-08T09:25:28.715750Z",
     "shell.execute_reply.started": "2025-04-08T09:25:28.576286Z"
    },
    "tags": []
   },
   "outputs": [
    {
     "data": {
      "image/png": "[encoded data removed]",
      "text/plain": [
       "<Figure size 640x480 with 1 Axes>"
      ]
     },
     "metadata": {},
     "output_type": "display_data"
    }
   ],
   "source": [
    "plt.plot(df_xy['heliocentricX'], df_xy['heliocentricY'],\n",
    "         'o', ms=4, mew=0, color='black')\n",
    "plt.plot(0, 0, '*', ms=15, color='darkorange')\n",
    "plt.xlabel('heliocentric X (au)')\n",
    "plt.ylabel('heliocentric Y (au)')\n",
    "plt.title('XY Path of 6793512588511170680 in Heliocentric Coordinates')\n",
    "plt.show()"
   ]
  },
  {
   "cell_type": "markdown",
   "id": "79a48c31-d2ad-41ed-916a-aa46f60c1894",
   "metadata": {},
   "source": [
    "> **Figure 3:** The two-dimensional projection of the location of the selected solar system object into the XY plane in heliocentric (Sun-centered) coordinates. The Sun is represented by an orange star and the solar system object's positions are represented by small black circles."
   ]
  },
  {
   "cell_type": "markdown",
   "id": "7b1be600-779d-41cf-8f71-a03d4bdb8791",
   "metadata": {},
   "source": [
    "## 6. The Main Belt in DP0.3"
   ]
  },
  {
   "cell_type": "markdown",
   "id": "050c1679-c6bd-48ab-98e1-a371422ef48c",
   "metadata": {},
   "source": [
    "Query the DP0.3 catalogs, joining the MPCORB and SSObject tables on their ssObjectId. One _could_ retrieve the entire catalog (containing millions of rows), but that query may take a long time. To minimize query time but still extract a large sample, use a range of `ssObjectId` values."
   ]
  },
  {
   "cell_type": "markdown",
   "id": "2cde0d7a-7fa6-4ffb-967a-92975b467878",
   "metadata": {},
   "source": [
    "Define the query."
   ]
  },
  {
   "cell_type": "code",
   "execution_count": 24,
   "id": "6dd701b8-4ea0-4f17-907a-3f4d6cd790e0",
   "metadata": {
    "execution": {
     "iopub.execute_input": "2025-04-08T09:25:28.717485Z",
     "iopub.status.busy": "2025-04-08T09:25:28.717251Z",
     "iopub.status.idle": "2025-04-08T09:25:28.722186Z",
     "shell.execute_reply": "2025-04-08T09:25:28.721145Z",
     "shell.execute_reply.started": "2025-04-08T09:25:28.717466Z"
    }
   },
   "outputs": [],
   "source": [
    "query = \"\"\"SELECT mpc.ssObjectId, mpc.e, mpc.incl, mpc.q, mpc.peri, \n",
    "        sso.ssObjectId, sso.g_H, sso.r_H, sso.i_H, sso.z_H \n",
    "        FROM dp03_catalogs_10yr.MPCORB as mpc \n",
    "        JOIN dp03_catalogs_10yr.SSObject as sso \n",
    "        ON mpc.ssObjectId = sso.ssObjectId \n",
    "        WHERE mpc.ssObjectId < 9223370875126069107 \n",
    "        AND mpc.ssObjectId > 7331137166374808576 \n",
    "        AND sso.numObs > 50\"\"\""
   ]
  },
  {
   "cell_type": "markdown",
   "id": "507de275-d6cc-46f5-b3b3-a5fa021b15f5",
   "metadata": {},
   "source": [
    "Submit the asynchronous query."
   ]
  },
  {
   "cell_type": "code",
   "execution_count": 25,
   "id": "d0a56880-89ba-424a-92d4-0b583d78ea12",
   "metadata": {
    "execution": {
     "iopub.execute_input": "2025-04-08T09:25:28.724045Z",
     "iopub.status.busy": "2025-04-08T09:25:28.723380Z",
     "iopub.status.idle": "2025-04-08T09:26:19.402140Z",
     "shell.execute_reply": "2025-04-08T09:26:19.401350Z",
     "shell.execute_reply.started": "2025-04-08T09:25:28.724000Z"
    }
   },
   "outputs": [
    {
     "name": "stdout",
     "output_type": "stream",
     "text": [
      "Job phase is COMPLETED\n"
     ]
    }
   ],
   "source": [
    "job = service.submit_job(query)\n",
    "job.run()\n",
    "job.wait(phases=['COMPLETED', 'ERROR'])\n",
    "print('Job phase is', job.phase)\n",
    "results = job.fetch_result()\n",
    "assert job.phase == 'COMPLETED'"
   ]
  },
  {
   "cell_type": "markdown",
   "id": "58fa0a45-1b46-4590-b062-6fc0bc2a914e",
   "metadata": {},
   "source": [
    "Store the results as a pandas dataframe called `df_mpc_sso` and display number of results."
   ]
  },
  {
   "cell_type": "code",
   "execution_count": 26,
   "id": "df418712-d974-4cf3-9d92-7602cdea5cd7",
   "metadata": {
    "execution": {
     "iopub.execute_input": "2025-04-08T09:26:19.403178Z",
     "iopub.status.busy": "2025-04-08T09:26:19.402928Z",
     "iopub.status.idle": "2025-04-08T09:26:19.463417Z",
     "shell.execute_reply": "2025-04-08T09:26:19.462270Z",
     "shell.execute_reply.started": "2025-04-08T09:26:19.403157Z"
    }
   },
   "outputs": [],
   "source": [
    "df_mpc_sso = results.to_table().to_pandas()"
   ]
  },
  {
   "cell_type": "code",
   "execution_count": 27,
   "id": "82f5677d-73bc-4f9f-bc5f-99a61f34e5d1",
   "metadata": {
    "execution": {
     "iopub.execute_input": "2025-04-08T09:26:19.464953Z",
     "iopub.status.busy": "2025-04-08T09:26:19.464560Z",
     "iopub.status.idle": "2025-04-08T09:26:19.469607Z",
     "shell.execute_reply": "2025-04-08T09:26:19.468976Z",
     "shell.execute_reply.started": "2025-04-08T09:26:19.464900Z"
    }
   },
   "outputs": [
    {
     "name": "stdout",
     "output_type": "stream",
     "text": [
      "The query returned  339864  results.\n"
     ]
    }
   ],
   "source": [
    "print('The query returned ', len(df_mpc_sso), ' results.')"
   ]
  },
  {
   "cell_type": "markdown",
   "id": "36ec0462-77ce-48b3-ba89-eb7c8241f47d",
   "metadata": {},
   "source": [
    "### 6.1 Overall orbital properties\n",
    "\n",
    "First, calculate the semi-major axis of each object's orbit, using the function we defined above."
   ]
  },
  {
   "cell_type": "code",
   "execution_count": 28,
   "id": "9b089af7-3576-4e47-8332-56fa7c137160",
   "metadata": {
    "execution": {
     "iopub.execute_input": "2025-04-08T09:26:19.470606Z",
     "iopub.status.busy": "2025-04-08T09:26:19.470382Z",
     "iopub.status.idle": "2025-04-08T09:26:19.485413Z",
     "shell.execute_reply": "2025-04-08T09:26:19.484579Z",
     "shell.execute_reply.started": "2025-04-08T09:26:19.470589Z"
    },
    "tags": []
   },
   "outputs": [],
   "source": [
    "a = calc_semimajor_axis(df_mpc_sso.q, df_mpc_sso.e)"
   ]
  },
  {
   "cell_type": "markdown",
   "id": "21ee1ef4-ae9e-4ad2-9714-62c68a8a51d0",
   "metadata": {},
   "source": [
    "### 6.2 Semi-major axes of Main Belt asteroids\n",
    "\n",
    "For the rest of this notebook, focus on the so-called [\"Main Belt\" asteroids](https://en.wikipedia.org/wiki/Asteroid_belt), which roughly speaking inhabit the space between the orbits of Mars and Jupiter. The exact Main Belt definition is not uniform in the literature; for DP0.3 we adopt the definition used by the [JPL small-body database](https://ssd.jpl.nasa.gov/tools/sbdb_query.htmlhttps://ssd.jpl.nasa.gov/tools/sbdb_query.html), where the definitions of the orbital families are visible as the popup notes associated with the \"orbital class\" info. This definition places the Main Belt between 1.6 au < a < 4.6 au, with the constraint q > 1.6 au to ensure that objects don't cross Mars' orbit. However, in this notebook, we alter the definition a bit and consider objects with 1.6 au < a < 4.2 au, q > 1.6, to allow comparison to figures from other papers.\n",
    "\n",
    "Start by visualizing where Main Belt asteroids are located in the Solar System via their `semi-major axis (a)`."
   ]
  },
  {
   "cell_type": "code",
   "execution_count": 29,
   "id": "a40df506-04df-4e92-b9ca-ada7fb228c3c",
   "metadata": {
    "execution": {
     "iopub.execute_input": "2025-04-08T09:26:19.486585Z",
     "iopub.status.busy": "2025-04-08T09:26:19.486243Z",
     "iopub.status.idle": "2025-04-08T09:26:19.498256Z",
     "shell.execute_reply": "2025-04-08T09:26:19.497739Z",
     "shell.execute_reply.started": "2025-04-08T09:26:19.486563Z"
    },
    "tags": []
   },
   "outputs": [],
   "source": [
    "main_belt = (a > 1.6) & (a < 4.2)"
   ]
  },
  {
   "cell_type": "code",
   "execution_count": 30,
   "id": "ed257b15-e8a9-441c-929a-ea107af816d8",
   "metadata": {
    "execution": {
     "iopub.execute_input": "2025-04-08T09:26:19.499245Z",
     "iopub.status.busy": "2025-04-08T09:26:19.499037Z",
     "iopub.status.idle": "2025-04-08T09:26:20.068419Z",
     "shell.execute_reply": "2025-04-08T09:26:20.067820Z",
     "shell.execute_reply.started": "2025-04-08T09:26:19.499228Z"
    },
    "tags": []
   },
   "outputs": [
    {
     "data": {
      "image/png": "[encoded data removed]",
      "text/plain": [
       "<Figure size 600x400 with 1 Axes>"
      ]
     },
     "metadata": {},
     "output_type": "display_data"
    }
   ],
   "source": [
    "fig = plt.figure(figsize=(6, 4))\n",
    "\n",
    "plt.hist(a[main_belt], bins=np.arange(1.6, 4.3, 0.01), color='Black')\n",
    "plt.xlabel('semi-major axis (au)')\n",
    "plt.ylabel('number of objects')\n",
    "plt.minorticks_on()\n",
    "plt.show()"
   ]
  },
  {
   "cell_type": "markdown",
   "id": "9ac38ab4-3413-4dff-b216-2caf1bc19636",
   "metadata": {},
   "source": [
    "> **Figure 4:** A histogram of the number of Main Belt asteroids as a function of semi-major axis."
   ]
  },
  {
   "cell_type": "markdown",
   "id": "464492ae-0833-49c0-99e7-3a83a401f4a3",
   "metadata": {},
   "source": [
    "Clearly it's not just a uniform \"belt\" between Mars and Jupiter -- it has some \"gaps\" where there are very few (or no) objects. These are known as [Kirkwood gaps](https://en.wikipedia.org/wiki/Kirkwood_gap), which arise due to resonances between the asteroid's orbital period and that of Jupiter. For example, at a=2.5 au, an asteroid orbits 3 times for each single orbit of Jupiter, and is thus in a \"3:1 resonance\"."
   ]
  }
 ],
 "metadata": {
  "kernelspec": {
   "display_name": "LSST",
   "language": "python",
   "name": "lsst"
  },
  "language_info": {
   "codemirror_mode": {
    "name": "ipython",
    "version": 3
   },
   "file_extension": ".py",
   "mimetype": "text/x-python",
   "name": "python",
   "nbconvert_exporter": "python",
   "pygments_lexer": "ipython3",
   "version": "3.12.9"
  }
 },
 "nbformat": 4,
 "nbformat_minor": 5
}
