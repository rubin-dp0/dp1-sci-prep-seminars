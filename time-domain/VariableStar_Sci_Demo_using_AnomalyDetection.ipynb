{
 "cells": [
  {
   "cell_type": "markdown",
   "metadata": {},
   "source": [
    "# DiaObject Anomaly Detection for Variable Stars in DP0.2\n",
    "\n",
    "<img align=\"left\" src = https://project.lsst.org/sites/default/files/Rubin-O-Logo_0.png width=250 style=\"padding: 10px\"> \n",
    "\n",
    "<br>Contact author(s): Jeff Carlin, Ryan Lau <br>\n",
    "Last verified to run: 2025-04-07 <br>\n",
    "LSST Science Pipelines version: Weekly 2025_14 <br>\n",
    "Container Size: medium <br>\n",
    "Targeted learning level: Intermediate <br>"
   ]
  },
  {
   "cell_type": "markdown",
   "metadata": {},
   "source": [
    "**Description:** Apply anomaly detection techniques to DIA Objects from the DP0.2 catalogs with the goal of finding variable stars."
   ]
  },
  {
   "cell_type": "markdown",
   "metadata": {},
   "source": [
    "**Skills:** Use Isolation Forest algorithm on the DP0.2 DiaObject Table. Plot results and inspect anomalies. Create phased lightcurves of candidate variable stars."
   ]
  },
  {
   "cell_type": "markdown",
   "metadata": {},
   "source": [
    "**LSST Data Products:** TAP tables dp02_dc2_catalogs.DiaObject, ForcedSourceOnDiaObject"
   ]
  },
  {
   "cell_type": "markdown",
   "metadata": {},
   "source": [
    "**Packages:** lsst, scikit-learn, pandas, matplotlib, numpy, astropy, PIL\n"
   ]
  },
  {
   "cell_type": "markdown",
   "metadata": {},
   "source": [
    "**Credit:**\n",
    "Adaptation of DP0.2 notebook 17_DiaObject_Anomaly_Detection.ipynb."
   ]
  },
  {
   "cell_type": "markdown",
   "metadata": {},
   "source": [
    "**Get Support:**\n",
    "Find DP0-related documentation and resources at <a href=\"https://dp0-2.lsst.io\">dp0-2.lsst.io</a>. Questions are welcome as new topics in the <a href=\"https://community.lsst.org/c/support/dp0\">Support - Data Preview 0 Category</a> of the Rubin Community Forum. Rubin staff will respond to all questions posted there. For more information, please consider reaching out to the Anomaloy Detection interest group of the <a href=\"https://issc.science.lsst.org/\">LSST Informatics & Statistics Science Collaboration</a>."
   ]
  },
  {
   "attachments": {
    "c7347196-9898-48f1-8aaf-ee4a50114cd4.png": {
     "image/png": "[encoded data removed]"
    }
   },
   "cell_type": "markdown",
   "metadata": {
    "tags": []
   },
   "source": [
    "## 1. Introduction\n",
    "\n",
    "The DP0.2 dataset contains some simulated pulsating variable stars, including [RR Lyrae](https://ogle.astrouw.edu.pl/atlas/RR_Lyr.html) stars, which are old, low-mass, metal-poor horizontal branch stars within the instability strip. These stars pulsate -- and thus change their brightness -- over periods of about 0.2 to 1 day (i.e., several hours). In addition to the physics of their pulsation, these stars are useful because they exhibit a tight \"period-luminosity relation\", as originally demonstrated by Henrietta Swan Leavitt in ~1912. Below is her original diagram (from [this AAVSO page](https://www.aavso.org/vsots_rrlyr)) showing the magnitude vs. measured pulsation periods (x-axis) of pulsating variable stars in the SMC.\n",
    "\n",
    "![image.png](attachment:c7347196-9898-48f1-8aaf-ee4a50114cd4.png)\n",
    "\n",
    "RR Lyrae are relatively easy to find because they can vary by almost a full magnitude over a few hours. Once we find them we can derive their distances because they follow the period-luminosity relation -- measure the period, know the intrinsic luminosity, and use this to derive the distance to the star!\n",
    "\n",
    "This notebook adapts an anomaly detection technique derived for DP0.2 tutorial 17_DiaObject_Anomaly_Detection.ipynb on difference-image analysis (DIA) objects. It demonstrates how to perform the following:\n",
    "\n",
    "1. apply the IsolationForest routine from [`scikit-learn`](https://scikit-learn.org/stable/);\n",
    "2. identify candidate variable stars as anomalous DiaObjects from the DP0.2 catalogs;\n",
    "3. extract and plot lightcurves of the anomalous targets.\n",
    "\n",
    "For further introduction and motivation on investigating anomalies, please view the following link: <a href=\"https://www.lsst.org/science/transient-optical-sky/unimagined \">The Unimagined</a>\n",
    "\n",
    "### 1.1. Package imports\n",
    "\n",
    "Import general python packages, the IsolationForest algorithm from `scikit-learn`, and the Rubin TAP service utilities.\n",
    "\n",
    "The [`matplotlib`](https://matplotlib.org/), [`numpy`](http://www.numpy.org/), and [`scikit-learn`](https://scikit-learn.org/stable/) libraries are widely used Python libraries for plotting, scientific computing, and conducting Machine-Learning data analysis. We will use these packages below, including the `lsst.rsp` package to access the TAP service and query the DP0 catalogs.\n",
    "\n",
    "We also use the `lsst.rsp` package to access the TAP service and query the DP0 catalogs.\n",
    "\n",
    "Finally, we import two Astropy packages, `LombScargleMultiband` and `units`, to use in estimating periods for variable star candidates."
   ]
  },
  {
   "cell_type": "code",
   "execution_count": null,
   "metadata": {
    "tags": []
   },
   "outputs": [],
   "source": [
    "import numpy as np\n",
    "import matplotlib.pyplot as plt\n",
    "from sklearn.ensemble import IsolationForest\n",
    "from lsst.rsp import get_tap_service\n",
    "\n",
    "from astropy.timeseries import LombScargleMultiband\n",
    "import astropy.units as u"
   ]
  },
  {
   "cell_type": "markdown",
   "metadata": {},
   "source": [
    "Define plotting parameters for consistent figures."
   ]
  },
  {
   "cell_type": "code",
   "execution_count": null,
   "metadata": {},
   "outputs": [],
   "source": [
    "plt.style.use('tableau-colorblind10')\n",
    "\n",
    "plot_filter_labels = ['u', 'g', 'r', 'i', 'z', 'y']\n",
    "plot_filter_colors = {'u': '#56b4e9', 'g': '#008060', 'r': '#ff4000',\n",
    "                      'i': '#850000', 'z': '#6600cc', 'y': '#000000'}\n",
    "plot_filter_symbols = {'u': 'o', 'g': '^', 'r': 'v',\n",
    "                       'i': 's', 'z': '*', 'y': 'p'}"
   ]
  },
  {
   "cell_type": "markdown",
   "metadata": {},
   "source": [
    "## 2. Search for Anomalous DiaObjects using IsolationForest\n",
    "\n",
    "Here, we will apply the [Isolation Forest Algorithm](https://scikit-learn.org/stable/modules/generated/sklearn.ensemble.IsolationForest.html) from  `scikit-learn` on the DP0.2 DiaObject catalog to identify anomalous sources. \n",
    "\n",
    "In particular, we will look for DiaObjects that are anomalously variable, and then inspect their light curves. We will then run a period-search algorithm to identify periodicity, and plot phased light curves.\n",
    "\n",
    "### 2.1. Create the Rubin TAP Service client and Obtain DiaObject Sample\n",
    "\n",
    "First, get an instance of the TAP service, and assert that it exists."
   ]
  },
  {
   "cell_type": "code",
   "execution_count": null,
   "metadata": {},
   "outputs": [],
   "source": [
    "service = get_tap_service(\"tap\")\n",
    "assert service is not None"
   ]
  },
  {
   "cell_type": "markdown",
   "metadata": {},
   "source": [
    "To reduce spurious DiaObjects, we set a minimum number of DiaSource detections."
   ]
  },
  {
   "cell_type": "code",
   "execution_count": null,
   "metadata": {},
   "outputs": [],
   "source": [
    "ndiasources_min = 20"
   ]
  },
  {
   "cell_type": "markdown",
   "metadata": {},
   "source": [
    "For simplicity, we focus the search for anomalous behavior from DiaObjects in the g-band. \n",
    "\n",
    "We set an additional threshold for number of detections in the g-band filter."
   ]
  },
  {
   "cell_type": "code",
   "execution_count": null,
   "metadata": {},
   "outputs": [],
   "source": [
    "ndata_thresh = 30"
   ]
  },
  {
   "cell_type": "markdown",
   "metadata": {},
   "source": [
    "We now retrieve a random sample of 1000000 DiaObjects and the following statistics of their g-band light curve:\n",
    "\n",
    "\n",
    "**gPSFluxNdata:** The number of data points used to compute gPSFluxChi2. <br>\n",
    "**gPSFluxSigma:** The standard deviation of the fluxes. <br>\n",
    "**gPSFluxMean:** The average flux. <br>\n",
    "**gPSFluxStetsonJ:** StetsonJ statistic of diaSource PSF flux.<br>\n",
    "**gPSFluxChi2:** Chi^2 statistic for the scatter of gPSFlux around gPSFluxMean.<br>\n",
    "**gPSFluxMAD:** Median absolute deviation of diaSource PSF flux.<br>\n",
    "**gPSFluxPercentile25, gPSFluxPercentile75:** 25th and 75th percentile diaSource PSF flux.<br>\n",
    "**gTOTFluxMean:** Weighted mean of the PSF flux forced photometered at the diaSource position on the calibrated image.<br>\n",
    "\n",
    "Note that the statistics are all based on the _difference-image point source (PS) flux values_.\n",
    "\n",
    "We additionally apply the following magnitude and color cuts (based on the mean direct-image fluxes from `gTotFluxMean`): \n",
    "* 18 < g < 23\n",
    "* -0.2 < (g-r) < 0.6\n",
    "\n",
    "The magnitude range selects variable star candidates that are faint enough to avoid saturation in any images as they vary in brightness, while also avoiding faint sources with large measurement uncertainties.\n",
    "\n",
    "The color range is to select stars within the instability strip (i.e., RR Lyrae variables)."
   ]
  },
  {
   "cell_type": "code",
   "execution_count": null,
   "metadata": {},
   "outputs": [],
   "source": [
    "results = service.search(\"SELECT TOP 1000000 \"\n",
    "                         \"ra, decl, diaObjectId, nDiaSources, gPSFluxNdata, \"\n",
    "                         \"gPSFluxSigma, gPSFluxMean, \"\n",
    "                         \"gPSFluxStetsonJ, gPSFluxChi2, gPSFluxMAD, \"\n",
    "                         \"gPSFluxPercentile25, gPSFluxPercentile75, gTOTFluxMean, \"\n",
    "                         \"rPSFluxStetsonJ, rPSFluxChi2, rPSFluxMAD, rPSFluxSigma, \"\n",
    "                         \"scisql_nanojanskyToAbMag(gTOTFluxMean) as gmag, \"\n",
    "                         \"scisql_nanojanskyToAbMag(rTOTFluxMean) as rmag \"\n",
    "                         \"FROM dp02_dc2_catalogs.DiaObject \"\n",
    "                         \"WHERE nDiaSources > \"+str(ndiasources_min)+\" \"\n",
    "                         \"AND CONTAINS(POINT('ICRS', ra, decl), CIRCLE('ICRS', 56.1, -33.2, 10)) = 1 \"\n",
    "                         \"AND scisql_nanojanskyToAbMag(gTOTFluxMean)-scisql_nanojanskyToAbMag(rTOTFluxMean) < 0.6 \"\n",
    "                         \"AND scisql_nanojanskyToAbMag(gTOTFluxMean)-scisql_nanojanskyToAbMag(rTOTFluxMean) > -0.2 \"\n",
    "                         \"AND scisql_nanojanskyToAbMag(gTOTFluxMean) < 23 \" + \" \"\n",
    "                         \"AND scisql_nanojanskyToAbMag(gTOTFluxMean) > 18 \" + \" \"\n",
    "                         \"AND gPSFluxNdata > \"+str(ndata_thresh)\n",
    "                        )\n",
    "DiaObjs = results.to_table()\n",
    "df = DiaObjs.to_pandas()\n",
    "del results"
   ]
  },
  {
   "cell_type": "code",
   "execution_count": null,
   "metadata": {},
   "outputs": [],
   "source": [
    "len(df)"
   ]
  },
  {
   "cell_type": "markdown",
   "metadata": {},
   "source": [
    "Define the inter-quartile range (IQR) of the flux values, which encompasses the middle 50% of flux measurements (i.e., between the 25th and 75th percentiles).\n",
    "\n",
    "Furthermore, express this as a fraction of the total flux (i.e., how much the flux varied fractionally relative to the mean flux)."
   ]
  },
  {
   "cell_type": "code",
   "execution_count": null,
   "metadata": {},
   "outputs": [],
   "source": [
    "df['gPSFluxIQR'] = df['gPSFluxPercentile75'] - df['gPSFluxPercentile25']\n",
    "df['gPSFluxIQRFrac'] = df['gPSFluxIQR']/df['gTOTFluxMean']"
   ]
  },
  {
   "cell_type": "markdown",
   "metadata": {},
   "source": [
    "### 2.2. Run IsolationForest Algorithm\n",
    "\n",
    "We run the [Isolation Forest Algorithm](https://scikit-learn.org/stable/modules/generated/sklearn.ensemble.IsolationForest.html) on the DiaObject sample and look for outliers based on the `gmag`, `PSFluxStetsonJ` in both g- and r-bands, `PSFluxChi2` in both bands, and `gPSFluxIQRFrac` values. The algorithm outputs anomaly scores based on the input sample; negative scores represent outliers.\n",
    "\n",
    "Extract the indices of the top 20 outliers to the array `idx`.\n"
   ]
  },
  {
   "cell_type": "code",
   "execution_count": null,
   "metadata": {},
   "outputs": [],
   "source": [
    "sample = df[[\n",
    "    'gmag',\n",
    "    'gPSFluxStetsonJ',\n",
    "    'gPSFluxChi2',\n",
    "    'gPSFluxIQRFrac',\n",
    "    'rPSFluxStetsonJ',\n",
    "    'rPSFluxChi2',\n",
    "    ]].values\n",
    "\n",
    "rng = np.random.RandomState(12345)\n",
    "\n",
    "ifo = IsolationForest(max_samples=1000,\n",
    "                      random_state=rng, n_jobs=1)\n",
    "ifo.fit(sample)\n",
    "idx = np.argsort(ifo.score_samples(sample))[:20]\n"
   ]
  },
  {
   "cell_type": "markdown",
   "metadata": {},
   "source": [
    "Show the histogram of the Isolation Forest scores from our input sample."
   ]
  },
  {
   "cell_type": "code",
   "execution_count": null,
   "metadata": {},
   "outputs": [],
   "source": [
    "plt.title('Histogram of Isolation Forest Scores')\n",
    "plt.hist(ifo.score_samples(sample), bins=50)\n",
    "plt.yscale('log')\n",
    "plt.xlabel('score')\n",
    "plt.ylabel('number of diaObjects')\n",
    "plt.show()"
   ]
  },
  {
   "cell_type": "markdown",
   "metadata": {},
   "source": [
    "> Figure 1: Histogram of Isolation Forest scores from the input sample. Scores with the most negative values indicate outliers."
   ]
  },
  {
   "cell_type": "markdown",
   "metadata": {},
   "source": [
    "Uncomment to Display the DIA Objects IDs of the anomalies."
   ]
  },
  {
   "cell_type": "code",
   "execution_count": null,
   "metadata": {
    "tags": []
   },
   "outputs": [],
   "source": [
    "# [df['diaObjectId'][i] for i in idx]"
   ]
  },
  {
   "cell_type": "markdown",
   "metadata": {},
   "source": [
    "### 2.3. Vizualising the Identified Anomalies\n",
    "\n",
    "Plot the distribution of DiaObjects with the properties used to identify outliers: `gPSFluxStetsonJ`, `gPSFluxIQRFrac`, `rPSFluxStetsonJ`, and `gPSFluxChi2`, as a function of g magnitude."
   ]
  },
  {
   "cell_type": "code",
   "execution_count": null,
   "metadata": {},
   "outputs": [],
   "source": [
    "params1 = [\n",
    "    ('gmag', 'gPSFluxStetsonJ'),\n",
    "    ('gmag', 'gPSFluxIQRFrac'),\n",
    "]\n",
    "\n",
    "params2 = [\n",
    "    ('gmag', 'rPSFluxStetsonJ'),\n",
    "    ('gmag', 'gPSFluxChi2'),\n",
    "]\n",
    "\n",
    "fig, ax = plt.subplots(1, 2, figsize=(9, 4), sharey=False, sharex=False)\n",
    "\n",
    "for j, (px, py) in enumerate(params1):\n",
    "    ax[j].plot(df[px], df[py], 'o', ms=1, color='grey', alpha=0.1)\n",
    "    ax[j].set_xlabel(px)\n",
    "    ax[j].set_ylabel(py)\n",
    "    for i in idx:\n",
    "        ax[j].plot(df[px][i], df[py][i], '*', ms=12, color='red', mec='black')\n",
    "\n",
    "plt.tight_layout()\n",
    "plt.show()\n",
    "\n",
    "fig, ax = plt.subplots(1, 2, figsize=(9, 4), sharey=False, sharex=False)\n",
    "\n",
    "for j, (px, py) in enumerate(params2):\n",
    "    ax[j].plot(df[px], df[py], 'o', ms=1, color='grey', alpha=0.1)\n",
    "    ax[j].set_xlabel(px)\n",
    "    ax[j].set_ylabel(py)\n",
    "    for i in idx:\n",
    "        ax[j].plot(df[px][i], df[py][i], '*', ms=12, color='red', mec='black')\n",
    "\n",
    "plt.tight_layout()\n",
    "plt.show()"
   ]
  },
  {
   "cell_type": "markdown",
   "metadata": {},
   "source": [
    "> Figure 2: Distribution of DiaObjects showing (upper left) ``gPSFluxStetsonJ`` vs ``gmag`` and (upper right) ``gPSFluxIQRFrac`` vs ``gmag``, (lower left) ``rPSFluxStetsonJ`` vs ``gmag`` and (lower right) ``gPSFluxChi2`` vs ``gmag``. The anomalies identified from the IsolationForest algorithm (red stars) indeed appear to be outliers in the distribution of other DiaObjects (grey points)."
   ]
  },
  {
   "cell_type": "markdown",
   "metadata": {},
   "source": [
    "Plot the g, r, and i-band light curves of the first 3 DiaObject outliers."
   ]
  },
  {
   "cell_type": "code",
   "execution_count": null,
   "metadata": {},
   "outputs": [],
   "source": [
    "filters = ['g', 'r', 'i']\n",
    "ids = df.loc[idx]['diaObjectId'].values\n",
    "\n",
    "for id in ids[:3]:\n",
    "    print(id)\n",
    "\n",
    "    results = service.search(\"SELECT fsodo.diaObjectId, \"\n",
    "                             \"fsodo.ccdVisitId, fsodo.band, \"\n",
    "                             \"fsodo.psfFlux, fsodo.psfFluxErr, \"\n",
    "                             \"fsodo.psfDiffFlux, fsodo.psfDiffFluxErr, \"\n",
    "                             \"cv.expMidptMJD \"\n",
    "                             \"FROM dp02_dc2_catalogs.ForcedSourceOnDiaObject as fsodo \"\n",
    "                             \"JOIN dp02_dc2_catalogs.CcdVisit as cv \"\n",
    "                             \"ON cv.ccdVisitId = fsodo.ccdVisitId \"\n",
    "                             \"WHERE diaObjectId = \"+str(id))\n",
    "\n",
    "    results = results.to_table()\n",
    "    print(len(results))\n",
    "    \n",
    "    fig = plt.figure(figsize=(6, 4))\n",
    "\n",
    "    for f, filt in enumerate(filters):\n",
    "        fx = np.where(results['band'] == filt)[0]\n",
    "        plt.plot(results['expMidptMJD'][fx], results['psfDiffFlux'][fx],\n",
    "                 plot_filter_symbols[filt], ms=10, mew=0, alpha=0.5,\n",
    "                 color=plot_filter_colors[filt])\n",
    "\n",
    "    plt.title(str(id))\n",
    "    plt.xlabel('MJD (days)')\n",
    "    plt.ylabel('psfDiffFlux(nJy)')\n",
    "\n",
    "    plt.tight_layout()\n",
    "    plt.show()\n",
    "    del results"
   ]
  },
  {
   "cell_type": "markdown",
   "metadata": {},
   "source": [
    "> Figure 3: g-, r-, and i-band light curves of the first 3 DiaObject outliers. For each object, we show the as-measured light curve with the measured difference image flux vs. time (in MJD)."
   ]
  },
  {
   "cell_type": "markdown",
   "metadata": {},
   "source": [
    "Those are clearly variable objects of some sort -- note that the `psfDiffFlux` fluxes oscillate above and below zero.\n",
    "\n",
    "### 2.4 Run the Lomb-Scargle Periodicity-Search Algorithm on a Few Candidates, and Plot Phased Light Curves\n",
    "\n",
    "In the plots above, it is clear that we have selected variable stars, but we want to know more about them. Assuming they are periodic variables, let's try to estimate their period so we can create phased light curves.\n",
    "\n",
    "A common way of searching for periodicity in unevenly-sampled time-series data is the Lomb-Scargle Periodogram. In this section we will create such a periodogram using the [Lomb-Scargle package](https://docs.astropy.org/en/stable/timeseries/lombscargle.html) from Astropy. We will then estimate the best period, and reference all observations to that period to create a phased lightcurve."
   ]
  },
  {
   "cell_type": "code",
   "execution_count": null,
   "metadata": {},
   "outputs": [],
   "source": [
    "filters = ['g', 'r', 'i']\n",
    "\n",
    "for id in ids[:3]:\n",
    "    print(id)\n",
    "\n",
    "    results = service.search(\"SELECT fsodo.diaObjectId, \"\n",
    "                             \"fsodo.ccdVisitId, fsodo.band, \"\n",
    "                             \"fsodo.psfFlux, fsodo.psfFluxErr, \"\n",
    "                             \"fsodo.psfDiffFlux, fsodo.psfDiffFluxErr, \"\n",
    "                             \"cv.expMidptMJD \"\n",
    "                             \"FROM dp02_dc2_catalogs.ForcedSourceOnDiaObject as fsodo \"\n",
    "                             \"JOIN dp02_dc2_catalogs.CcdVisit as cv \"\n",
    "                             \"ON cv.ccdVisitId = fsodo.ccdVisitId \"\n",
    "                             \"WHERE diaObjectId = \"+str(id))\n",
    "\n",
    "    results = results.to_table()\n",
    "    print(len(results))\n",
    "    \n",
    "    fig = plt.figure(figsize=(6, 4))\n",
    "\n",
    "    for f, filt in enumerate(filters):\n",
    "        fx = np.where(results['band'] == filt)[0]\n",
    "        plt.plot(results['expMidptMJD'][fx], results['psfDiffFlux'][fx],\n",
    "                 plot_filter_symbols[filt], ms=8, mew=0, alpha=0.5,\n",
    "                 color=plot_filter_colors[filt])\n",
    "\n",
    "    plt.title(str(id))\n",
    "    plt.xlabel('MJD (days)')\n",
    "    plt.ylabel('psfDiffFlux(nJy)')\n",
    "\n",
    "    plt.tight_layout()\n",
    "    plt.show()\n",
    "\n",
    "    ############################\n",
    "    ### Plot a phased lightcurve\n",
    "    minfreq = 1 / (1.25*u.d)\n",
    "    maxfreq = 1 / (0.05*u.d)\n",
    "\n",
    "    obj_mjd_days = np.array(results['expMidptMJD']) * u.day\n",
    "    obj_fluxes = np.array(results['psfFlux'])\n",
    "    obj_flux_errs = np.array(results['psfFluxErr'])\n",
    "    obj_frequency, obj_power =\\\n",
    "        LombScargleMultiband(obj_mjd_days, obj_fluxes,\n",
    "                             results['band'], obj_flux_errs).autopower(minimum_frequency=minfreq,\n",
    "                                                                       maximum_frequency=maxfreq)\n",
    "    max_power = np.argmax(obj_power)\n",
    "    obj_freq = obj_frequency[max_power]\n",
    "    obj_period = 1.0 / obj_freq\n",
    "\n",
    "    t0 = 0.0\n",
    "    obj_mjd_norm = (obj_mjd_days.value - t0) / obj_period.value\n",
    "    obj_phase = np.mod(obj_mjd_norm, 1.0)\n",
    "\n",
    "    fig = plt.figure(figsize=(6, 4))\n",
    "\n",
    "    for f, filt in enumerate(filters):\n",
    "        fx = np.where(results['band'] == filt)[0]\n",
    "\n",
    "        plt.plot(obj_phase[fx], obj_fluxes[fx]-np.nanmean(obj_fluxes[fx]), plot_filter_symbols[filt],\n",
    "                 color=plot_filter_colors[filt],\n",
    "                 ms=8, mew=0, alpha=0.5, label=filt)\n",
    "        plt.hlines(0, 0, 1, linestyle=':', color='Gray')\n",
    "\n",
    "    plt.xlabel('phase')\n",
    "    plt.ylabel('flux - mean')\n",
    "    plt.title(str(id)+\", phased\")\n",
    "    plt.legend()\n",
    "    plt.minorticks_on()\n",
    "    plt.tight_layout()\n",
    "    plt.show()\n",
    "\n",
    "    print('\\n')\n",
    "    del results"
   ]
  },
  {
   "cell_type": "markdown",
   "metadata": {},
   "source": [
    "> Figure 4: g-, r-, and i-band light curves of the first 3 DiaObject outliers. For each object, we show the as-measured light curve (i.e., flux vs. time), followed by the \"phase-folded\" light curve, in which each measurement has been placed in its correct phase within the period of oscillation."
   ]
  },
  {
   "cell_type": "markdown",
   "metadata": {},
   "source": [
    "These all look like RR Lyrae variables (see [this example](https://en.wikipedia.org/wiki/RR_Lyrae_variable#/media/File:Rr_lyrae_ltcrv_en.svg) for a typical RR Lyrae light curve)!\n",
    "\n",
    "# 3. Exercises for the learner"
   ]
  },
  {
   "cell_type": "markdown",
   "metadata": {},
   "source": [
    "1. Incorporate different DiaObject properties and filter bands in the Isolation Forest fit (Sec. 2.1) and investigate how that affects the resulting anomalies.\n",
    "\n",
    "2. Convert the fluxes to magnitudes and re-plot the phased light curves.\n",
    "\n",
    "3. Try testing other astro-specific implementations of the Isolation Forest fitting (e.g., https://coniferest.readthedocs.io/en/latest/index.html)."
   ]
  },
  {
   "cell_type": "code",
   "execution_count": null,
   "metadata": {},
   "outputs": [],
   "source": []
  }
 ],
 "metadata": {
  "kernelspec": {
   "display_name": "LSST",
   "language": "python",
   "name": "lsst"
  },
  "language_info": {
   "codemirror_mode": {
    "name": "ipython",
    "version": 3
   },
   "file_extension": ".py",
   "mimetype": "text/x-python",
   "name": "python",
   "nbconvert_exporter": "python",
   "pygments_lexer": "ipython3",
   "version": "3.12.10"
  }
 },
 "nbformat": 4,
 "nbformat_minor": 4
}
