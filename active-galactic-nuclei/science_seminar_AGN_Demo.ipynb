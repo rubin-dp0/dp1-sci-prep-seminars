{
 "cells": [
  {
   "cell_type": "markdown",
   "id": "ee43cf5e-4584-4b66-afce-bff0999c11a9",
   "metadata": {
    "execution": {
     "iopub.execute_input": "2025-04-17T01:04:17.385191Z",
     "iopub.status.busy": "2025-04-17T01:04:17.384951Z",
     "iopub.status.idle": "2025-04-17T01:04:17.388829Z",
     "shell.execute_reply": "2025-04-17T01:04:17.388322Z",
     "shell.execute_reply.started": "2025-04-17T01:04:17.385172Z"
    }
   },
   "source": [
    "\n",
    "<img align=\"left\" src = https://noirlab.edu/public/media/archives/logos/svg/logo250.svg width=250 style=\"background-color:white; padding:10px\" alt=\"Rubin Observatory logo, a graphical representation of turning stars into data.\">\n",
    "<br>\n",
    "<b> Science Preparation Seminars: Active Galactic Nuclei </b> <br>\n",
    "Contact author(s): Gloria Fonseca Alvarez, Greg Madejski <br>\n",
    "Last verified to run: 2025-04-16 <br>\n",
    "LSST Science Pipelines version: Weekly 2025_09 <br>\n",
    "Container Size: medium <br>\n"
   ]
  },
  {
   "cell_type": "markdown",
   "id": "a28b2a24-0d19-4165-99dd-e41c9fa9408f",
   "metadata": {
    "execution": {
     "iopub.execute_input": "2025-04-17T01:24:00.225425Z",
     "iopub.status.busy": "2025-04-17T01:24:00.224997Z",
     "iopub.status.idle": "2025-04-17T01:24:00.228731Z",
     "shell.execute_reply": "2025-04-17T01:24:00.228241Z",
     "shell.execute_reply.started": "2025-04-17T01:24:00.225405Z"
    }
   },
   "source": [
    "**Description:** Use catalog data to identify variable objects and plot their lightcurves."
   ]
  },
  {
   "cell_type": "markdown",
   "id": "ac610add-7142-4eea-8ca6-4301081d35cc",
   "metadata": {
    "execution": {
     "iopub.execute_input": "2025-04-17T01:24:15.407079Z",
     "iopub.status.busy": "2025-04-17T01:24:15.406847Z",
     "iopub.status.idle": "2025-04-17T01:24:15.410200Z",
     "shell.execute_reply": "2025-04-17T01:24:15.409628Z",
     "shell.execute_reply.started": "2025-04-17T01:24:15.407062Z"
    }
   },
   "source": [
    "**Skills:** Access DP0.2 catalogs through TAP. Plot lightcurves and color-color diagrams. Analyze time series data."
   ]
  },
  {
   "cell_type": "markdown",
   "id": "12b3565d-fcce-4884-96d2-e9085ce87a0a",
   "metadata": {
    "execution": {
     "iopub.execute_input": "2025-04-17T01:24:36.478875Z",
     "iopub.status.busy": "2025-04-17T01:24:36.478655Z",
     "iopub.status.idle": "2025-04-17T01:24:36.481977Z",
     "shell.execute_reply": "2025-04-17T01:24:36.481468Z",
     "shell.execute_reply.started": "2025-04-17T01:24:36.478859Z"
    }
   },
   "source": [
    "**LSST Data Products:** DP0.2 catalogs: `Object`, `ForcedSource`, `DiaObject`, `ForcedSourceOnDiaObject`"
   ]
  },
  {
   "cell_type": "markdown",
   "id": "c7f85e81-5043-4240-80a2-2a241f3afc85",
   "metadata": {
    "execution": {
     "iopub.execute_input": "2025-04-17T01:24:55.003937Z",
     "iopub.status.busy": "2025-04-17T01:24:55.003255Z",
     "iopub.status.idle": "2025-04-17T01:24:55.006938Z",
     "shell.execute_reply": "2025-04-17T01:24:55.006390Z",
     "shell.execute_reply.started": "2025-04-17T01:24:55.003913Z"
    }
   },
   "source": [
    "**Packages:** `lsst.rsp`, `astropy`, `scipy`"
   ]
  },
  {
   "cell_type": "markdown",
   "id": "e574aca9-43a7-4e0e-94d2-85ecb50e69b2",
   "metadata": {
    "execution": {
     "iopub.execute_input": "2025-04-17T01:22:57.091840Z",
     "iopub.status.busy": "2025-04-17T01:22:57.091229Z",
     "iopub.status.idle": "2025-04-17T01:22:57.094976Z",
     "shell.execute_reply": "2025-04-17T01:22:57.094470Z",
     "shell.execute_reply.started": "2025-04-17T01:22:57.091819Z"
    }
   },
   "source": [
    "**Credit:**  This notebook contains material drawn from DP0.2 tutorial notebooks 07a_DiaObject_Samples and 07b_Variable_Star_Lightcurves originally authored by Melissa Graham, Ryan Lau, Jeff Carlin, and Bob Abel. It also includes material from example notebooks authored by Andjelka Kovacevic, Isidora Jankov & Viktor Radovic."
   ]
  },
  {
   "cell_type": "markdown",
   "id": "d0d9484b-d295-4241-bc73-06f6e712355f",
   "metadata": {
    "execution": {
     "iopub.execute_input": "2025-04-17T01:25:18.646868Z",
     "iopub.status.busy": "2025-04-17T01:25:18.646630Z",
     "iopub.status.idle": "2025-04-17T01:25:18.650093Z",
     "shell.execute_reply": "2025-04-17T01:25:18.649636Z",
     "shell.execute_reply.started": "2025-04-17T01:25:18.646851Z"
    }
   },
   "source": [
    "**Get Support:**\n",
    "Everyone is encouraged to ask questions or raise issues in the \n",
    "<a href=\"https://community.lsst.org/c/support\">Support Category</a> \n",
    "of the Rubin Community Forum.\n",
    "Rubin staff will respond to all questions posted there."
   ]
  },
  {
   "cell_type": "markdown",
   "id": "968cbd89-a722-4114-8b13-789f7fcf9b28",
   "metadata": {},
   "source": [
    "## 1. Introduction"
   ]
  },
  {
   "cell_type": "markdown",
   "id": "bc86de07-03ba-4aa9-b85a-424b6a7e474e",
   "metadata": {},
   "source": [
    "This notebook demonstrates use of the Table Access Protocol (TAP) service to explore time-domain and data products for variable point-like objects in the DP0.2 catalogs. The DP0.2 dataset is based on the the simulated, Legacy Survey of Space and Time (LSST)-like images generated by the Dark Energy Science Collaboration (DESC) for their Data Challenge 2 (DC2; arXiv:2010.05926).\n",
    "\n",
    "> **Notice:** The DP0.2 simulated data does not contain Active Galactic Nuclei, so the objects in this notebook are likely variable stars.\n",
    "\n",
    "Section 2 demonstrates how to access lightcurve data for a known RR Lyrae star, based on its ra and dec, and some initial analysis. \n",
    "\n",
    "Section 3 demonstrates how to access lightcurve summary statistics and explores identifying potential AGN variability. \n",
    "\n",
    "Section 4 demonstrates how to access the object catalog photometry and explores using color-color diagrams and lightcurves to identify potential AGN.  "
   ]
  },
  {
   "cell_type": "markdown",
   "id": "5ce8bb07-7507-4b6d-8ba5-34763d8f7e21",
   "metadata": {},
   "source": [
    "### 1.1 Import Packages\n",
    "\n",
    "Import general science and astronomy packages, and specific packages from the [LSST Science Pipelines](https://pipelines.lsst.io/)."
   ]
  },
  {
   "cell_type": "code",
   "execution_count": null,
   "id": "4ed4a218-fb64-47f5-9c45-03a5826b7ea8",
   "metadata": {},
   "outputs": [],
   "source": [
    "import numpy as np\n",
    "import matplotlib.pyplot as plt\n",
    "import astropy.units as u\n",
    "\n",
    "from astropy.table import unique\n",
    "from astropy.table import Table\n",
    "from astropy.timeseries import LombScargle\n",
    "\n",
    "from scipy import signal\n",
    "from scipy.stats import binned_statistic\n",
    "from astroML.time_series import generate_damped_RW as drw\n",
    "\n",
    "from lsst.rsp import get_tap_service"
   ]
  },
  {
   "cell_type": "markdown",
   "id": "7a77ace7-b4ea-446a-914e-5656a8bc2a7a",
   "metadata": {
    "execution": {
     "iopub.execute_input": "2025-04-09T19:14:41.253769Z",
     "iopub.status.busy": "2025-04-09T19:14:41.253150Z",
     "iopub.status.idle": "2025-04-09T19:14:41.256074Z",
     "shell.execute_reply": "2025-04-09T19:14:41.255606Z",
     "shell.execute_reply.started": "2025-04-09T19:14:41.253748Z"
    }
   },
   "source": [
    "### 1.2 Define parameters and functions"
   ]
  },
  {
   "cell_type": "markdown",
   "id": "6cec5f08-7fd8-4d81-8bf6-ea8215240568",
   "metadata": {},
   "source": [
    "Set up defaults for plotting. "
   ]
  },
  {
   "cell_type": "code",
   "execution_count": null,
   "id": "f2ed84e2-78cd-4ae7-8c54-cdc4777c3d4d",
   "metadata": {},
   "outputs": [],
   "source": [
    "%matplotlib inline\n",
    "plt.style.use('tableau-colorblind10')\n",
    "params = {'axes.labelsize': 14,\n",
    "          'font.size': 14,\n",
    "          'legend.fontsize': 14,\n",
    "          'xtick.major.width': 3,\n",
    "          'xtick.minor.width': 2,\n",
    "          'xtick.major.size': 12,\n",
    "          'xtick.minor.size': 6,\n",
    "          'xtick.direction': 'in',\n",
    "          'xtick.top': True,\n",
    "          \"xtick.minor.visible\": True,\n",
    "          'lines.linewidth': 3,\n",
    "          'axes.linewidth': 3,\n",
    "          'axes.labelweight': 3,\n",
    "          'axes.titleweight': 3,\n",
    "          'ytick.major.width': 3,\n",
    "          'ytick.minor.width': 2,\n",
    "          'ytick.major.size': 12,\n",
    "          'ytick.minor.size': 6,\n",
    "          'ytick.direction': 'in',\n",
    "          'ytick.right': True,\n",
    "          \"ytick.minor.visible\": True,\n",
    "          'figure.figsize': [10, 8],\n",
    "          'figure.facecolor': 'White'}\n",
    "plt.rcParams.update(params)"
   ]
  },
  {
   "cell_type": "markdown",
   "id": "55d47d00-d699-486d-ad6b-5af29d933af1",
   "metadata": {},
   "source": [
    "Set up colors and plot symbols corresponding to the _ugrizy_ bands."
   ]
  },
  {
   "cell_type": "code",
   "execution_count": null,
   "id": "74c6215f-80d7-4188-af57-e009fb0eb4ec",
   "metadata": {},
   "outputs": [],
   "source": [
    "plot_filter_labels = ['u', 'g', 'r', 'i', 'z', 'y']\n",
    "plot_filter_colors = {'u': '#0c71ff', 'g': '#49be61', 'r': '#c61c00',\n",
    "                      'i': '#ffc200', 'z': '#f341a2', 'y': '#5d0000'}\n",
    "plot_filter_symbols = {'u': 'o', 'g': '^', 'r': 'v', 'i': 's', 'z': '*', 'y': 'p'}"
   ]
  },
  {
   "cell_type": "markdown",
   "id": "9ad58cbf-d75c-4849-aa4f-cac447b34434",
   "metadata": {
    "execution": {
     "iopub.execute_input": "2025-04-17T03:02:33.790695Z",
     "iopub.status.busy": "2025-04-17T03:02:33.790432Z",
     "iopub.status.idle": "2025-04-17T03:02:33.794560Z",
     "shell.execute_reply": "2025-04-17T03:02:33.793974Z",
     "shell.execute_reply.started": "2025-04-17T03:02:33.790679Z"
    }
   },
   "source": [
    "Define a function to create a LombScargle periodogram using astropy."
   ]
  },
  {
   "cell_type": "code",
   "execution_count": null,
   "id": "fddd9e18-1f20-4c32-b67a-94f386bf94dc",
   "metadata": {},
   "outputs": [],
   "source": [
    "def calc_periodogram(time, mags, min_period, max_period):\n",
    "\n",
    "    min_freq_search = 1.0 / (max_period * u.day)\n",
    "    max_freq_search = 1.0 / (min_period * u.day)\n",
    "\n",
    "    frequency, power = LombScargle(LC_mjd, LC_mag).autopower(minimum_frequency=min_freq_search, maximum_frequency=max_freq_search)\n",
    "\n",
    "    return frequency, power"
   ]
  },
  {
   "cell_type": "markdown",
   "id": "224231b6-da23-4279-bc89-0a0b341c2fd5",
   "metadata": {},
   "source": [
    "Define a function to calculate a structure function (SF). Structure Function definition as presented in Kovačević et al. 2021 and shared in [AGN_cadences](https://github.com/LSST-sersag/agn_cadences/tree/main). "
   ]
  },
  {
   "cell_type": "code",
   "execution_count": null,
   "id": "7c0fc215-16e7-4c50-abbf-0d5878fddccb",
   "metadata": {},
   "outputs": [],
   "source": [
    "def calc_SF(t,y,z=0):\n",
    "    \n",
    "    dtr = []\n",
    "    dyr = []\n",
    "    obs = np.asarray(y.shape)[0]\n",
    "    for i in range(obs-1):\n",
    "        dtr.append(t[i+1:obs] - t[i])\n",
    "        dyr.append((y[i+1:obs] - y[i])*(y[i+1:obs] - y[i]))\n",
    "\n",
    "    dtr = np.concatenate(dtr, axis=0)\n",
    "    dyr = np.concatenate(dyr, axis=0)\n",
    "    \n",
    "    s, edges, _ = binned_statistic(dtr/(1+z), dyr, statistic='mean', bins=np.logspace(0,4,100))\n",
    "    \n",
    "    return s, edges"
   ]
  },
  {
   "cell_type": "markdown",
   "id": "9ba29b3c-1abd-49fc-8d4d-6a6f50322ae4",
   "metadata": {},
   "source": [
    "### 1.3 Initialize the TAP service"
   ]
  },
  {
   "cell_type": "markdown",
   "id": "e71bbeca-1707-42b4-a71b-87fb6f55a8c3",
   "metadata": {},
   "source": [
    "The TAP service is used to retrive all of the data in this notebook."
   ]
  },
  {
   "cell_type": "code",
   "execution_count": null,
   "id": "61f75277-cade-4877-ba52-ecf105dc217a",
   "metadata": {},
   "outputs": [],
   "source": [
    "service = get_tap_service(\"tap\")"
   ]
  },
  {
   "cell_type": "markdown",
   "id": "ecbe7b61-0913-48a9-8e49-8394d7468f59",
   "metadata": {},
   "source": [
    "## 2. Create lightcurves using forced photometry from the ForcedSource table"
   ]
  },
  {
   "cell_type": "markdown",
   "id": "5279f93b-a8af-49be-bb3b-68b05ff86fc3",
   "metadata": {
    "execution": {
     "iopub.execute_input": "2025-04-11T19:21:37.733640Z",
     "iopub.status.busy": "2025-04-11T19:21:37.733405Z",
     "iopub.status.idle": "2025-04-11T19:21:37.736205Z",
     "shell.execute_reply": "2025-04-11T19:21:37.735756Z",
     "shell.execute_reply.started": "2025-04-11T19:21:37.733623Z"
    }
   },
   "source": [
    "### 2.1 Plot multi-band lightcurves"
   ]
  },
  {
   "cell_type": "markdown",
   "id": "eb380574-8f29-49e0-ae6f-54ce6517507e",
   "metadata": {
    "execution": {
     "iopub.execute_input": "2025-04-17T03:42:09.884914Z",
     "iopub.status.busy": "2025-04-17T03:42:09.884652Z",
     "iopub.status.idle": "2025-04-17T03:42:09.888528Z",
     "shell.execute_reply": "2025-04-17T03:42:09.887976Z",
     "shell.execute_reply.started": "2025-04-17T03:42:09.884897Z"
    }
   },
   "source": [
    "This section will demonstrate how to create lightcurves in the _ugrizy_ bands for an object starting with a known ra and dec. \n",
    "\n",
    "The `ForcedSource` table provides forced photometry measurements in single visit images at the locations of objects in the `Object` table. Each measurement in the `ForcedSource` table can be identified by `objectId`. The time information is included in the `CcdVisit` table."
   ]
  },
  {
   "cell_type": "markdown",
   "id": "e33f5c88-30f4-4ea5-b96f-15981b25d11a",
   "metadata": {},
   "source": [
    "#### 2.1.1 Define coordinates of known object of interest"
   ]
  },
  {
   "cell_type": "markdown",
   "id": "c90806fd-c1f1-4554-83ce-64f06efac481",
   "metadata": {},
   "source": [
    "There is a known RR Lyrae star in the DP0.2 data at the position (RA, Dec) = (62.1479031, -35.799138) degrees."
   ]
  },
  {
   "cell_type": "code",
   "execution_count": null,
   "id": "5170535a-ed8f-4990-9da7-7b89e05d6e52",
   "metadata": {},
   "outputs": [],
   "source": [
    "ra  =  62.1479031\n",
    "dec =  -35.799138"
   ]
  },
  {
   "cell_type": "markdown",
   "id": "e6d02be7-7b81-4d2e-8ade-3c50b4687612",
   "metadata": {},
   "source": [
    "#### 2.1.2 Query the Object Table to find the objectId that matches the coordinates"
   ]
  },
  {
   "cell_type": "markdown",
   "id": "79554c1b-1243-4533-bc6b-2dd66cc53ca3",
   "metadata": {},
   "source": [
    "Create a spatial query for a 0.001 degree radius around the defined ra and dec. Include a constraint for \"detect_isPrimary = 1\". The <a href=\"https://pipelines.lsst.io/getting-started/multiband-analysis.html#filtering-for-unique-deblended-sources-with-the-detect-isprimary-flag\">detect_isPrimary flag</a> is a composite flag that, if TRUE (or set to 1), ensures a unique, deblended source."
   ]
  },
  {
   "cell_type": "code",
   "execution_count": null,
   "id": "d13fe52b-4e92-4898-8972-da2b714885a7",
   "metadata": {},
   "outputs": [],
   "source": [
    "query = \"SELECT TOP 100 \"\\\n",
    "        \"objectId, coord_ra, coord_dec, \"\\\n",
    "        \"detect_isPrimary \"\\\n",
    "        \"FROM dp02_dc2_catalogs.Object \"\\\n",
    "        \"WHERE CONTAINS(POINT('ICRS', coord_ra, coord_dec), \"\\\n",
    "        \"CIRCLE('ICRS',\" + str(ra) + \", \"\\\n",
    "        + str(dec) + \", 0.001)) = 1 \"\\\n",
    "        \"AND detect_isPrimary = 1\""
   ]
  },
  {
   "cell_type": "markdown",
   "id": "d1c225ea-3042-4037-9f4b-861d308a4863",
   "metadata": {},
   "source": [
    "Run the query and retrieve the results."
   ]
  },
  {
   "cell_type": "code",
   "execution_count": null,
   "id": "113a5841-f180-46af-8dbc-8cc6493c4bba",
   "metadata": {},
   "outputs": [],
   "source": [
    "job = service.submit_job(query)\n",
    "job.run()\n",
    "job.wait(phases=['COMPLETED', 'ERROR'])\n",
    "print('Job phase is', job.phase)"
   ]
  },
  {
   "cell_type": "code",
   "execution_count": null,
   "id": "a2bb1b2f-8381-45c6-9a8c-d4f293500868",
   "metadata": {},
   "outputs": [],
   "source": [
    "object_table = job.fetch_result().to_table()"
   ]
  },
  {
   "cell_type": "markdown",
   "id": "83e08b97-cf7a-404d-b83f-640cd4532eb8",
   "metadata": {},
   "source": [
    "Show the results of the query."
   ]
  },
  {
   "cell_type": "code",
   "execution_count": null,
   "id": "244b8dea-f416-4b69-8b59-a8f71064886b",
   "metadata": {},
   "outputs": [],
   "source": [
    "object_table"
   ]
  },
  {
   "cell_type": "markdown",
   "id": "6211997e-11e8-4dfd-86be-2dd99270cce2",
   "metadata": {
    "execution": {
     "iopub.execute_input": "2025-04-17T04:50:12.514101Z",
     "iopub.status.busy": "2025-04-17T04:50:12.513879Z",
     "iopub.status.idle": "2025-04-17T04:50:12.518764Z",
     "shell.execute_reply": "2025-04-17T04:50:12.517966Z",
     "shell.execute_reply.started": "2025-04-17T04:50:12.514085Z"
    }
   },
   "source": [
    "Extract the objectId. "
   ]
  },
  {
   "cell_type": "code",
   "execution_count": null,
   "id": "9a9a9d6f-765d-4612-bae0-658d63b43f47",
   "metadata": {},
   "outputs": [],
   "source": [
    "object_id = object_table['objectId'][0]\n",
    "object_id"
   ]
  },
  {
   "cell_type": "markdown",
   "id": "8900c117-1e6f-49bf-84ef-65ee96cb9b6a",
   "metadata": {
    "execution": {
     "iopub.execute_input": "2025-03-26T00:19:27.995552Z",
     "iopub.status.busy": "2025-03-26T00:19:27.995315Z",
     "iopub.status.idle": "2025-03-26T00:19:27.998445Z",
     "shell.execute_reply": "2025-03-26T00:19:27.997757Z",
     "shell.execute_reply.started": "2025-03-26T00:19:27.995536Z"
    }
   },
   "source": [
    "#### 2.1.3 Query the ForcedSource and CcdVisit table for lightcurve information"
   ]
  },
  {
   "cell_type": "markdown",
   "id": "59b47274-c685-42e1-b171-e6aa51a4f985",
   "metadata": {},
   "source": [
    "Create a query for all sources in the ForcedSource table matching the specified objectId. Join the Ccd visit table to get visit information.  "
   ]
  },
  {
   "cell_type": "markdown",
   "id": "cd86c072-6006-42fe-862e-7f6138bd5f6e",
   "metadata": {},
   "source": [
    "Use the `scisql_nanojanskyToAbMag` and `scisql_nanojanskyToAbMag` functions to convert fluxes to magnitudes within the query."
   ]
  },
  {
   "cell_type": "code",
   "execution_count": null,
   "id": "189dc3a7-c907-4b71-812b-02d6a7887136",
   "metadata": {},
   "outputs": [],
   "source": [
    "query = \"SELECT src.objectId, src.forcedSourceId, src.coord_ra, src.coord_dec, src.band, \"\\\n",
    "        \"src.psfFlux, src.ccdVisitId, \"\\\n",
    "        \"scisql_nanojanskyToAbMag(psfFlux) as psfMag, \"\\\n",
    "        \"visinfo.ccdVisitId, visinfo.expMidptMJD, visinfo.band \"\\\n",
    "        \"FROM dp02_dc2_catalogs.ForcedSource as src \"\\\n",
    "        \"JOIN dp02_dc2_catalogs.CcdVisit as visinfo \"\\\n",
    "        \"ON visinfo.ccdVisitId = src.ccdVisitId \"\\\n",
    "        \"WHERE src.objectId = \"+str(object_id)+\" \"\n",
    "#print(query)"
   ]
  },
  {
   "cell_type": "markdown",
   "id": "cf8ace5b-482e-4026-aa23-6094b7cf8118",
   "metadata": {
    "execution": {
     "iopub.execute_input": "2025-04-17T05:06:52.072594Z",
     "iopub.status.busy": "2025-04-17T05:06:52.072271Z",
     "iopub.status.idle": "2025-04-17T05:06:52.076207Z",
     "shell.execute_reply": "2025-04-17T05:06:52.075648Z",
     "shell.execute_reply.started": "2025-04-17T05:06:52.072577Z"
    }
   },
   "source": [
    "Run the query and retrieve the results."
   ]
  },
  {
   "cell_type": "code",
   "execution_count": null,
   "id": "8681b608-7e3d-4b69-bb75-92acd91c9bea",
   "metadata": {},
   "outputs": [],
   "source": [
    "job = service.submit_job(query)\n",
    "job.run()\n",
    "job.wait(phases=['COMPLETED', 'ERROR'])\n",
    "print('Job phase is', job.phase)"
   ]
  },
  {
   "cell_type": "code",
   "execution_count": null,
   "id": "fcc50a22-b26b-4c67-8c45-c7c31ffbfbcb",
   "metadata": {},
   "outputs": [],
   "source": [
    "forced_source_table = job.fetch_result().to_table()"
   ]
  },
  {
   "cell_type": "markdown",
   "id": "ab37164f-1071-4bb3-8551-a18c9f69e5f9",
   "metadata": {},
   "source": [
    "Show the results of the query. "
   ]
  },
  {
   "cell_type": "code",
   "execution_count": null,
   "id": "6376e9b6-4b19-4366-a994-4b6dec91eab3",
   "metadata": {},
   "outputs": [],
   "source": [
    "#forced_source_table"
   ]
  },
  {
   "cell_type": "markdown",
   "id": "e501f713-00d9-4271-abd7-df221e4186e1",
   "metadata": {
    "execution": {
     "iopub.execute_input": "2025-03-26T00:38:22.033109Z",
     "iopub.status.busy": "2025-03-26T00:38:22.032547Z",
     "iopub.status.idle": "2025-03-26T00:38:22.035866Z",
     "shell.execute_reply": "2025-03-26T00:38:22.035175Z",
     "shell.execute_reply.started": "2025-03-26T00:38:22.033082Z"
    }
   },
   "source": [
    "#### 2.1.4 Plot the lightcurve for multiple bands"
   ]
  },
  {
   "cell_type": "markdown",
   "id": "338bdcba-9759-4f19-8a5a-1fadde3adbfe",
   "metadata": {},
   "source": [
    "Create a dictionary named 'pick' to facilitate filtering measurements for specific bands."
   ]
  },
  {
   "cell_type": "code",
   "execution_count": null,
   "id": "e02d602c-f8e9-4463-9f31-705b353b46d4",
   "metadata": {},
   "outputs": [],
   "source": [
    "pick = {}\n",
    "for band in plot_filter_labels:\n",
    "    pick[band] = (forced_source_table['band'] == band)"
   ]
  },
  {
   "cell_type": "markdown",
   "id": "0b1c499a-2d93-4076-877c-2799527fd94f",
   "metadata": {},
   "source": [
    "Plot the lightcurve for each band."
   ]
  },
  {
   "cell_type": "code",
   "execution_count": null,
   "id": "d412ad1a-77e9-4089-84cd-b35c7643bafc",
   "metadata": {},
   "outputs": [],
   "source": [
    "fig, ax = plt.subplots(3, 2, figsize=(16, 8), sharey=False, sharex=False)\n",
    "\n",
    "ax = ax.flatten()\n",
    "\n",
    "for i, band in enumerate(plot_filter_labels):\n",
    "    \n",
    "    ax[i].plot(forced_source_table[pick[band]]['expMidptMJD'], forced_source_table[pick[band]]['psfMag'],\n",
    "         plot_filter_symbols[band], ms=10, color=plot_filter_colors[band])\n",
    "    ax[i].set_ylabel(\"{0} mag\".format(band))\n",
    "    ax[i].invert_yaxis()\n",
    "\n",
    "ax[0].set_title(\"objectId = {0}\".format(object_id))\n",
    "ax[4].set_xlabel('MJD (days)')\n",
    "ax[5].set_xlabel('MJD (days)')\n",
    "plt.tick_params(axis='both', direction=\"in\")\n",
    "plt.show()"
   ]
  },
  {
   "cell_type": "markdown",
   "id": "5a05d2d2-261f-492c-b476-e84ff0fec80f",
   "metadata": {},
   "source": [
    "### 2.2 Investigate variability timescales"
   ]
  },
  {
   "cell_type": "markdown",
   "id": "f55d65f2-86e3-4364-83b9-6a83e2be50c3",
   "metadata": {},
   "source": [
    "Store the i-band lightcurve and sort by mjd. "
   ]
  },
  {
   "cell_type": "code",
   "execution_count": null,
   "id": "9455519d-0d33-4b18-b7a1-de7fcb3ea27a",
   "metadata": {},
   "outputs": [],
   "source": [
    "LC_mjd = forced_source_table[forced_source_table['band'] == 'i']['expMidptMJD']\n",
    "LC_mag = forced_source_table[forced_source_table['band'] == 'i']['psfMag']\n",
    "\n",
    "sort_index = np.argsort(LC_mjd)\n",
    "LC_mjd = LC_mjd[sort_index]\n",
    "LC_mag = LC_mag[sort_index]"
   ]
  },
  {
   "cell_type": "markdown",
   "id": "a21ba848-d5be-47c5-bec1-1534999b0054",
   "metadata": {},
   "source": [
    "#### 2.2.1 Extract potential periods of variability from a Lomb-Scargle periodogram"
   ]
  },
  {
   "cell_type": "markdown",
   "id": "0a086c33-74fc-4924-b05a-3e5210e67efe",
   "metadata": {
    "execution": {
     "iopub.execute_input": "2025-04-17T05:26:11.162612Z",
     "iopub.status.busy": "2025-04-17T05:26:11.162253Z",
     "iopub.status.idle": "2025-04-17T05:26:11.166139Z",
     "shell.execute_reply": "2025-04-17T05:26:11.165638Z",
     "shell.execute_reply.started": "2025-04-17T05:26:11.162594Z"
    }
   },
   "source": [
    "Call the function defined at the top of the notebook to look for periods between 0.05 and 1.05 days. RR Lyrae stars have periods ~0.2-0.9 days."
   ]
  },
  {
   "cell_type": "code",
   "execution_count": null,
   "id": "6fa4415b-479b-4d93-9e1c-c5acf23fb3c7",
   "metadata": {},
   "outputs": [],
   "source": [
    "frequency, power = calc_periodogram(LC_mjd, LC_mag, 0.05, 1.05)"
   ]
  },
  {
   "cell_type": "markdown",
   "id": "7d7b7ec8-5c8b-40a3-8b22-d81a5199065d",
   "metadata": {},
   "source": [
    "Extract the frequency for the peak in the periodogram. Calculate the most likely period of variability. "
   ]
  },
  {
   "cell_type": "code",
   "execution_count": null,
   "id": "e5154449-90d4-4ec8-8fb1-32d658d76f17",
   "metadata": {},
   "outputs": [],
   "source": [
    "peak_bin = np.argmax(power)\n",
    "peak_freq = frequency[peak_bin].value\n",
    "best_period = 1/peak_freq"
   ]
  },
  {
   "cell_type": "markdown",
   "id": "b7f43fa0-098b-4a34-9fa8-fed5d8d45f5e",
   "metadata": {
    "execution": {
     "iopub.execute_input": "2025-04-17T05:37:20.236681Z",
     "iopub.status.busy": "2025-04-17T05:37:20.236436Z",
     "iopub.status.idle": "2025-04-17T05:37:20.240415Z",
     "shell.execute_reply": "2025-04-17T05:37:20.239773Z",
     "shell.execute_reply.started": "2025-04-17T05:37:20.236665Z"
    }
   },
   "source": [
    "Plot the periodogram using frequency and period. "
   ]
  },
  {
   "cell_type": "code",
   "execution_count": null,
   "id": "1322a962-48c2-4726-a399-79ae3928a7e2",
   "metadata": {},
   "outputs": [],
   "source": [
    "fig, ax = plt.subplots(1, 2, figsize=(12, 4))\n",
    "\n",
    "ax[0].plot(frequency, power)\n",
    "ax[0].vlines(peak_freq, 0, 1, linestyle='--', color='purple')\n",
    "ax[0].set_xlabel('Freq')\n",
    "ax[0].set_ylabel('Power')\n",
    "\n",
    "ax[1].plot(1/frequency, power)\n",
    "ax[1].vlines(1/peak_freq, 0, 1, linestyle='--', color='purple')\n",
    "ax[1].set_xlabel('Period')\n",
    "ax[1].set_ylabel('Power')\n",
    "\n",
    "plt.show()"
   ]
  },
  {
   "cell_type": "markdown",
   "id": "7004262b-ecae-4d57-8b06-91808b62bb0f",
   "metadata": {
    "execution": {
     "iopub.execute_input": "2025-04-14T07:38:32.686086Z",
     "iopub.status.busy": "2025-04-14T07:38:32.685814Z",
     "iopub.status.idle": "2025-04-14T07:38:32.688822Z",
     "shell.execute_reply": "2025-04-14T07:38:32.688360Z",
     "shell.execute_reply.started": "2025-04-14T07:38:32.686067Z"
    }
   },
   "source": [
    "#### 2.2.2 Calculate the structure function for the star"
   ]
  },
  {
   "cell_type": "markdown",
   "id": "ec7c61b4-9636-446d-84c5-2189ac02e976",
   "metadata": {},
   "source": [
    "Calculate the structure function for the variability of the star. The structure function is a commonly used tool to study AGN variability. "
   ]
  },
  {
   "cell_type": "code",
   "execution_count": null,
   "id": "55fe63f0-166c-42e5-9fde-a37e03976e2d",
   "metadata": {},
   "outputs": [],
   "source": [
    "SF = calc_SF(LC_mjd, LC_mag)"
   ]
  },
  {
   "cell_type": "markdown",
   "id": "efef5464-b656-4abc-8221-19f8f7128d18",
   "metadata": {},
   "source": [
    "Plot the structure function. "
   ]
  },
  {
   "cell_type": "code",
   "execution_count": null,
   "id": "e598cf5a-0218-4ad3-b8d1-d7b3b1bb412a",
   "metadata": {},
   "outputs": [],
   "source": [
    "fig, ax = plt.subplots(figsize=(6, 4))\n",
    "\n",
    "ax.plot(np.log10(SF[1][:-1] + np.diff(SF[1])/2), np.log10(np.sqrt(SF[0])), 'o', color=plot_filter_colors['i'])\n",
    "ax.set_ylabel('log SF')\n",
    "ax.set_xlabel(r'log $\\Delta$ t')\n",
    "plt.show()"
   ]
  },
  {
   "cell_type": "markdown",
   "id": "a24fdd2e-6ebb-4fae-9dbb-ceacdf96a39c",
   "metadata": {},
   "source": [
    "#### 2.2.3 Plot a structure function for AGN-like variability"
   ]
  },
  {
   "cell_type": "markdown",
   "id": "4c13c8f3-254b-498c-b816-ad578ed3fda1",
   "metadata": {},
   "source": [
    "Retrieve a simulated AGN lightcurve of similar magnitude to the variable star. The lightcurve is produced by the `generate_damped_RW` function from the `astroML` module, spanning the full range of the RR Lyrae lightcurve with mean magnitude in the i-band = 18.2, SF$\\inf$ = 0.2, and $\\tau$ = 300. "
   ]
  },
  {
   "cell_type": "code",
   "execution_count": null,
   "id": "0331fc5f-fa7c-456d-9b8d-520fa0ea4147",
   "metadata": {},
   "outputs": [],
   "source": [
    "full_AGN_lc = Table.read(\"data/full_AGN_lc.csv\", format=\"csv\")\n",
    "full_times = full_AGN_lc['time']\n",
    "full_mags = full_AGN_lc['magnitude']"
   ]
  },
  {
   "cell_type": "markdown",
   "id": "57ae9b0f-1e94-49bb-b6cb-35f9e390f3c5",
   "metadata": {
    "execution": {
     "iopub.execute_input": "2025-04-17T06:04:36.169687Z",
     "iopub.status.busy": "2025-04-17T06:04:36.169054Z",
     "iopub.status.idle": "2025-04-17T06:04:36.173229Z",
     "shell.execute_reply": "2025-04-17T06:04:36.172678Z",
     "shell.execute_reply.started": "2025-04-17T06:04:36.169665Z"
    }
   },
   "source": [
    "To account for the cadence of the DP0.2 simulation, we keep only the lightcurve points corresponding to dates when the star was observed.\n",
    "\n",
    "> **Notice:** The simulated data in the DP0.2 used an observing cadence that differs from the most recent survey strategy plans. Additionally, it does not contain any Deep Drilling Fields (DDF). "
   ]
  },
  {
   "cell_type": "code",
   "execution_count": null,
   "id": "f5661e8d-4d83-4039-91ed-8d51b58cb61e",
   "metadata": {},
   "outputs": [],
   "source": [
    "obs_AGN_lc = Table.read(\"data/observed_AGN_lc.csv\", format=\"csv\")\n",
    "obs_times = obs_AGN_lc['time']\n",
    "obs_mags = obs_AGN_lc['magnitude']"
   ]
  },
  {
   "cell_type": "markdown",
   "id": "d9c43364-58a5-4585-9a59-29ac1e371407",
   "metadata": {},
   "source": [
    "Calculate the structure function for the full AGN lightcurve, and the lightcurve matching the times when the star was observed."
   ]
  },
  {
   "cell_type": "code",
   "execution_count": null,
   "id": "762175c2-9c0c-476f-b643-65199314aff6",
   "metadata": {},
   "outputs": [],
   "source": [
    "SF_cadence = calc_SF(obs_times, obs_mags)\n",
    "SF_full    = calc_SF(full_times, full_mags)"
   ]
  },
  {
   "cell_type": "markdown",
   "id": "c00def8a-2f96-4bc1-b672-6a06b2b6c580",
   "metadata": {},
   "source": [
    "Plot the lightcurves and the structure function."
   ]
  },
  {
   "cell_type": "code",
   "execution_count": null,
   "id": "af7548a7-f8d0-4e38-bd48-c801bf8614fb",
   "metadata": {},
   "outputs": [],
   "source": [
    "fig, ax = plt.subplots(1,2, figsize=(12, 4))\n",
    "\n",
    "ax[0].plot(full_times, full_mags, '-', alpha = 0.1, label='Full LC')\n",
    "ax[0].plot(obs_times, obs_mags, 'o', color=plot_filter_colors['i'], label = 'Observed LC')\n",
    "ax[0].set_xlabel('MJD')\n",
    "ax[0].set_ylabel('i mag')\n",
    "ax[0].legend(loc='lower right')\n",
    "\n",
    "ax[1].plot(np.log10(SF_full[1][:-1]+np.diff(SF_full[1])/2), np.log10(np.sqrt(SF_full[0])), '-', color='black', alpha = 0.1, label='Full LC')\n",
    "ax[1].plot(np.log10(SF_cadence[1][:-1]+np.diff(SF_cadence[1])/2), np.log10(np.sqrt(SF_cadence[0])), 'o', color=plot_filter_colors['i'], label='Observed LC')\n",
    "ax[1].set_ylabel('log SF')\n",
    "ax[1].set_xlabel(r'log $\\Delta$ t')\n",
    "ax[1].legend(loc='lower right')\n",
    "\n",
    "plt.show()"
   ]
  },
  {
   "cell_type": "markdown",
   "id": "60df2108-f614-4e35-af17-fb72de68451a",
   "metadata": {},
   "source": [
    "## 3. Identify objects by variability parameters from the DiaObject Table"
   ]
  },
  {
   "cell_type": "markdown",
   "id": "51d13db0-38d3-413f-9bca-76998108dcb7",
   "metadata": {
    "execution": {
     "iopub.execute_input": "2025-04-17T07:07:35.295321Z",
     "iopub.status.busy": "2025-04-17T07:07:35.294642Z",
     "iopub.status.idle": "2025-04-17T07:07:35.299126Z",
     "shell.execute_reply": "2025-04-17T07:07:35.298508Z",
     "shell.execute_reply.started": "2025-04-17T07:07:35.295298Z"
    }
   },
   "source": [
    "AGN exhibit longterm, stochastic variability in all bands. In photometric surveys, AGN can be identified by their variability signatures. The `DiaObject` table provides lightcurve summary statistics that can be used to identify potential objects of interest."
   ]
  },
  {
   "cell_type": "markdown",
   "id": "e1abac43-0d2d-41cb-9d8e-0ec753066e83",
   "metadata": {
    "execution": {
     "iopub.execute_input": "2025-04-11T19:24:38.069654Z",
     "iopub.status.busy": "2025-04-11T19:24:38.069392Z",
     "iopub.status.idle": "2025-04-11T19:24:38.072540Z",
     "shell.execute_reply": "2025-04-11T19:24:38.071916Z",
     "shell.execute_reply.started": "2025-04-11T19:24:38.069635Z"
    }
   },
   "source": [
    "### 3.1 Explore lightcurve summary statistics"
   ]
  },
  {
   "cell_type": "markdown",
   "id": "d484d99e-aaf0-466c-a56e-6947c268b691",
   "metadata": {},
   "source": [
    "The `DiaObject` table includes the following: \n",
    "\n",
    "**nDiaSources:** The number of difference-image detections in any filter (i.e., number of DiaSources associated with a given DiaObject).\n",
    " \n",
    "The following statistics are all based on _difference-image point source (PS) flux values_ for each filter [f].<br>\n",
    "**[f]PSFluxMin:** The faintest flux. <br>\n",
    "**[f]PSFluxMax:** The brightest flux. <br>\n",
    "**[f]PSFluxMean:** The average flux. <br>\n",
    "**[f]PSFluxSigma:** The standard deviation of the fluxes. <br>\n",
    "**[f]PSFluxMAD:** The mean absolute deviation of the fluxes (i.e., the average distance from the mean). <br>\n",
    "**[f]PSFluxChi2:** The Chi2 statistic for the scatter of the fluxes around the mean. <br>\n",
    "**[f]PSFluxNdata:** The number of data points used to compute [f]PSFluxChi2. <br>\n",
    "**[f]PSFluxSkew:** A measure of asymmentry in the distribution of fluxes about the mean (where 0 means symmetric). <br>\n",
    "**[f]PSFluxStetsonJ:** A variability index developed for Cepheids (defined in <a href=\"https://ui.adsabs.harvard.edu/abs/1996PASP..108..851S/abstract\">Stetson 1996</a>). <br>\n",
    "**[f]PSFluxPercentile05, 25, 50, 75, 95:** Derived from the cumulative distribution of flux values. <br>\n",
    "\n",
    "The following statistics are all based on the _direct-image total (TOT) flux values_ for each filter [f]. <br>\n",
    "**[f]TOTFluxMean:** The average flux.  <br>\n",
    "**[f]TOTFluxSigma:** The standard deviation of the fluxes.  <br>"
   ]
  },
  {
   "cell_type": "markdown",
   "id": "1f0871fb-6c88-4e3e-8fb3-c58626bf851a",
   "metadata": {
    "execution": {
     "iopub.execute_input": "2025-04-17T07:10:07.867471Z",
     "iopub.status.busy": "2025-04-17T07:10:07.866916Z",
     "iopub.status.idle": "2025-04-17T07:10:07.871244Z",
     "shell.execute_reply": "2025-04-17T07:10:07.870714Z",
     "shell.execute_reply.started": "2025-04-17T07:10:07.867433Z"
    }
   },
   "source": [
    "> **Notice:** The DP0.2 DiaObject table is missing some variability characterization parameters (<a href=\"https://dmtn-118.lsst.io\">DMTN-118</a>) and host association parameters (<a href=\"https://dmtn-151.lsst.io\">DMTN-151</a>) which will exist for future data releases."
   ]
  },
  {
   "cell_type": "markdown",
   "id": "0c67ee47-97f2-4eb1-8e0b-2c8fedd9c65e",
   "metadata": {},
   "source": [
    "#### 3.1.1 Query the DiaObject table for well sampled objects near the center of the simulated data"
   ]
  },
  {
   "cell_type": "markdown",
   "id": "22386c0f-af72-487a-b5e0-39dbc79d9956",
   "metadata": {},
   "source": [
    "Define the coordinates for the center of the DC2 simulation."
   ]
  },
  {
   "cell_type": "code",
   "execution_count": null,
   "id": "20e279f0-f3e5-4c93-9eda-19beed4b472c",
   "metadata": {},
   "outputs": [],
   "source": [
    "center_ra = 62\n",
    "center_dec = -37"
   ]
  },
  {
   "cell_type": "markdown",
   "id": "cb95e6ed-0ec2-40e7-a7e9-a8995d78b0f6",
   "metadata": {},
   "source": [
    "Create a query for DiaObjects within 5 degrees of the central coordinates. Extract the number of DiaSources (PSFluxNdata) for each band. "
   ]
  },
  {
   "cell_type": "code",
   "execution_count": null,
   "id": "4f2dcbcb-ee75-4793-b661-54e7629138d5",
   "metadata": {},
   "outputs": [],
   "source": [
    "query = \"SELECT diao.diaObjectId, diao.ra, diao.decl, diao.nDiaSources, \"\\\n",
    "        \"diao.gPSFluxNdata, diao.rPSFluxNdata, diao.iPSFluxNdata, \"\\\n",
    "        \"diao.uPSFluxNdata, diao.zPSFluxNdata, diao.yPSFluxNdata \"\\\n",
    "        \"FROM dp02_dc2_catalogs.DiaObject as diao \"\\\n",
    "        \"WHERE diao.nDiaSources > 100 \"\\\n",
    "        \"AND CONTAINS(POINT('ICRS', diao.ra, diao.decl), \"\\\n",
    "        \"CIRCLE('ICRS',\"+str(center_ra)+\", \"+str(center_dec)+\", 5)) = 1 \"\n",
    "#print(query)"
   ]
  },
  {
   "cell_type": "markdown",
   "id": "caec4a5f-5a8f-4853-8c04-f384784628bc",
   "metadata": {},
   "source": [
    "Run the query and retrieve the results."
   ]
  },
  {
   "cell_type": "code",
   "execution_count": null,
   "id": "a3d34dd8-cff3-46ec-822c-a4ade2033e6c",
   "metadata": {},
   "outputs": [],
   "source": [
    "job = service.submit_job(query)\n",
    "job.run()\n",
    "job.wait(phases=['COMPLETED', 'ERROR'])\n",
    "print('Job phase is', job.phase)"
   ]
  },
  {
   "cell_type": "code",
   "execution_count": null,
   "id": "76317109-1ac7-49d0-b0f8-03231d7c1fa0",
   "metadata": {},
   "outputs": [],
   "source": [
    "dia_object_table = job.fetch_result().to_table()"
   ]
  },
  {
   "cell_type": "markdown",
   "id": "d4d19b13-635c-4699-9077-95c3571d6c99",
   "metadata": {},
   "source": [
    "#### 3.1.2 Plot the distribution of number of DiaSources per DiaObject per band"
   ]
  },
  {
   "cell_type": "code",
   "execution_count": null,
   "id": "c06e9d84-c565-4421-972d-d98c0b187aa9",
   "metadata": {},
   "outputs": [],
   "source": [
    "fig, ax = plt.subplots(1,2, figsize=(12, 4))\n",
    "\n",
    "ax[0].hist(dia_object_table['gPSFluxNdata'], bins=np.arange(0, 100, 5), histtype='step', log=True, label='g', color=plot_filter_colors['g'])\n",
    "ax[0].hist(dia_object_table['rPSFluxNdata'], bins=np.arange(0, 100, 5), histtype='step', log=True, label='r', color=plot_filter_colors['r'])\n",
    "ax[0].hist(dia_object_table['iPSFluxNdata'], bins=np.arange(0, 100, 5), histtype='step', log=True, label='i', color=plot_filter_colors['i'])\n",
    "ax[0].legend()\n",
    "ax[0].set_xlabel('PSFluxNdata')\n",
    "ax[0].set_ylabel('Number of DiaObjects')\n",
    "\n",
    "ax[1].hist(dia_object_table['uPSFluxNdata'], bins=np.arange(0, 100, 5), histtype='step', log=True, label='u', color=plot_filter_colors['u'])\n",
    "ax[1].hist(dia_object_table['zPSFluxNdata'], bins=np.arange(0, 100, 5), histtype='step', log=True, label='z', color=plot_filter_colors['z'])\n",
    "ax[1].hist(dia_object_table['yPSFluxNdata'], bins=np.arange(0, 100, 5), histtype='step', log=True, label='y', color=plot_filter_colors['y'])\n",
    "ax[1].legend()\n",
    "ax[1].set_xlabel('PSFluxNdata')\n",
    "ax[1].set_ylabel('Number of DiaObjects')\n",
    "plt.show()"
   ]
  },
  {
   "cell_type": "markdown",
   "id": "6901bfbb-b2ec-47a7-a6eb-5abc63cd8f0d",
   "metadata": {
    "execution": {
     "iopub.execute_input": "2025-03-25T02:57:58.802121Z",
     "iopub.status.busy": "2025-03-25T02:57:58.801882Z",
     "iopub.status.idle": "2025-03-25T02:57:58.804969Z",
     "shell.execute_reply": "2025-03-25T02:57:58.804370Z",
     "shell.execute_reply.started": "2025-03-25T02:57:58.802102Z"
    }
   },
   "source": [
    "### 3.2 Identify variable objects based on lightcurve statistics"
   ]
  },
  {
   "cell_type": "markdown",
   "id": "f0439c65-d141-4c0d-afe1-cbaef30318de",
   "metadata": {
    "execution": {
     "iopub.execute_input": "2025-04-17T06:54:25.853517Z",
     "iopub.status.busy": "2025-04-17T06:54:25.852958Z",
     "iopub.status.idle": "2025-04-17T06:54:25.856816Z",
     "shell.execute_reply": "2025-04-17T06:54:25.856298Z",
     "shell.execute_reply.started": "2025-04-17T06:54:25.853492Z"
    }
   },
   "source": [
    "#### 3.2.1 Define the selection criteria"
   ]
  },
  {
   "cell_type": "markdown",
   "id": "fbd62766-ba3b-4c43-bfae-f19a5af764f7",
   "metadata": {},
   "source": [
    "Define the minimum number of detections in any band, magnitude ranges, and amplitude."
   ]
  },
  {
   "cell_type": "code",
   "execution_count": null,
   "id": "3a5b1b03-1df6-416f-b937-6eccd658ed74",
   "metadata": {},
   "outputs": [],
   "source": [
    "min_diaSources = 200\n",
    "min_mag = 21\n",
    "max_mag = 18\n",
    "min_amp = 0.5\n",
    "max_amp = 2"
   ]
  },
  {
   "cell_type": "markdown",
   "id": "2a7fc403-da5c-46e5-9d97-4f9494a32852",
   "metadata": {},
   "source": [
    "#### 3.2.2 Query the DiaObject table for object meeting the selection criteria, and retrieve their lightcurves"
   ]
  },
  {
   "cell_type": "markdown",
   "id": "b4d4e132-4301-4ba5-9d11-c8d333882773",
   "metadata": {
    "execution": {
     "iopub.execute_input": "2025-04-17T06:43:40.841540Z",
     "iopub.status.busy": "2025-04-17T06:43:40.841034Z",
     "iopub.status.idle": "2025-04-17T06:43:40.844667Z",
     "shell.execute_reply": "2025-04-17T06:43:40.844073Z",
     "shell.execute_reply.started": "2025-04-17T06:43:40.841519Z"
    }
   },
   "source": [
    "Create a query for DiaObjects within 5 degrees of the central coordinates including the constraints, for only the r-band. Join with the `ForcedSourceOnDia` and `CcdVisit` tables to retrieve the lightcurves."
   ]
  },
  {
   "cell_type": "code",
   "execution_count": null,
   "id": "7368eea6-a106-40dd-89e5-dddb2c5f244a",
   "metadata": {},
   "outputs": [],
   "source": [
    "query = \"SELECT diao.diaObjectId, diao.ra, diao.decl, \"\\\n",
    "        \"diao.nDiaSources, diao.gPSFluxNdata, diao.rPSFluxNdata, diao.iPSFluxNdata, \"\\\n",
    "        \"diao.rPSFluxMin, diao.rPSFluxMax, diao.rPSFluxMean, \"\\\n",
    "        \"diao.rPSFluxSigma, diao.rPSFluxMAD, diao.rPSFluxChi2, \"\\\n",
    "        \"diao.rTOTFluxMean, diao.rTOTFluxSigma, \"\\\n",
    "        \"scisql_nanojanskyToAbMag(diao.rPSFluxMin) \"\\\n",
    "        \"- scisql_nanojanskyToAbMag(diao.rPSFluxMax) as r_amp, \"\\\n",
    "        \"fsodo.diaObjectId, fsodo.forcedSourceOnDiaObjectId, fsodo.band, fsodo.psfFlux, fsodo.psfFluxErr, fsodo.ccdVisitId, \"\\\n",
    "        \"scisql_nanojanskyToAbMag(fsodo.psfFlux) as fsodo_gmag, \"\\\n",
    "        \"cv.expMidptMJD \"\\\n",
    "        \"FROM dp02_dc2_catalogs.DiaObject as diao \"\\\n",
    "        \"JOIN dp02_dc2_catalogs.ForcedSourceOnDiaObject as fsodo \"\\\n",
    "        \"ON fsodo.diaObjectId = diao.diaObjectId \"\\\n",
    "        \"JOIN dp02_dc2_catalogs.CcdVisit as cv ON cv.ccdVisitId = fsodo.ccdVisitId \"\\\n",
    "        \"WHERE diao.nDiaSources > 100 \"\\\n",
    "        \"AND scisql_nanojanskyToAbMag(diao.rTOTFluxMean) > 18 \"\\\n",
    "        \"AND scisql_nanojanskyToAbMag(diao.rTOTFluxMean) < 21 \"\\\n",
    "        \"AND scisql_nanojanskyToAbMag(diao.rPSFluxMin) \"\\\n",
    "        \"- scisql_nanojanskyToAbMag(diao.rPSFluxMax) > 1 \"\\\n",
    "        \"AND scisql_nanojanskyToAbMag(diao.rPSFluxMin) \"\\\n",
    "        \"- scisql_nanojanskyToAbMag(diao.rPSFluxMax) < 2 \"\\\n",
    "        \"AND fsodo.band = 'r' \"\\\n",
    "        \"AND CONTAINS(POINT('ICRS', diao.ra, diao.decl), \"\\\n",
    "        \"CIRCLE('ICRS',\"+str(center_ra)+\", \"+str(center_dec)+\", 5)) = 1 \"\n",
    "#print(query)"
   ]
  },
  {
   "cell_type": "markdown",
   "id": "c51cad07-2998-4878-9bb6-95d1623e97d0",
   "metadata": {},
   "source": [
    "Run the query and retrieve the results."
   ]
  },
  {
   "cell_type": "code",
   "execution_count": null,
   "id": "726c287f-ecc2-46c7-9efb-6c59957c2b3d",
   "metadata": {},
   "outputs": [],
   "source": [
    "job = service.submit_job(query)\n",
    "job.run()\n",
    "job.wait(phases=['COMPLETED', 'ERROR'])\n",
    "print('Job phase is', job.phase)"
   ]
  },
  {
   "cell_type": "code",
   "execution_count": null,
   "id": "fad9db0c-4617-4ea3-83eb-172c7b341733",
   "metadata": {},
   "outputs": [],
   "source": [
    "forced_source_dia_table = job.fetch_result().to_table()"
   ]
  },
  {
   "cell_type": "markdown",
   "id": "24679010-f64e-4233-b606-6c5e9df41fa5",
   "metadata": {},
   "source": [
    "Show the results."
   ]
  },
  {
   "cell_type": "code",
   "execution_count": null,
   "id": "c9f4b8bc-43ba-4675-ac3f-f0b2e8d40f5a",
   "metadata": {},
   "outputs": [],
   "source": [
    "#forced_source_dia_table"
   ]
  },
  {
   "cell_type": "markdown",
   "id": "3a1e509c-cd0f-40b9-b387-9cde677bb3af",
   "metadata": {
    "execution": {
     "iopub.execute_input": "2025-04-09T20:42:54.669274Z",
     "iopub.status.busy": "2025-04-09T20:42:54.669007Z",
     "iopub.status.idle": "2025-04-09T20:42:54.672079Z",
     "shell.execute_reply": "2025-04-09T20:42:54.671562Z",
     "shell.execute_reply.started": "2025-04-09T20:42:54.669258Z"
    }
   },
   "source": [
    "#### 3.2.3 Plot and visually inspect the lightcurves the first 20 objects"
   ]
  },
  {
   "cell_type": "code",
   "execution_count": null,
   "id": "51b4dace-8162-4c2a-97a6-a77d853f0f1a",
   "metadata": {},
   "outputs": [],
   "source": [
    "fig, ax = plt.subplots(3, 4, figsize=(18, 10), sharey=False, sharex=False)\n",
    "\n",
    "objids = np.unique(forced_source_dia_table['diaObjectId'])\n",
    "\n",
    "obj = 0\n",
    "\n",
    "for i in range(3):\n",
    "    for j in range(4):\n",
    "\n",
    "        findobj = (forced_source_dia_table['diaObjectId'] == objids[obj])\n",
    "\n",
    "        ax[i, j].plot(forced_source_dia_table['expMidptMJD'][findobj], forced_source_dia_table['fsodo_gmag'][findobj],\n",
    "                      plot_filter_symbols['r'], color=plot_filter_colors['r'], ms=8)\n",
    "        ax[i, j].set_xlabel('MJD')\n",
    "        ax[i, j].set_ylabel('r mag')\n",
    "        ax[i, j].set_title(\"diaObjectId = {0}\".format(objids[obj]), fontsize=14)\n",
    "        ax[i, j].invert_yaxis()\n",
    "        \n",
    "        obj = obj+1\n",
    "\n",
    "plt.tight_layout()"
   ]
  },
  {
   "cell_type": "markdown",
   "id": "22f0140d-0211-4df2-b219-6ac02f06552e",
   "metadata": {},
   "source": [
    "## 4. Identify objects by color from the Object table photometry"
   ]
  },
  {
   "cell_type": "markdown",
   "id": "ba26ad9c-0c8e-4ece-a6d2-7758d096055c",
   "metadata": {
    "execution": {
     "iopub.execute_input": "2025-04-17T07:16:58.155120Z",
     "iopub.status.busy": "2025-04-17T07:16:58.154576Z",
     "iopub.status.idle": "2025-04-17T07:16:58.158530Z",
     "shell.execute_reply": "2025-04-17T07:16:58.157991Z",
     "shell.execute_reply.started": "2025-04-17T07:16:58.155095Z"
    }
   },
   "source": [
    "Both AGN and stars are point-like sources, but their colors differ. AGN can be selected by their position in color-color diagrams. "
   ]
  },
  {
   "cell_type": "markdown",
   "id": "4eeec009-0fa3-4622-9f56-0fde9db8c0fc",
   "metadata": {
    "execution": {
     "iopub.execute_input": "2025-04-17T07:00:12.643614Z",
     "iopub.status.busy": "2025-04-17T07:00:12.643009Z",
     "iopub.status.idle": "2025-04-17T07:00:12.647427Z",
     "shell.execute_reply": "2025-04-17T07:00:12.646895Z",
     "shell.execute_reply.started": "2025-04-17T07:00:12.643589Z"
    }
   },
   "source": [
    "#### 4.1 Create color-color diagrams for point-like sources"
   ]
  },
  {
   "cell_type": "markdown",
   "id": "eb4f2839-e6ae-4104-a53d-1603ff043071",
   "metadata": {
    "execution": {
     "iopub.execute_input": "2025-04-17T07:15:56.519039Z",
     "iopub.status.busy": "2025-04-17T07:15:56.518502Z",
     "iopub.status.idle": "2025-04-17T07:15:56.521418Z",
     "shell.execute_reply": "2025-04-17T07:15:56.520964Z",
     "shell.execute_reply.started": "2025-04-17T07:15:56.519018Z"
    }
   },
   "source": [
    "#### 4.1.1 Query the object table"
   ]
  },
  {
   "cell_type": "markdown",
   "id": "7ea6be58-3842-42b8-812a-0b2bbe371ebd",
   "metadata": {},
   "source": [
    "Query the Object table for point-like sources within 10 degrees of the central coordinates. Select only point sources using the extendedness parameter. Extended objects (e.g. galaxies) have extendedness equal to 1, while point sources have extendedness equal to 0. "
   ]
  },
  {
   "cell_type": "code",
   "execution_count": null,
   "id": "edf185cf-696f-4e95-bd3b-15e174e7e818",
   "metadata": {},
   "outputs": [],
   "source": [
    "query = \"SELECT TOP 10000 \" \\\n",
    "        \"objectId, coord_dec, coord_ra, refExtendedness, \" \\\n",
    "        \"scisql_nanojanskyToAbMag(u_psfFlux) as umag, \" \\\n",
    "        \"scisql_nanojanskyToAbMag(g_psfFlux) as gmag, \" \\\n",
    "        \"scisql_nanojanskyToAbMag(r_psfFlux) as rmag, \" \\\n",
    "        \"scisql_nanojanskyToAbMag(i_psfFlux) as imag, \" \\\n",
    "        \"scisql_nanojanskyToAbMag(z_psfFlux) as zmag, \" \\\n",
    "        \"scisql_nanojanskyToAbMag(y_psfFlux) as ymag \" \\\n",
    "        \"FROM dp02_dc2_catalogs.Object \" \\\n",
    "        \"WHERE CONTAINS(POINT('ICRS', coord_ra, coord_dec),CIRCLE('ICRS', 62, -37, 10))=1 \" \\\n",
    "        \"AND g_psfFlux > 360 \"\\\n",
    "        \"AND r_psfFlux > 360 \"\\\n",
    "        \"AND i_psfFlux > 360 \"\\\n",
    "        \"AND detect_isPrimary = 1 \"\\\n",
    "        \"AND refExtendedness =0\""
   ]
  },
  {
   "cell_type": "markdown",
   "id": "7c10cca4-4c79-4c8b-a92d-ef16cea91f93",
   "metadata": {},
   "source": [
    "Run the query and retrieve the results."
   ]
  },
  {
   "cell_type": "code",
   "execution_count": null,
   "id": "db5b907b-1643-40f1-bc5b-dc736144ebaa",
   "metadata": {},
   "outputs": [],
   "source": [
    "job = service.submit_job(query)\n",
    "job.run()\n",
    "job.wait(phases=['COMPLETED', 'ERROR'])\n",
    "print('Job phase is', job.phase)"
   ]
  },
  {
   "cell_type": "code",
   "execution_count": null,
   "id": "d3c28594-b369-467c-bef1-adddc3ab2d4e",
   "metadata": {},
   "outputs": [],
   "source": [
    "obj_table = job.fetch_result().to_table()"
   ]
  },
  {
   "cell_type": "markdown",
   "id": "be6735bf-a13a-4f22-afac-bc68b501e483",
   "metadata": {},
   "source": [
    "#### 4.1.2 Calculate colors for multiple bands. "
   ]
  },
  {
   "cell_type": "code",
   "execution_count": null,
   "id": "3dbe1d8c-32fb-44fe-87b7-ae4d82079a52",
   "metadata": {},
   "outputs": [],
   "source": [
    "obj_table['color_u_g'] = obj_table['umag']-obj_table['gmag']\n",
    "obj_table['color_g_r'] = obj_table['gmag']-obj_table['rmag']\n",
    "obj_table['color_r_i'] = obj_table['rmag']-obj_table['imag']\n",
    "obj_table['color_i_z'] = obj_table['imag']-obj_table['zmag']\n",
    "obj_table['color_z_y'] = obj_table['zmag']-obj_table['ymag']"
   ]
  },
  {
   "cell_type": "markdown",
   "id": "8713d83b-bd81-4a09-b9f6-9709a6f13e13",
   "metadata": {},
   "source": [
    "#### 4.1.3 Plot color-color diagrams"
   ]
  },
  {
   "cell_type": "code",
   "execution_count": null,
   "id": "5348f04c-4585-430d-b5ae-6838bf07a596",
   "metadata": {},
   "outputs": [],
   "source": [
    "fig, ax  = plt.subplots(2, 2, figsize=(12, 8))\n",
    "\n",
    "ax[0,0].plot(obj_table['color_u_g'], obj_table['color_g_r'], 'o', ms=6, color='red')\n",
    "ax[0,0].set_xlabel('(u - g)')\n",
    "ax[0,0].set_ylabel('(g - r)')\n",
    "ax[0,0].set_xlim(-1, 5)\n",
    "ax[0,0].set_ylim(-1, 3)\n",
    "\n",
    "ax[0,1].plot(obj_table['color_g_r'], obj_table['color_r_i'] , 'o', ms=6, color='red')\n",
    "ax[0,1].set_xlabel('(g - r)')\n",
    "ax[0,1].set_ylabel('(r - i)')\n",
    "ax[0,1].set_xlim(-1, 3)\n",
    "ax[0,1].set_ylim(-1, 3)\n",
    "\n",
    "ax[1,0].plot(obj_table['color_r_i'], obj_table['color_i_z'] , 'o', ms=6, color='red')\n",
    "ax[1,0].set_xlabel('(r - i)')\n",
    "ax[1,0].set_ylabel('(i - z)')\n",
    "ax[1,0].set_xlim(-1, 3)\n",
    "ax[1,0].set_ylim(-2, 2)\n",
    "\n",
    "ax[1,1].plot(obj_table['color_i_z'], obj_table['color_z_y'] , 'o', ms=6, color='red')\n",
    "ax[1,1].set_xlabel('(i - z)')\n",
    "ax[1,1].set_ylabel('(z - y)')\n",
    "ax[1,1].set_xlim(-2, 2)\n",
    "ax[1,1].set_ylim(-2,2)\n",
    "\n",
    "plt.show()"
   ]
  },
  {
   "cell_type": "markdown",
   "id": "c0f29ad4-e3b4-436f-afd4-d4fdbb6feaa1",
   "metadata": {},
   "source": [
    "#### 4.1.4 Select an object for further exploration"
   ]
  },
  {
   "cell_type": "markdown",
   "id": "f8cf44f0-5cef-4063-bcae-9996359b6bda",
   "metadata": {},
   "source": [
    "Since it is not possible to identify an AGN in this dataset, and to ensure there is at least an object that meets the selection criteria, we can select a data point at the outskirts of the group of stars. Many AGN lie in the bottom left region of the (r-i) vs (g-r) diagram. We can select the bottom leftmost point for further exploration."
   ]
  },
  {
   "cell_type": "code",
   "execution_count": null,
   "id": "5c9aac69-1473-4e61-b182-36817b05e8d4",
   "metadata": {},
   "outputs": [],
   "source": [
    "bottom_left = np.argmin(obj_table['color_r_i'] + obj_table['color_g_r'])\n",
    "obj_id = obj_table[bottom_left]['objectId']"
   ]
  },
  {
   "cell_type": "markdown",
   "id": "706d912a-799f-4511-846c-24464010f0ac",
   "metadata": {},
   "source": [
    "Extract the objectId for this point and plot the color-color diagrams again. "
   ]
  },
  {
   "cell_type": "code",
   "execution_count": null,
   "id": "97cc8089-8310-4559-bc39-2fe0dc9113b5",
   "metadata": {},
   "outputs": [],
   "source": [
    "filter_objectid = (obj_table['objectId'] == obj_id)"
   ]
  },
  {
   "cell_type": "code",
   "execution_count": null,
   "id": "d81866bf-8113-4fea-92ad-94a61c7b69c3",
   "metadata": {},
   "outputs": [],
   "source": [
    "fig, ax  = plt.subplots(2, 2, figsize=(12, 8))\n",
    "\n",
    "ax[0,0].plot(obj_table['color_u_g'], obj_table['color_g_r'], 'o', ms=6, color='red')\n",
    "ax[0,0].plot(obj_table['color_u_g'][filter_objectid], obj_table['color_g_r'][filter_objectid], '*', ms=6, color='yellow')\n",
    "ax[0,0].set_xlabel('(u - g)')\n",
    "ax[0,0].set_ylabel('(g - r)')\n",
    "ax[0,0].set_xlim(-1, 5)\n",
    "ax[0,0].set_ylim(-1, 3)\n",
    "\n",
    "ax[0,1].plot(obj_table['color_g_r'], obj_table['color_r_i'] , 'o', ms=6, color='red')\n",
    "ax[0,1].plot(obj_table['color_g_r'][filter_objectid], obj_table['color_r_i'][filter_objectid] , '*', ms=6, color='yellow')\n",
    "ax[0,1].set_xlabel('(g - r)')\n",
    "ax[0,1].set_ylabel('(r - i)')\n",
    "ax[0,1].set_xlim(-1, 3)\n",
    "ax[0,1].set_ylim(-1, 3)\n",
    "\n",
    "ax[1,0].plot(obj_table['color_r_i'], obj_table['color_i_z'] , 'o', ms=6, color='red')\n",
    "ax[1,0].plot(obj_table['color_r_i'][filter_objectid], obj_table['color_i_z'][filter_objectid] , '*', ms=6, color='yellow')\n",
    "ax[1,0].set_xlabel('(r - i)')\n",
    "ax[1,0].set_ylabel('(i - z)')\n",
    "ax[1,0].set_xlim(-1, 3)\n",
    "ax[1,0].set_ylim(-2, 2)\n",
    "\n",
    "ax[1,1].plot(obj_table['color_i_z'], obj_table['color_z_y'] , 'o', ms=6, color='red')\n",
    "ax[1,1].plot(obj_table['color_i_z'][filter_objectid], obj_table['color_z_y'][filter_objectid], '*', ms=6, color='yellow')\n",
    "ax[1,1].set_xlabel('(i - z)')\n",
    "ax[1,1].set_ylabel('(z - y)')\n",
    "ax[1,1].set_xlim(-2, 2)\n",
    "ax[1,1].set_ylim(-2,2)"
   ]
  },
  {
   "cell_type": "markdown",
   "id": "ce950f8e-8d9b-404e-b902-a6cd89a7b216",
   "metadata": {},
   "source": [
    "#### 4.2 Inspect the lightcurve for the selected object"
   ]
  },
  {
   "cell_type": "markdown",
   "id": "ef883ebb-31af-4a1b-a60b-117f918b486a",
   "metadata": {
    "execution": {
     "iopub.execute_input": "2025-04-17T07:33:05.075953Z",
     "iopub.status.busy": "2025-04-17T07:33:05.075048Z",
     "iopub.status.idle": "2025-04-17T07:33:05.079621Z",
     "shell.execute_reply": "2025-04-17T07:33:05.079029Z",
     "shell.execute_reply.started": "2025-04-17T07:33:05.075917Z"
    }
   },
   "source": [
    "Query the `ForcedSource` and `CcdVisit` tables to retrieve the lightcurve, including errors. "
   ]
  },
  {
   "cell_type": "code",
   "execution_count": null,
   "id": "ff5823f9-76f1-4c8c-a54d-e92a5cb34dc6",
   "metadata": {},
   "outputs": [],
   "source": [
    "query = \"SELECT fs.band, fs.psfFlux, fs.psfFluxErr, \" \\\n",
    "        \"ccdv.expMidptMJD, \" \\\n",
    "        \"scisql_nanojanskyToAbMag(psfFlux) as psfMag, \"\\\n",
    "        \"scisql_nanojanskyToAbMagSigma(psfFlux, psfFluxErr) as psfMagErr \"\\\n",
    "        \"FROM dp02_dc2_catalogs.ForcedSource AS fs \" \\\n",
    "        \"JOIN dp02_dc2_catalogs.CcdVisit AS ccdv \" \\\n",
    "        \"ON fs.ccdVisitId = ccdv.ccdVisitId \" \\\n",
    "        \"WHERE objectId = \" + str(obj_id)"
   ]
  },
  {
   "cell_type": "markdown",
   "id": "f8fa4a54-d493-40bd-b316-849df5d731f0",
   "metadata": {
    "execution": {
     "iopub.execute_input": "2025-04-17T07:41:54.666487Z",
     "iopub.status.busy": "2025-04-17T07:41:54.665882Z",
     "iopub.status.idle": "2025-04-17T07:41:54.669498Z",
     "shell.execute_reply": "2025-04-17T07:41:54.668936Z",
     "shell.execute_reply.started": "2025-04-17T07:41:54.666466Z"
    }
   },
   "source": [
    "Run the query and retrieve the results."
   ]
  },
  {
   "cell_type": "code",
   "execution_count": null,
   "id": "b4918a7d-8f6d-497c-89ce-646407f9695b",
   "metadata": {},
   "outputs": [],
   "source": [
    "job = service.submit_job(query)\n",
    "job.run()\n",
    "job.wait(phases=['COMPLETED', 'ERROR'])\n",
    "print('Job phase is', job.phase)"
   ]
  },
  {
   "cell_type": "code",
   "execution_count": null,
   "id": "5a7e30fe-a5e2-4ca8-8264-fb757974e92a",
   "metadata": {},
   "outputs": [],
   "source": [
    "lightcurve = job.fetch_result().to_table()"
   ]
  },
  {
   "cell_type": "code",
   "execution_count": null,
   "id": "f5ffc1ed-7c55-43b3-8fac-339f115408e0",
   "metadata": {},
   "outputs": [],
   "source": [
    "fig = plt.subplots(figsize=(6, 4))\n",
    "\n",
    "for band in plot_filter_labels:\n",
    "    \n",
    "    filter_band = np.where(lightcurve['band'] == band)[0]\n",
    "\n",
    "    plt.errorbar(lightcurve['expMidptMJD'][filter_band], lightcurve['psfMag'][filter_band], lightcurve['psfMagErr'][filter_band],\n",
    "             fmt=plot_filter_symbols[band], markersize=10, color=plot_filter_colors[band], alpha = 0.5, label=band)\n",
    "        \n",
    "plt.xlabel('MJD')\n",
    "plt.ylabel('PSF mag')\n",
    "plt.legend(loc='upper left', handletextpad=0.1)\n",
    "plt.show()"
   ]
  }
 ],
 "metadata": {
  "kernelspec": {
   "display_name": "LSST",
   "language": "python",
   "name": "lsst"
  },
  "language_info": {
   "codemirror_mode": {
    "name": "ipython",
    "version": 3
   },
   "file_extension": ".py",
   "mimetype": "text/x-python",
   "name": "python",
   "nbconvert_exporter": "python",
   "pygments_lexer": "ipython3",
   "version": "3.12.9"
  }
 },
 "nbformat": 4,
 "nbformat_minor": 5
}
