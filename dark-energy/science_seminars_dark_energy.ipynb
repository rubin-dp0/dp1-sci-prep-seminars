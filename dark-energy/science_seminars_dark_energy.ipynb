{
 "cells": [
  {
   "cell_type": "markdown",
   "id": "749b0ddf",
   "metadata": {},
   "source": [
    "<img align=\"left\" src = https://noirlab.edu/public/media/archives/logos/svg/logo250.svg width=250 style=\"background-color:white; padding:10px\" alt=\"Rubin Observatory logo, a graphical representation of turning stars into data.\">\n",
    "\n",
    "<b>Science Seminars: dark energy </b> <br>\n",
    "Contact author(s): Andrés A. Plazas Malagón, Shenming Fu<br>\n",
    "For the Rubin Science Platform at data.lsst.cloud. <br>\n",
    "Data Release: DP02 <br>\n",
    "Container Size: medium <br>\n",
    "LSST Science Pipelines version: Weekly 2025_09 <br>\n",
    "Last verified to run: 2025-03-19 <br>\n"
   ]
  },
  {
   "cell_type": "markdown",
   "id": "9da1a210-d858-42fe-8591-570965b8be1a",
   "metadata": {},
   "source": [
    "**Description:** Demonstration of data products relevant for dark energy and cosmology with LSST. "
   ]
  },
  {
   "cell_type": "markdown",
   "id": "80a0baf5-51ad-40ec-8991-060a7b27c289",
   "metadata": {},
   "source": [
    "**Skills:** Use of the catalog data products for dark energy and cosmological analysis. "
   ]
  },
  {
   "cell_type": "markdown",
   "id": "393da88f-7978-4920-aa4a-a9830df6eed9",
   "metadata": {},
   "source": [
    "**LSST Data Products:** DP0.2 `Object` and `Source` catalogs."
   ]
  },
  {
   "cell_type": "markdown",
   "id": "5c67fab9-136a-4adc-bb42-142b91ab69dd",
   "metadata": {},
   "source": [
    "**Packages:** lsst.analysis.tools.atools, lsst.daf.butler, lsst.rsp. "
   ]
  },
  {
   "cell_type": "markdown",
   "id": "8f72b27f",
   "metadata": {},
   "source": [
    "**Credits:** Developed by Andrés A. Plazas Malagón and Shenming Fu in collaboration with the Rubin Community Science Team for DP0.2. \n",
    "\n",
    "\n",
    "This notebook incorporates suggestions from the [Accessible Authoring Checklist](https://iota-school.github.io/accessibility_hackathon/hack#checklist) and utilizes NASA's Astrophysics Data System Bibliographic Services."
   ]
  },
  {
   "cell_type": "markdown",
   "id": "28e91cbf-ab7f-4e26-9276-b00299d6065e",
   "metadata": {},
   "source": [
    "**Get Support:**\n",
    "Find DP0-related documentation and resources at <a href=\"https://dp0.lsst.io\">dp0.lsst.io</a>. Questions are welcome as new topics in the <a href=\"https://community.lsst.org/c/support/dp0\">Support - Data Preview 0 Category</a> of the Rubin Community Forum. Rubin staff will respond to all questions posted there."
   ]
  },
  {
   "cell_type": "markdown",
   "id": "47bbd077-6122-4005-a877-11c92b17a651",
   "metadata": {
    "execution": {
     "iopub.execute_input": "2025-03-18T20:35:38.284815Z",
     "iopub.status.busy": "2025-03-18T20:35:38.284483Z",
     "iopub.status.idle": "2025-03-18T20:35:38.289558Z",
     "shell.execute_reply": "2025-03-18T20:35:38.288614Z",
     "shell.execute_reply.started": "2025-03-18T20:35:38.284793Z"
    }
   },
   "source": [
    "Note: this seminar tutorial is based on the tutorial notebooks DP02_12b and DP02_16."
   ]
  },
  {
   "cell_type": "markdown",
   "id": "cfc73be0",
   "metadata": {
    "tags": []
   },
   "source": [
    "# Part I. Point Spread Function\n",
    "\n",
    "## 1. Introduction\n",
    "\n",
    "In the context of astronomical surveys, such as the Vera C. Rubin Observatory's Legacy Survey of Space and Time (LSST), \n",
    "a significant objective is to extract cosmological information by scrutinizing subtle deviations in the \n",
    "shapes and orientations of galaxies. \n",
    "These deviations are caused by gravitational lensing from large-scale structures in the foreground. \n",
    "However, the observed shapes of galaxies are not solely influenced by the gravitational lensing effects \n",
    "of the universe's large-scale structure (referred to as \"cosmic shear\"), \n",
    "but also by a combined blurring effect known as the point spread function (PSF). \n",
    "The PSF arises from various factors such as atmospheric conditions (for ground-based instruments), \n",
    "telescope optics, and the image sensor.\n",
    "PSF analysis is thus an integral part of cosmological studies (and is important in other astronomical fields as well).\n",
    "\n",
    "**Section 2** introduces and explores the PSF measurements that are available in the `Object` catalogs.\n",
    "One TAP query is executed: one to retrieve a set of `Objects` detected in the `deepCoadd` images.\n",
    "\n",
    "**Section 3** illustrates one chromatic dependence of the PSF: the wavelength dependence of the PSF size.\n",
    "\n",
    "**Section 4** calculates the rho statistics, a series of two-point correlation functions used to diagnose \n",
    "the quality of a PSF model for weak lensing analyses. This calculation is done using the `lsst.analysis.tools` framework.\n"
   ]
  },
  {
   "cell_type": "markdown",
   "id": "de0dbefc-e2f3-4ec2-b49c-318ad5132417",
   "metadata": {},
   "source": [
    "**Additional resources.** \n",
    "\n",
    "It is not required to review and understand the following resources before working through this tutorial.\n",
    "\n",
    "For an overall review on PSF modelling and a look towards the future, see\n",
    "\"Point spread function modelling for astronomical telescopes: a review focused on weak gravitational lensing studies\" by\n",
    "[Liaudat et al. 2023](https://ui.adsabs.harvard.edu/abs/2023arXiv230607996L/abstract).\n",
    "For papers on the impact of chromatic effects on the PSF on weak lensing cosmology see \n",
    "\"Atmospheric Dispersion Effects in Weak Lensing Measurements\" by \n",
    "[Plazas and Bernstein 2012](https://ui.adsabs.harvard.edu/abs/2012PASP..124.1113P/abstract),\n",
    "or \"Impact of Atmospheric Chromatic Effects on Weak Lensing Measurements\" by\n",
    "[Meyers and Burchat 2015](https://ui.adsabs.harvard.edu/abs/2015ApJ...807..182M/abstract).\n",
    "For a paper on the impact of differential chromatic refraction (DCR) on supernova cosmlogy, see\n",
    "\"The Dark Energy Survey Supernova Program: Corrections on Photometry Due to Wavelength-dependent Atmospheric Effects\" by\n",
    "[Lee et al. 2023](https://ui.adsabs.harvard.edu/abs/2023AJ....165..222L/abstract).\n",
    "\n",
    "For more details on PSF modeling and null tests for galaxy surveys, including `rho` statistics, see\n",
    "\"Dark Energy Survey year 3 results: point spread function modelling\" by \n",
    "[Jarvis et al. 2021](https://ui.adsabs.harvard.edu/abs/2021MNRAS.501.1282J/abstract),\n",
    "or\n",
    "\"The three-year shear catalog of the Subaru Hyper Suprime-Cam SSP Survey\" by\n",
    "[Li et al. 2022](https://ui.adsabs.harvard.edu/abs/2022PASJ...74..421L/abstract).\n",
    "And finally, for an approach to a mathematical framework that aids in producing well-defined coadded PSFs for static-sky sources,\n",
    "see \"PSFs of coadded images\" by\n",
    "[Mandelbaum et al. 2022](https://ui.adsabs.harvard.edu/abs/2023OJAp....6E...5M/abstract)."
   ]
  },
  {
   "cell_type": "markdown",
   "id": "dc36f107",
   "metadata": {
    "tags": []
   },
   "source": [
    "### 1.1. Import packages\n",
    "\n",
    "The [matplotlib](https://matplotlib.org/) (and especially sublibrary `matplotlib.pyplot`), [numpy](http://www.numpy.org/),\n",
    "and [scipy](https://scipy.org/) libraries are widely used Python libraries for plotting and scientific computing and analysis.\n",
    "\n",
    "\n",
    "The `lsst.rsp` package provides access to the Table Access Protocol (TAP) service for queries to the DP0 catalogs.\n",
    "The `lsst.analysis.tools` package is in-developement by Rubin staff for the \n",
    "creation of consistent and repeatable plots and metrics.\n",
    "Intermediate and advanced users are welcome to use it too; more information is available in the \n",
    "[analysis tools documentation](https://pipelines.lsst.io/modules/lsst.analysis.tools/index.html).\n",
    "\n",
    "\n",
    "> **Warning:** The ``FutureWarning`` that might appear below about ``lsst.pipe.tasks.configurableActions`` being deprecated\n",
    "> is ok to ignore for now, it does not affect any functionality in this notebook. It will be fixed in the future."
   ]
  },
  {
   "cell_type": "code",
   "execution_count": null,
   "id": "d185358a-4c15-4b04-8e3d-13083191ee72",
   "metadata": {
    "tags": []
   },
   "outputs": [],
   "source": [
    "import matplotlib.pyplot as plt\n",
    "import numpy as np\n",
    "from scipy.optimize import curve_fit\n",
    "\n",
    "\n",
    "from lsst.rsp import get_tap_service\n",
    "from lsst.analysis.tools.atools import RhoStatistics\n",
    "\n",
    "\n",
    "from scipy.stats import binned_statistic\n",
    "from astropy.coordinates import SkyCoord\n"
   ]
  },
  {
   "cell_type": "markdown",
   "id": "fa240aaf-d675-4d72-bb68-d736200f4980",
   "metadata": {},
   "source": [
    "### 1.2. Define functions and parameters"
   ]
  },
  {
   "cell_type": "markdown",
   "id": "78fc9bc8-29d1-48e7-a9a5-d6b0fa1a1cfa",
   "metadata": {},
   "source": [
    "Instantiate the TAP service for DP0.2 catalog access."
   ]
  },
  {
   "cell_type": "code",
   "execution_count": null,
   "id": "6c493f00-7a7d-4c8d-85c5-46e45bd4ae30",
   "metadata": {
    "tags": []
   },
   "outputs": [],
   "source": [
    "service = get_tap_service(\"tap\")"
   ]
  },
  {
   "cell_type": "markdown",
   "id": "1221e437-0e2c-4034-8af1-04fb8e9b6307",
   "metadata": {},
   "source": [
    "Set a standard color style."
   ]
  },
  {
   "cell_type": "code",
   "execution_count": null,
   "id": "400c0d16-523f-49cb-8369-3f3d19bb8fc0",
   "metadata": {
    "tags": []
   },
   "outputs": [],
   "source": [
    "plt.style.use('tableau-colorblind10')"
   ]
  },
  {
   "cell_type": "markdown",
   "id": "955b0a82-9fb4-46fb-bc9b-2db4c04497ba",
   "metadata": {},
   "source": [
    "**Function**: `powerLaw`\n",
    "\n",
    "Defines a power-law function."
   ]
  },
  {
   "cell_type": "code",
   "execution_count": null,
   "id": "7d654417-a7d2-4a2c-9846-de3ee6bcbafb",
   "metadata": {
    "tags": []
   },
   "outputs": [],
   "source": [
    "def powerLaw(lam, a, b):\n",
    "    \"\"\"Function to return a power-law.\n",
    "\n",
    "    Parameters\n",
    "    ----------\n",
    "    lam : `array`\n",
    "       array of values\n",
    "    a : `float`\n",
    "       constant factor\n",
    "    b : `float`\n",
    "       power\n",
    "\n",
    "    Returns\n",
    "    -------\n",
    "    result : `float`\n",
    "        a*lam**(-b)\n",
    "    \"\"\"\n",
    "\n",
    "    result = a*lam**(-b)\n",
    "    return result"
   ]
  },
  {
   "cell_type": "markdown",
   "id": "a5285320-1e9f-4618-857e-dbdd50ec2f12",
   "metadata": {},
   "source": [
    "## 2. The measured PSF properties in the catalogs\n",
    "\n",
    "Recall that the `Objects`  catalogs contains measurements for astrophysical objects \n",
    "detected in the `deepCoadd`  images.\n",
    "\n",
    "These measurements include a variety of parameters that characterize the PSF as measured for that `Object` .\n",
    "While these parameters are calculated for all detections, they\n",
    "are only relevant for point-sources (stars) and not extended sources (galaxies).\n",
    "\n",
    "### 2.1. PSF properties for `Objects`\n",
    "\n",
    "To explore what PSF-related measurements exist, one option is to page search for the term \"psf\" in the \n",
    "[DP0.2 Catalogs Schema Browser](https://sdm-schemas.lsst.io/dp02.html) for the `Object` table.\n",
    "\n",
    "**Option:** To retrieve the column names and descriptions for the `Object` table and search for the term \"psf\",\n",
    "uncomment the lines in the following cell and execute the cell.\n",
    "The result is quite a long list, so this cell is commented-out by default."
   ]
  },
  {
   "cell_type": "code",
   "execution_count": null,
   "id": "6afee619-2c4a-4ce5-8b1e-550f11ff7f2c",
   "metadata": {
    "tags": []
   },
   "outputs": [],
   "source": [
    "# results = service.search(\"SELECT column_name, description \"\n",
    "#                          \"from TAP_SCHEMA.columns \"\n",
    "#                          \"WHERE table_name = 'dp02_dc2_catalogs.Object'\"\n",
    "#                          ).to_table().to_pandas()\n",
    "# for cname, descr in zip(results['column_name'], results['description']):\n",
    "#     if (cname.find('psf') > -1) | (cname.find('PSF') > -1):\n",
    "#         print(cname + ' --- ' + descr)\n",
    "# del results"
   ]
  },
  {
   "cell_type": "markdown",
   "id": "54a159d4-7ed6-41ce-a6e8-14e45a7924d6",
   "metadata": {
    "tags": []
   },
   "source": [
    "The `Object` catalog contains measurements for sources detected in the `deepCoadd` images for *all* six filters, *ugrizy*.\n",
    "Thus, for all the PSF-related measurements in the `Object` catalog, there is one per band.\n",
    "\n",
    "Some of the most useful PSF-related parameters in the `Object` catalog include the following.\n",
    "\n",
    "`{band}_psfFlux` and `{band}_psfFluxErr`:\n",
    "The flux (and its error) derived from linear least-squares forced-fit of PSF model.\n",
    "\n",
    "`{band}_psfFlux_flag`: A general failure flag for the linear least-squares forced-fit of PSF model (`True` or `1` if failed).\n",
    "\n",
    "`{band}_ixxPSF`, `{band}_ixyPSF`, and `{band}_iyyPSF`: Second-moments of the shape of the fit PSF model ($I_{xx}$, $I_{yy}$, and $I_{xy}$).\n",
    "\n",
    "`{band}_calib_psf_used`: A flag that is `True` (or `1`) if the `Object` is a star that was used to establish the PSF model\n",
    "for the image (i.e., bright isolated stars with well-measured PSF properties).\n",
    "\n",
    "`{band}_pixelFlags_inexact_psfCenter`: A flag that is `True` (or `1`) if the `Object` is close to image pixels which do not\n",
    "have an exact PSF, typically because they are near an image edge. \n",
    "Objects near these edges can have a discontinuous PSF."
   ]
  },
  {
   "cell_type": "markdown",
   "id": "cd891c38-bca7-4413-bc90-eb88f3bdeff6",
   "metadata": {},
   "source": [
    "#### 2.1.1. Retrieve a sample of `Objects`\n",
    "\n",
    "Use the same central coordinates as were used to retrieve the images in the introductory PSF tutorial notebook\n",
    "(DP02_12a_PSF_Data_Products.ipynb).\n",
    "\n",
    "Use the same default filter, *i*."
   ]
  },
  {
   "cell_type": "code",
   "execution_count": null,
   "id": "8396cdb0-cc76-4223-88bd-447561217225",
   "metadata": {
    "tags": []
   },
   "outputs": [],
   "source": [
    "use_center_coords = \"53.0, -34.1\"\n",
    "band = 'i'"
   ]
  },
  {
   "cell_type": "markdown",
   "id": "25322224-42db-45d3-a968-4c2f4afd1c04",
   "metadata": {},
   "source": [
    "The following query retrieves the PSF-related columns mentioned above, plus a few more columns\n",
    "which will be used later in this notebook, when calculating rho statistics with the analysis tools pacakge.\n",
    "\n",
    "The `WHERE` statements for this query require object to:\n",
    " - be within a 2 degree radius around the center coordinates;\n",
    " - have a `detect_isPrimary` flag that is `True` (`1`), which is always recommended as a way to avoid duplicates and unblended objects;\n",
    " - have a flux $> 360$ nJy (i.e., be bright);\n",
    " - have an extendedness parameter $= 0$ (stars only, no extended objects);\n",
    " - have a `{band}_calib_psf_used` flag that is `True` (`1`), such that only stars with well-measured PSF properties are returned;\n",
    " - and have a `{band}_pixelFlags_inexact_psfCenter` flag that is `False` (`0`) to avoid stars near the image edge.\n",
    " \n",
    "The choice to requre that `i_pixelFlags_inexact_psfCenter = 0` is influenced by the fact that the `EDGE` \n",
    "flag in a `calexp` corresponds to the `SENSOR_EDGE` flag in the `coadd`. \n",
    "Objects near these edges have a discontinuous PSF. \n",
    "Additionally, the `inexact_psfCenter` results from an `OR` operation that includes `SENSOR_EDGE`. \n",
    "The other properties retrieved through the query will play a role in calculating the `rho` statistics, \n",
    "which will be the subject of Section 4 in this notebook."
   ]
  },
  {
   "cell_type": "code",
   "execution_count": null,
   "id": "602d9d74-e0df-4a6e-b1a8-e150998eb392",
   "metadata": {
    "tags": []
   },
   "outputs": [],
   "source": [
    "objects = service.search(\"SELECT coord_ra, coord_dec, \"\n",
    "                         f\"{band}_psfFlux, \"\n",
    "                         f\"{band}_psfFluxErr, \"\n",
    "                         f\"{band}_psfFlux_flag, \"\n",
    "                         f\"{band}_pixelFlags_saturatedCenter, \"\n",
    "                         f\"{band}_extendedness, \"\n",
    "                         f\"{band}_extendedness_flag, \"\n",
    "                         f\"{band}_ixy, {band}_ixyPSF, \"\n",
    "                         \"u_ixx, u_iyy, u_ixxPSF, u_iyyPSF, \"\n",
    "                         \"g_ixx, g_iyy, g_ixxPSF, g_iyyPSF, \"\n",
    "                         \"r_ixx, r_iyy, r_ixxPSF, r_iyyPSF, \"\n",
    "                         \"i_ixx, i_iyy, i_ixxPSF, i_iyyPSF, \"\n",
    "                         \"xy_flag, sky_object, \"\n",
    "                         \"detect_isPatchInner, \"\n",
    "                         \"detect_isDeblendedSource \"\n",
    "                         \"FROM dp02_dc2_catalogs.Object \"\n",
    "                         \"WHERE CONTAINS(POINT('ICRS', coord_ra, coord_dec), \"\n",
    "                         \"CIRCLE('ICRS', \"+use_center_coords+\", 2.0)) = 1 \"\n",
    "                         \"AND detect_isPrimary = 1 \"\n",
    "                         f\"AND {band}_calibFlux > 360 \"\n",
    "                         f\"AND {band}_extendedness = 0.0 \"\n",
    "                         f\"AND {band}_calib_psf_used = 1 \"\n",
    "                         f\"AND {band}_pixelFlags_inexact_psfCenter = 0 \").to_table().to_pandas()"
   ]
  },
  {
   "cell_type": "markdown",
   "id": "76f78f93-5857-48ab-b3de-30b5f1d08066",
   "metadata": {},
   "source": [
    "**Option:** View the table. This query returns 8426 rows."
   ]
  },
  {
   "cell_type": "code",
   "execution_count": null,
   "id": "2fe9bf20-49e4-49d0-bc7b-92cc06aded58",
   "metadata": {
    "tags": []
   },
   "outputs": [],
   "source": [
    "# objects"
   ]
  },
  {
   "cell_type": "markdown",
   "id": "801681d1-de2b-4946-9aea-7623178dbafb",
   "metadata": {},
   "source": [
    "Calculate the trace radius (PSF size, $r_t$) for the *u*, *g*, *r*, and *i*-band \n",
    "from the second moments of the PSF shape as $r_t = \\sqrt{\\frac{I_{xx} + I_{yy}}{2}}$."
   ]
  },
  {
   "cell_type": "code",
   "execution_count": null,
   "id": "c895d01b-17f2-454d-9249-b327f95cd122",
   "metadata": {
    "tags": []
   },
   "outputs": [],
   "source": [
    "for band in ['u', 'g', 'r', 'i']:\n",
    "    objects['size_'+band+'_PSF'] = np.sqrt((objects[band + '_ixxPSF']\n",
    "                                            + objects[band + '_iyyPSF']) / 2)"
   ]
  },
  {
   "cell_type": "markdown",
   "id": "a75a4896-b20f-4e77-81dd-f478006ff3e3",
   "metadata": {},
   "source": [
    "The PSF sizes in different filters will be used below to explore the wavelength dependence of seeing."
   ]
  },
  {
   "cell_type": "code",
   "execution_count": null,
   "id": "5219e352-7f96-41c3-ab29-78835a8544cf",
   "metadata": {
    "tags": []
   },
   "outputs": [],
   "source": [
    "obj_ra = objects['coord_ra']\n",
    "obj_dec = objects['coord_dec']"
   ]
  },
  {
   "cell_type": "markdown",
   "id": "5c700951-55c1-4875-ac01-78e10f115488",
   "metadata": {
    "tags": []
   },
   "source": [
    "## 3. The wavelength dependence of seeing  \n",
    "\n",
    "To correct for the effects of the Point Spread Function (PSF) and to deduce the weak lensing signal (referred to as \"shear\") from galaxy shapes, the PSF is typically modeled using stars, often bright ones. Subsequently, the PSF of galaxy images is deconvolved by utilizing the estimated PSF convolution kernel. Implicit in this methodology is the assumption that the convolution kernel for galaxies remains the same as that for stars. However, this assumption becomes invalid if the PSF varies with wavelength due to the distinctive Spectral Energy Distributions (SEDs) of stars and galaxies, resulting in disparate PSFs.\n",
    "\n",
    "In this section, use the point source sample derived from the `Object` catalog, which was obtained in the preceding sections. Afterward, compute one of the wavelength-dependent components contributing to the PSF owing to atmospheric effects: the wavelength dependence on seeing. As per the standard theory of atmospheric turbulence, the linear dimension `θ` of the atmospheric convolution kernel (i.e., seeing) is inversely proportional to the wavelength, expressed as $\\theta \\propto \\lambda^{-\\frac{1}{5}}$.\n",
    "\n",
    "Additional wavelength-dependent contributions to the PSF encompass Differential Chromatic Refraction (DCR), telescope diffraction, variations in the absorption length of camera CCDs, and optical chromatic aberrations. In general, each of these factors exhibits distinct functional wavelength dependencies and may exert dominance in different spectral bands. Nevertheless, the wavelength-dependent seeing that we explore in this section tends to be the primary contributor to the PSF. These chromatic PSF effects introduce biases in observables such as photometry, astrometry, measurements of galaxy shape and size, and higher-order moments of the PSF. Addressing these effects is imperative for precise cosmological analysis employing weak gravitational lensing. For more detailed information, refer to the works of [Plazas and Bernstein 2012](https://ui.adsabs.harvard.edu/abs/2012PASP..124.1113P/abstract), [Lee et al. 2023](https://ui.adsabs.harvard.edu/abs/2023AJ....165..222L/abstract), [Meyers and Burchat 2015](https://ui.adsabs.harvard.edu/abs/2015ApJ...807..182M/abstract), [Tianqing et al. 2023](https://ui.adsabs.harvard.edu/abs/2023MNRAS.520.2328Z/abstract), and [Meyers and Burchat 2015b](https://ui.adsabs.harvard.edu/abs/2015JInst..10C6004M/abstract)."
   ]
  },
  {
   "cell_type": "markdown",
   "id": "665398c4-00a4-44f6-abd3-e3122e71937d",
   "metadata": {},
   "source": [
    "To replicate this wavelength relationship using the date retreived above, compute first the central wavelengths of the broadband filters employed by LSST, alongside determining the mean size and its standard deviation for each respective band. The boundaries of the filters are available in Table 2.1 of the [LSST Science Book](https://ui.adsabs.harvard.edu/abs/2009arXiv0912.0201L/abstract)."
   ]
  },
  {
   "cell_type": "code",
   "execution_count": null,
   "id": "7371d2cc-a861-43e3-89a1-2d986ba34f3f",
   "metadata": {
    "tags": []
   },
   "outputs": [],
   "source": [
    "wavelength = 0.5*np.array([320+400, 400+552, 552+691, 691+818])\n",
    "\n",
    "mean_size = [np.mean(objects['size_u_PSF']),\n",
    "             np.mean(objects['size_g_PSF']),\n",
    "             np.mean(objects['size_r_PSF']),\n",
    "             np.mean(objects['size_i_PSF'])]\n",
    "\n",
    "std_size = [np.std(objects['size_u_PSF']),\n",
    "            np.std(objects['size_g_PSF']),\n",
    "            np.std(objects['size_r_PSF']),\n",
    "            np.std(objects['size_i_PSF'])]"
   ]
  },
  {
   "cell_type": "markdown",
   "id": "4f1dc1a3-11f5-4eb0-993e-b27e878c3b06",
   "metadata": {},
   "source": [
    "Fit now a power-law to the mean PSF size in relation to wavelength by employing [`scipy.optimize.curvefit`](https://docs.scipy.org/doc/scipy/reference/generated/scipy.optimize.curve_fit.html). \n",
    "\n",
    "This function takes the functional form to be fitted as its first argument, followed by two arrays containing the data. The output is a tuple consisting of the optimized parameters that minimize the squared residuals of the function with respect to the measured data, labeled as `popt`. Additionally, it provides the estimated 2D covariance matrix of the fitted parameters, denoted as `pcov`, wherein the diagonal elements offer an estimation of their respective one-standard-deviation errors (for more comprehensive information, refer to [the documentation](https://docs.scipy.org/doc/scipy/reference/generated/scipy.optimize.curve_fit.html))."
   ]
  },
  {
   "cell_type": "code",
   "execution_count": null,
   "id": "ce4e6234-d4da-48e0-874a-b0c64f793bce",
   "metadata": {
    "tags": []
   },
   "outputs": [],
   "source": [
    "popt, pcov = curve_fit(powerLaw, wavelength, mean_size)\n",
    "perr = np.sqrt(np.diag(pcov))"
   ]
  },
  {
   "cell_type": "markdown",
   "id": "a9afcec9-316a-4299-82f0-248ace3b9df4",
   "metadata": {},
   "source": [
    "Use the fitted parameters to define fitted values, and print the parameters of the fit."
   ]
  },
  {
   "cell_type": "code",
   "execution_count": null,
   "id": "450779bf-77bf-42c5-9805-297985790b4f",
   "metadata": {
    "tags": []
   },
   "outputs": [],
   "source": [
    "lamb_grid = np.arange(300, 800, 1)\n",
    "fit_size = powerLaw(lamb_grid, *popt)\n",
    "amplitude, exponent = popt\n",
    "amplitude_error, exponent_error = perr\n",
    "print(f\"Amplitude: {amplitude:.3} +/- {amplitude_error:.3}\")\n",
    "print(f\"Exponent: {exponent:.3} +/- {exponent_error:.3}\")"
   ]
  },
  {
   "cell_type": "markdown",
   "id": "412da91c-2f32-4ac2-b80c-0941a3101fe9",
   "metadata": {},
   "source": [
    "The expected chromatic dependence of the PSF size should follow a power law of approximately $\\lambda^{-1/5} \\approx \\lambda^{-0.2}$ based on Kolmogorov turbulence. However, the fitted observed exponent is closer to $-0.17$, which is lower than expected. This discrepancy likely arises from two competing effects:\n",
    "\n",
    "1. **Finite Outer Scale of Turbulence:** Kolmogorov turbulence assumes an infinite outer scale, but in real-world atmospheric turbulence and simulations like DP0.2 (based on the [LSST DESC DC2 simulations](https://ui.adsabs.harvard.edu/abs/2021ApJS..253...31L/abstract)), the outer scale is finite. In this case, the magnitude of the exponent deviates from $-0.2$ and can even exceed it. This suggests that the magnitude of the exponent should be slightly larger than $-0.2$, not smaller (see Figure 6 of [Zhang T. 2018](https://zenodo.org/records/14947939)).\n",
    "\n",
    "2. **Chromatic Sensor Effects:** The dominant reason the fitted exponent is less than $-0.2$ is likely related to be sensor physics effects. Specifically, redder photons penetrate deeper into the silicon in the LSST CCDs, spreading charge over a larger transverse area due to the steep incoming $f/1.2$ beam. Additionally, the simulation treated the beam inside the silicon as $f/1.2$, whereas in reality, it should be closer to $f/4$ or $f/5$ due to refraction at the silicon surface ([Meyers et al. 2015](https://ui.adsabs.harvard.edu/abs/2015JInst..10C6004M/abstract)). These effects effectively increase the PSF size for redder wavelengths, counteracting the expected $\\lambda^{-0.2}$ scaling and reducing the measured exponent.\n",
    "\n",
    "In summary, while the finite atmospheric outer scale should have pushed the exponent slightly above $-0.2$, chromatic sensor effects had the opposite sign, resulting in an overall best-fit exponent of approximately $-0.17$."
   ]
  },
  {
   "cell_type": "markdown",
   "id": "5841e9fa-406c-4b17-bce9-1f9d2d9025f3",
   "metadata": {},
   "source": [
    "Plot the mean PSF size per band as a function of wavelength."
   ]
  },
  {
   "cell_type": "code",
   "execution_count": null,
   "id": "2bb842f4-1a74-4d21-bb83-06236a0ee812",
   "metadata": {
    "tags": []
   },
   "outputs": [],
   "source": [
    "plt.figure(figsize=(6, 4))\n",
    "plt.errorbar(wavelength, mean_size, std_size/np.sqrt(len(objects)),\n",
    "             fmt='o--', label='data')\n",
    "plt.plot(lamb_grid, fit_size,\n",
    "         label=r'$\\theta = %.3f \\lambda^{-%.3f}$' % (amplitude, exponent))\n",
    "plt.title(\"Seeing dependence on wavelength.\")\n",
    "plt.xlabel(r'$\\lambda$ (nm)')\n",
    "plt.ylabel(r'$\\sqrt{(Ixx+Iyy)/2}$ (pixel)')\n",
    "plt.grid()\n",
    "plt.legend()\n",
    "plt.show()"
   ]
  },
  {
   "cell_type": "markdown",
   "id": "ea79d584-117b-4ae6-ae3f-0526053512d0",
   "metadata": {},
   "source": [
    "> **Figure 1**: *The plot above depicts the mean PSF size (expressed as the trace radius in pixels) in relation to the central wavelength for the previously specified LSST filters. Additionally, a power-law fit is presented on the same plot, with the associated amplitude and fitting parameters indicated within the legend.*"
   ]
  },
  {
   "cell_type": "markdown",
   "id": "2906b27f-96fc-4b78-bbee-9f413856960e",
   "metadata": {},
   "source": [
    "Superimpose the size hisograms per band and the plot in Figure 1."
   ]
  },
  {
   "cell_type": "code",
   "execution_count": null,
   "id": "c6da64b0-7505-43d6-adcb-12ff8d1a393b",
   "metadata": {
    "tags": []
   },
   "outputs": [],
   "source": [
    "fig, ax1 = plt.subplots(figsize=(6, 6))\n",
    "\n",
    "color = 'tab:red'\n",
    "ax1.set_xlabel(r'$\\lambda$ (nm)')\n",
    "ax1.set_ylabel(r'$\\sqrt{(Ixx+Iyy)/2}$ (pixel)')\n",
    "ax1.errorbar(wavelength, mean_size, std_size/np.sqrt(len(objects)),\n",
    "             fmt='o--', label='data')\n",
    "ax1.plot(lamb_grid, fit_size,\n",
    "         label=r'$\\theta = %.3f \\lambda^{-%.3f}$' % (amplitude, exponent))\n",
    "ax1.legend(loc='lower right')\n",
    "ax1.tick_params(axis='y')\n",
    "\n",
    "ax2 = ax1.twiny()\n",
    "\n",
    "plot_filter_colors = {'u': '#56b4e9', 'g': '#008060', 'r': '#ff4000',\n",
    "                      'i': '#850000', 'z': '#6600cc', 'y': '#000000'}\n",
    "\n",
    "ax2.set_xlabel('counts')\n",
    "plt.hist(objects['size_u_PSF'], bins=100, range=[1.6, 2.2],\n",
    "         color=plot_filter_colors['u'], alpha=0.3, label='u',\n",
    "         orientation=\"horizontal\")\n",
    "plt.hist(objects['size_g_PSF'], bins=100, range=[1.6, 2.2],\n",
    "         color=plot_filter_colors['g'], alpha=0.3, label='g',\n",
    "         orientation=\"horizontal\")\n",
    "plt.hist(objects['size_r_PSF'], bins=100, range=[1.6, 2.2],\n",
    "         color=plot_filter_colors['r'], alpha=0.3, label='r',\n",
    "         orientation=\"horizontal\")\n",
    "plt.hist(objects['size_i_PSF'], bins=100, range=[1.6, 2.2],\n",
    "         color=plot_filter_colors['i'], alpha=0.3, label='i',\n",
    "         orientation=\"horizontal\")\n",
    "plt.legend()\n",
    "ax2.tick_params(axis='y')\n",
    "\n",
    "fig.suptitle(\"PSF size histogram per band superimposed with \"\n",
    "             \"mean PSF size as a funtion of wavelength\")\n",
    "plt.show()"
   ]
  },
  {
   "cell_type": "markdown",
   "id": "a0aa29a7-6ddd-497c-b70f-5b147f836ec6",
   "metadata": {},
   "source": [
    "> **Figure 2**: *The figure above superimposes the size distributions per band onto the previously generated plot in Figure 1. The figure includes histograms of the size distributions corresponding to each band (`u`, `g`, `r`, and `i`), rotated 270 degrees to align their bases with the left vertical axis. The upper horizontal axis displays the histogram counts, spanning from 0 to approximately 1200 counts. This plot serves a dual role, as it incorporates both the data for the PSF size as a function of wavelength and the power-law fit from the preceding plot.*"
   ]
  },
  {
   "cell_type": "markdown",
   "id": "e5fecd7f-018f-48df-ba9d-45e96a4b4801",
   "metadata": {},
   "source": [
    "## 4. Rho statistics with the `analysis.tools` package\n",
    "\n",
    "Utilize [`lsst.analysis.tools`](https://github.com/lsst/analysis_tools) to compute the `rho` statistics, which are a collection of two-point correlation functions used to assess the spatial relationships between errors in PSF models. The presence of non-zero values in these statistics signifies the existence of systematic errors in the weak lensing shear correlation function. To understand their definitions, refer to [the analysis tools documentation](https://pipelines.lsst.io/v/daily/py-api/lsst.analysis.tools.actions.vector.CalcRhoStatistics.html#lsst.analysis.tools.actions.vector.CalcRhoStatistics). \n",
    "\n",
    "`lsst.analysis.tools` is a package designed to generate quality assurance (QA) plots and metrics from the outputs of the LSST Science Pipelines. It employs `treecorr` to compute the `rho` statistics. For an introductory demonstration of `analysis_tools`, you can refer to [this Jupyter Notebook created for a session during Rubin's 2022 Project and Community Workshop](https://github.com/lsst-dm/analysis_tools_examples/blob/main/analysis_tools_demo_pcw2022.ipynb)."
   ]
  },
  {
   "cell_type": "markdown",
   "id": "d639a047-d86b-4540-b897-54564189bf3f",
   "metadata": {},
   "source": [
    "Create the `RhoStatistics` analysis structure using the `AnalysisTool`. As outlined in the [2022 Rubin PCW `analysis_tools` demo notebook](https://github.com/lsst-dm/analysis_tools_examples/blob/main/analysis_tools_demo_pcw2022.ipynb), the `AnalysisTool` is one of the three analysis structures provided by `analysis_tools`. It encompasses several `AnalysisAction` components, which collectively conduct specific types of analyses."
   ]
  },
  {
   "cell_type": "code",
   "execution_count": null,
   "id": "5fa13319-c6b5-4c42-a6f4-21eacfb7ad23",
   "metadata": {
    "tags": []
   },
   "outputs": [],
   "source": [
    "atool = RhoStatistics()"
   ]
  },
  {
   "cell_type": "markdown",
   "id": "62fd3266-2af3-4712-89f8-17795abf216d",
   "metadata": {},
   "source": [
    "There are three types of `AnalysisAction`s or stages: \n",
    "\n",
    "- `prep` (for initial filtering of data), \n",
    "- `process` (for modyfing the data), and \n",
    "- `produce` (for generating final plots of metrics). \n",
    "\n",
    "Abjust a few configuration parameters from the `prep` and `process` stages."
   ]
  },
  {
   "cell_type": "markdown",
   "id": "bb6ad2b6-b872-45ff-9bba-1c06ed30d59f",
   "metadata": {},
   "source": [
    "Select stars with with signal-to-noise ratio (SNR) > 20."
   ]
  },
  {
   "cell_type": "code",
   "execution_count": null,
   "id": "40b60d5c-0529-4e76-bf0e-4be4b81ac22a",
   "metadata": {
    "tags": []
   },
   "outputs": [],
   "source": [
    "atool.prep.selectors.snSelector.threshold = 20.0"
   ]
  },
  {
   "cell_type": "markdown",
   "id": "a295e266-f0a9-4c7b-ab3a-23b144e8cfc0",
   "metadata": {},
   "source": [
    "Adjust the `treecorr` parameters before calculations via `lsst.analysis.tools`."
   ]
  },
  {
   "cell_type": "code",
   "execution_count": null,
   "id": "b47bb00f-b4e5-4525-a259-1b1831440f30",
   "metadata": {
    "tags": []
   },
   "outputs": [],
   "source": [
    "atool.process.calculateActions.rho.treecorr.nbins = 21\n",
    "atool.process.calculateActions.rho.treecorr.min_sep = 0.1\n",
    "atool.process.calculateActions.rho.treecorr.max_sep = 100.0"
   ]
  },
  {
   "cell_type": "markdown",
   "id": "36b4b77d-4ed0-4354-8057-6ec0867df185",
   "metadata": {},
   "source": [
    "Call `atool.finalize()` after the `atool.prep` and `atool.process` stages are configured."
   ]
  },
  {
   "cell_type": "code",
   "execution_count": null,
   "id": "00ff3bbe-bfde-4756-b149-1e63c3c0e247",
   "metadata": {
    "tags": []
   },
   "outputs": [],
   "source": [
    "atool.finalize()"
   ]
  },
  {
   "cell_type": "markdown",
   "id": "dcd8f06d-be02-45c1-ba24-76ddf93de7a0",
   "metadata": {},
   "source": [
    "The TAP query in section 2.1 included fields that not used in that section, but that will be used in this section. \n",
    "\n",
    "In order to know which entries will be needed by `analysys_tools` to calculate the `rho` statistics, look at the input schema of the analysis tool `RhoStatistics`."
   ]
  },
  {
   "cell_type": "code",
   "execution_count": null,
   "id": "0ce8b391-dbf1-451f-b6da-e5c25adfacd5",
   "metadata": {
    "tags": []
   },
   "outputs": [],
   "source": [
    "input_schema = atool.getInputSchema()\n",
    "needed_catalog_fields = [name[0] for name in list(atool.getInputSchema())]\n",
    "print(needed_catalog_fields)"
   ]
  },
  {
   "cell_type": "markdown",
   "id": "19ea9678-00bd-4b5c-8b5e-3f7394dd0670",
   "metadata": {},
   "source": [
    "Compute the `rho` statistics in the particular band that we have chosen previously (`i`)."
   ]
  },
  {
   "cell_type": "markdown",
   "id": "d711b878-1e1c-427e-8405-34f56c663e5b",
   "metadata": {},
   "source": [
    "Start with the `prep` stage in the following cell."
   ]
  },
  {
   "cell_type": "code",
   "execution_count": null,
   "id": "3876cc98-a846-4bb7-9adb-0f1aaff0e9d0",
   "metadata": {
    "tags": []
   },
   "outputs": [],
   "source": [
    "prepResults = atool.prep(objects, band=f\"{band}\")"
   ]
  },
  {
   "cell_type": "markdown",
   "id": "6201731f-83eb-4205-8765-a832f5c57a65",
   "metadata": {},
   "source": [
    "Execute the `process` stage, utilizing the outcomes obtained from the `prep` stage. Ignore the `INFO` lines."
   ]
  },
  {
   "cell_type": "code",
   "execution_count": null,
   "id": "d92dd649-59f2-40b4-861c-4b94b9b04be0",
   "metadata": {
    "tags": []
   },
   "outputs": [],
   "source": [
    "processResults = atool.process(prepResults, band=f\"{band}\")"
   ]
  },
  {
   "cell_type": "markdown",
   "id": "8ebdc877-1f65-4c90-b8d7-29aa052c60b5",
   "metadata": {},
   "source": [
    "Access the results from `treecorr` for each `rho` statistic in order to examine the values or perform any other operation on them."
   ]
  },
  {
   "cell_type": "code",
   "execution_count": null,
   "id": "6ca7d5d0-43fe-48e2-a56a-ec844a7a82d6",
   "metadata": {
    "tags": []
   },
   "outputs": [],
   "source": [
    "print(\"Mean angular separation:\\n\", processResults['rho1'].meanr, \"\\n\")\n",
    "print(\"Correlation function:\\n\", processResults['rho1'].xip, \"\\n\")\n",
    "print(\"Error in the correlation function:\\n\", processResults['rho1'].varxip)"
   ]
  },
  {
   "cell_type": "markdown",
   "id": "f52f3aae-5c3d-4d28-89a7-088de01b97e4",
   "metadata": {},
   "source": [
    "Plot the `rho` statistics using `analysis_tools` "
   ]
  },
  {
   "cell_type": "markdown",
   "id": "29d0cbac-2701-4604-8b07-586dc7e1455a",
   "metadata": {},
   "source": [
    "By default, the rho statistics are plotted on a symmetric log scale.\n",
    "The threshold where the switch happens from linear to log scale can be set as follows."
   ]
  },
  {
   "cell_type": "code",
   "execution_count": null,
   "id": "400821f2-f4ce-4012-8886-071a5cdd7644",
   "metadata": {
    "tags": []
   },
   "outputs": [],
   "source": [
    "atool.produce.plot.rhoPlots[\"rho3\"].yLinThresh = 1e-8"
   ]
  },
  {
   "cell_type": "markdown",
   "id": "ed77ff9a-ecbb-46ad-b392-2f56bd0df271",
   "metadata": {},
   "source": [
    "At the moment, `atool.produce` does nto provide a direct handle to the plotting keyword arguments. \n",
    "\n",
    "Overwrite the global plotting parameters in order to make figures with a size suitable for a Jupyter notebook."
   ]
  },
  {
   "cell_type": "code",
   "execution_count": null,
   "id": "cee4fab9-399e-4e24-8245-24597ec5c2de",
   "metadata": {},
   "outputs": [],
   "source": [
    "plt.rcParams['figure.figsize'] = (2, 2)\n",
    "plt.rcParams['lines.markersize'] = 2\n",
    "plt.rcParams['xtick.labelsize']=5\n",
    "plt.rcParams['ytick.labelsize']=5\n",
    "plt.rcParams['font.size']=5"
   ]
  },
  {
   "cell_type": "markdown",
   "id": "24ea3e87-d27e-4a2f-8717-33a5d961a41b",
   "metadata": {},
   "source": [
    "Use `analysis_tools` to produce the `rho` statistics plots."
   ]
  },
  {
   "cell_type": "code",
   "execution_count": null,
   "id": "ee19ba4b-a4a0-4da8-b986-e496e978fd5f",
   "metadata": {
    "tags": []
   },
   "outputs": [],
   "source": [
    "produceResults = atool.produce(processResults, band=f\"{band}\", skymap=None)"
   ]
  },
  {
   "cell_type": "markdown",
   "id": "a3453cd0-de55-4469-add6-344e82922f54",
   "metadata": {},
   "source": [
    "> **Figure 3** *This figure displays six plots of the `rho` statistics using `analysis_tools`. \n",
    "For other possible configuration options, you can refer to \n",
    "[the documentation](https://pipelines.lsst.io/v/daily/py-api/lsst.analysis.tools.actions.plot.XYPlot.html#lsst.analysis.tools.actions.plot.XYPlot). \n",
    "The vertical axis of each plot displays the specific `rho` statistic, and the horizontal axis represents the separation in arcminutes, ranging from approximately 0.1 to 100 arcminutes on a logarithmic scale.*"
   ]
  },
  {
   "cell_type": "markdown",
   "id": "d2229b46-2a92-4596-8021-837afb6f844d",
   "metadata": {},
   "source": [
    "As explained in [Jarvis et al. 2021](https://ui.adsabs.harvard.edu/abs/2021MNRAS.501.1282J/abstract), `rho1` (ρ1), `rho3` (ρ3), and `rho4` (ρ4) represent direct systematic errors in `xi+` (ξ+) with leading coefficients of order unity. `rho2` (ρ2) and `rho5` (ρ5) describe the extent of \"PSF leakage\" that occurs during the shear measurement process.\n",
    "\n",
    "The DC2 area is relatively small and does not exhibit significant PSF variations. The `rho` statistics obtained in the previous examples (for the `i` band, considering that `rho` statistics can vary with different bands) are relatively small and well-behaved. For comparison, you can refer to Figure 26 of the [HSC Y3 shape catalog](https://ui.adsabs.harvard.edu/abs/2022PASJ...74..421L/abstract) and Figure 12 of the [DES Y3 shape catalog analyses](https://ui.adsabs.harvard.edu/abs/2021MNRAS.501.1282J/abstract), which display `rho` statistics obtained from on-sky data from their respective galaxy surveys (HSC Survey and DES). These figures also include the requirements that each `rho` statistic should satisfy (e.g., Eq. 37 of [Li et al. 2022](https://ui.adsabs.harvard.edu/abs/2022PASJ...74..421L/abstract)) to ensure that there are no significant PSF modeling systematic errors that would impact the scientific goals related to cosmic shear."
   ]
  },
  {
   "cell_type": "markdown",
   "id": "022c215e-1e22-44b9-9236-ae7b83b95b60",
   "metadata": {},
   "source": [
    "\n",
    "# Part II. Cluster lensing\n",
    "\n",
    "## 1. Introduction\n",
    "\n",
    "Galaxy clusters are the largest gravitionally bound objects in the Universe. According to the General Relatively, massive objects warp the spacetime, and light follows the curvature of spacetime. Thus, massive objects act like lenses that bend the path of the light emitted from distance sources. This effect is called \"gravitional lensing\". \n",
    "\n",
    "The large mass of a galaxy cluster coherently distorts the images of backgroud galaxies, and this distortion occurs over a large sky area around the cluster. The lensing effect on the shape of a single background galaxy far from the cluster center is small, but the lensing signal can be detected by averaging the shape of many background galaxies. This is because the original shapes of the galaxies are randomly oriented. This effect is called weak gravitational lensing (WL), which shows up in the statistics of a large sample of galaxy shapes. More detailed introduction to cluster WL can be found in review papers (e.g., [Bartelmann & Schneider 2001](https://ui.adsabs.harvard.edu/abs/2001PhR...340..291B/abstract); [Umetsu 2020](https://ui.adsabs.harvard.edu/abs/2020A%26ARv..28....7U/abstract)). \n",
    "\n",
    "Note that WL also happens between galaxies and when the light passes through the large-scale structure of the Universe (cosmic shear). Compared to galaxy-galaxy lensing and cosmic shear, the cluster WL signal is generally about 1 magnitude higher (at the level of 10 times). \n",
    "\n",
    "This notebook gives an example of detecting lensing signal of clusters using DP0 data."
   ]
  },
  {
   "cell_type": "code",
   "execution_count": null,
   "id": "ad020905-2497-4052-a1d9-2840a9b332b3",
   "metadata": {},
   "outputs": [],
   "source": [
    "plt.rcdefaults()"
   ]
  },
  {
   "cell_type": "markdown",
   "id": "9423bcfa-82b5-4665-b694-a2fab57120ec",
   "metadata": {},
   "source": [
    "## 2. Get the coadd object catalog around a cluster\n",
    "There is a known cluster at (55.749deg, -32.273deg) for Right Ascension (RA), DEClination (DEC). Make a cone search for primary objects with radius 15 arcmin using Table Access Protocol (TAP). \n",
    "More details about the TAP service can be found in the tutorial Notebook for TAP (DP02_02a Introduction to TAP). \n",
    "\n",
    "Select galaxies by extendedness, which is the difference between the Point Spread Function (PSF) photometry and the Composite-Model (CModel) photometry ([Abazajian et al. 2004](https://ui.adsabs.harvard.edu/abs/2004AJ....128..502A/abstract), [Bosch et al. 2018](https://ui.adsabs.harvard.edu/abs/2018PASJ...70S...5B/abstract)). CModel measures extended objects and is used for galaxy photometry generally. \n",
    "\n",
    "Use the `g` and `r` band color information to remove foreground galaxies, applying relevant flag cuts. Additionally, use the `r` band for shape analysis. Using the `r` band shapes is common in weak lensing studies. The main reason is the balance between seeing and sky brightness for shape measurement ([Fu et al. 2022](https://ui.adsabs.harvard.edu/abs/2022ApJ...933...84F)). Another reason is that Differential Chromatic Refraction (DCR) is weaker in redder bands, which reduces the PSF elongation along the zenith and makes the galaxy's pre-PSF shape easier to measure ([Plazas et al. 2012](https://ui.adsabs.harvard.edu/abs/2012PASP..124.1113P/abstract)). \n",
    "Also, apply quality cuts to the shape measurements of galaxies for WL analysis ([Mandelbaumet al. 2018](https://ui.adsabs.harvard.edu/abs/2018PASJ...70S..25M/abstract)). \n",
    "\n",
    "For simplicity, skip the use of photometric redshift (photo-z) in this notebook. While the photo-z information can help select background galaxies by redshift, background galaxies can also be selected directly by color. \n"
   ]
  },
  {
   "cell_type": "code",
   "execution_count": null,
   "id": "0a7778a4-45ce-432c-822f-7ddb4a47b207",
   "metadata": {},
   "outputs": [],
   "source": [
    "service = get_tap_service(\"tap\")\n",
    "assert service is not None"
   ]
  },
  {
   "cell_type": "code",
   "execution_count": null,
   "id": "4fa13f37-3cf5-4e39-bdcd-92d46aa13e1c",
   "metadata": {
    "scrolled": true
   },
   "outputs": [],
   "source": [
    "center_ra = 55.749\n",
    "center_dec = -32.273\n",
    "radius = 15/60.\n",
    "\n",
    "str_center_coords = str(center_ra) + \", \" + str(center_dec)\n",
    "str_radius = str(radius)\n",
    "\n",
    "query = \"SELECT r_ra, r_decl, \"\\\n",
    "        \"r_cModelFlux, r_cModelFluxErr, g_cModelFlux, g_cModelFluxErr, \"\\\n",
    "        \"r_hsmShapeRegauss_e1, r_hsmShapeRegauss_e2, x, y \"\\\n",
    "        \"FROM dp02_dc2_catalogs.Object \"\\\n",
    "        \"WHERE CONTAINS(POINT('ICRS', coord_ra, coord_dec), \"\\\n",
    "        \"CIRCLE('ICRS', \" + str_center_coords + \", \" + str_radius + \")) = 1 \"\\\n",
    "        \"AND detect_isPrimary = 1 \"\\\n",
    "        \"AND r_extendedness = 1 \"\\\n",
    "        \"AND r_extendedness_flag = 0 \"\\\n",
    "        \"AND r_cModel_flag = 0 \"\\\n",
    "        \"AND g_cModel_flag = 0 \"\\\n",
    "        \"AND r_psfFlux_flag = 0 \"\\\n",
    "        \"AND r_centroid_flag = 0 \"\\\n",
    "        \"AND r_hsmShapeRegauss_sigma < 0.4 \"\\\n",
    "        \"AND r_blendedness < 0.42 \"\n",
    "\n",
    "\n",
    "print(query)"
   ]
  },
  {
   "cell_type": "markdown",
   "id": "b9d04025-40e7-4799-9560-061070812de2",
   "metadata": {},
   "source": [
    "Run the job."
   ]
  },
  {
   "cell_type": "code",
   "execution_count": null,
   "id": "80f0d1be-0e6b-41b3-b6d3-358ee674a3d2",
   "metadata": {},
   "outputs": [],
   "source": [
    "job = service.submit_job(query)\n",
    "job.run()\n",
    "job.wait(phases=['COMPLETED', 'ERROR'])\n",
    "print('Job phase is', job.phase)\n",
    "assert job.phase == 'COMPLETED'"
   ]
  },
  {
   "cell_type": "markdown",
   "id": "807b48d6-cf69-4d57-bb71-ba20befd130f",
   "metadata": {},
   "source": [
    "Finally, save the results into an astropy table."
   ]
  },
  {
   "cell_type": "code",
   "execution_count": null,
   "id": "3b4f3c51-6214-4c4f-8f8f-17feae09922a",
   "metadata": {},
   "outputs": [],
   "source": [
    "data = job.fetch_result().to_table()\n",
    "job.delete()"
   ]
  },
  {
   "cell_type": "markdown",
   "id": "41f53861-78dc-474d-b020-a8c6fff34413",
   "metadata": {},
   "source": [
    "Delete the variable."
   ]
  },
  {
   "cell_type": "code",
   "execution_count": null,
   "id": "f911d804-d77f-4e42-87c3-20857b692a96",
   "metadata": {},
   "outputs": [],
   "source": [
    "del query"
   ]
  },
  {
   "cell_type": "markdown",
   "id": "843cbe62-b813-48c6-88cc-d810894e2a9e",
   "metadata": {},
   "source": [
    "Apply some further cuts on the `g` and `r` band photometry to ensure the quality. First require the flux error to be positive to remove unphysical measurements."
   ]
  },
  {
   "cell_type": "code",
   "execution_count": null,
   "id": "a653988c-1b3f-4606-92c5-6b2840ae07e3",
   "metadata": {},
   "outputs": [],
   "source": [
    "data = data[data['r_cModelFluxErr'] > 0]\n",
    "data = data[data['g_cModelFluxErr'] > 0]"
   ]
  },
  {
   "cell_type": "markdown",
   "id": "54ac6680-749e-48d0-ba71-c962898ae74d",
   "metadata": {},
   "source": [
    "Make selection based on signal-to-noise ratio (SNR). Make a typical 5-sigma cut on SNR to select well-detected objects."
   ]
  },
  {
   "cell_type": "code",
   "execution_count": null,
   "id": "79d95923-57c0-437b-8511-6643230ae92f",
   "metadata": {},
   "outputs": [],
   "source": [
    "r_SNR = data['r_cModelFlux'] / data['r_cModelFluxErr']\n",
    "g_SNR = data['g_cModelFlux'] / data['g_cModelFluxErr']\n",
    "\n",
    "sel = r_SNR > 5.\n",
    "sel &= g_SNR > 5."
   ]
  },
  {
   "cell_type": "markdown",
   "id": "94cca1cc-3cd9-438c-aaa2-075740213fc1",
   "metadata": {},
   "source": [
    "WL distorts galaxy shapes, which are described by ellipticity. The ellipticity is constructed from the second moments of the object's 2D flux distribution, corrected for PSF effects. \n",
    "The HSM shape measurement is available in the catalog. The details of HSM are described in the work of [Hirata and Seljak (2003)](https://ui.adsabs.harvard.edu/abs/2003MNRAS.343..459H/abstract) and [Mandelbaum et al. (2005)](https://ui.adsabs.harvard.edu/abs/2005MNRAS.361.1287M/abstract). \n",
    "\n",
    "Require the measured ellipticity to be within 2. This removes galaxies with very large measured ellipticities that are unphysical, but allows galaxies with measured ellipticities slightly larger than 1 caused by noise ([Mandelbaum et al. 2018](https://ui.adsabs.harvard.edu/abs/2018PASJ...70S..25M/abstract)). \n",
    "\n",
    "For HSM shapes, the mean ellipticity divided by 2 approximates the lensing shear. Between the measured shear and the true shear there is a small bias, which is caused by galaxy shape dispersion, measurement noise, pixelization, and other effects. Usually, a shear calibration corrects for this bias. However, accurately determining shear calibration parameters requires further image simulation, which is beyond the scope of this notebook. Thus, for demonstration, skip shear calibration but focus on studying the mean galaxy shape in this notebook."
   ]
  },
  {
   "cell_type": "code",
   "execution_count": null,
   "id": "1673cff1-ca38-48fa-afe0-aff31c8294b3",
   "metadata": {},
   "outputs": [],
   "source": [
    "e1 = data['r_hsmShapeRegauss_e1']\n",
    "e2 = data['r_hsmShapeRegauss_e2']\n",
    "sel &= (e1**2 + e2**2)**0.5 < 2.\n",
    "print(\"Fraction of large ellipticity: \", np.sum(~sel)/len(data))"
   ]
  },
  {
   "cell_type": "markdown",
   "id": "37ef7dd5-03c5-4a84-95a1-f628889a36ca",
   "metadata": {},
   "source": [
    "Make the selection. "
   ]
  },
  {
   "cell_type": "code",
   "execution_count": null,
   "id": "885c89a6-1297-4d8e-b2e1-0d6bfd5e127a",
   "metadata": {},
   "outputs": [],
   "source": [
    "data_s = data[sel]"
   ]
  },
  {
   "cell_type": "markdown",
   "id": "b77898cb-e434-4215-bc2d-c2b8846bd4bc",
   "metadata": {},
   "source": [
    "## 3. Select galaxies by color\n",
    "\n",
    "Create a `g-r` vs `r` color-magnitude diagram (CMD) of galaxies. Clusters generally show a red sequence (RS) in the CMD due to evolution -- those red galaxies are the oldest and reddest in the cluster ([Kodama and Arimoto 1997](https://ui.adsabs.harvard.edu/abs/1997A%26A...320...41K/abstract); [Gladders and Yee 2000](https://ui.adsabs.harvard.edu/abs/2000AJ....120.2148G/abstract)). Galaxies that are redder than the RS are background galaxies. Thus, use colors to select a sample of background galaxies, and a sample of bright cluster member galaxies -- they show different colors in the CMD. Here is also an example tutorial of using the Rubin Science Platform (RSP) Portal to study the RS ([Exploring Extended Object Populations with Histograms](https://dp0-2.lsst.io/tutorials-examples/portal-4.html)).\n",
    "\n",
    "First, convert flux into magnitude and compute the magnitude uncertainty, based on the tutorial notebook DP02_01 (Introduction to Jupyter Notebooks for Data Preview 0.2). Note, the derivation of the magnitude uncertainty comes from the difference of the magnitude equation. Because $m = -2.5 * log(F) + m_0$, where $m_0$ is the magnitude zero point, $m$ is the magnitude, and $F$ is the flux. Then $dm = -2.5/ln(10) * dF / F$, and the SNR is $F / dF$. "
   ]
  },
  {
   "cell_type": "code",
   "execution_count": null,
   "id": "399f9760-1b5d-4e35-8120-cd082376ad22",
   "metadata": {},
   "outputs": [],
   "source": [
    "r_cModel = -2.5*np.log10(data_s['r_cModelFlux']) + 31.4\n",
    "g_cModel = -2.5*np.log10(data_s['g_cModelFlux']) + 31.4\n",
    "\n",
    "fac = 2.5 / np.log(10)\n",
    "r_cModel_err = fac / r_SNR[sel]"
   ]
  },
  {
   "cell_type": "markdown",
   "id": "56569a3a-d2f9-44b6-b397-a11528d8af15",
   "metadata": {},
   "source": [
    "Make the CMD. \n",
    "\n",
    "There is a concentration of galaxies at $g-r\\approx1.1$, when the galaxies have different brightness (`r` band magnitude). That concentration represents the RS. Select galaxies redder than that to get background galaxies, and allow some gap from the the RS because of magnitude measurement uncertainties. "
   ]
  },
  {
   "cell_type": "code",
   "execution_count": null,
   "id": "777d9d47-c787-4a31-81d2-34967b7d1868",
   "metadata": {},
   "outputs": [],
   "source": [
    "plt.figure()\n",
    "plt.scatter(r_cModel,\n",
    "            g_cModel - r_cModel,\n",
    "            s=0.03, c='k', marker='.')\n",
    "\n",
    "sel_rs = g_cModel - r_cModel > 1.0\n",
    "sel_rs &= g_cModel - r_cModel < 1.2\n",
    "sel_rs &= r_cModel < 23.\n",
    "\n",
    "plt.scatter(r_cModel[sel_rs],\n",
    "            (g_cModel - r_cModel)[sel_rs],\n",
    "            s=10, c='r', alpha=0.3,\n",
    "            label='red sequence', marker='^')\n",
    "\n",
    "sel_bg = g_cModel - r_cModel > 1.35\n",
    "\n",
    "plt.scatter(r_cModel[sel_bg],\n",
    "            (g_cModel - r_cModel)[sel_bg],\n",
    "            s=5, c='b', alpha=0.3,\n",
    "            label='background', marker='s')\n",
    "\n",
    "_ = plt.legend()\n",
    "\n",
    "plt.xlim(15, 27)\n",
    "plt.ylim(-1, 3.)\n",
    "plt.xlabel('r [mag]')\n",
    "plt.ylabel('g - r [mag]')\n",
    "plt.minorticks_on()"
   ]
  },
  {
   "cell_type": "markdown",
   "id": "6e32c029-2d6f-4f8d-ad69-40ea24fa49e7",
   "metadata": {},
   "source": [
    "> Figure 1: Color-magnitude of galaxies with markers showing the selected background galaxies and the bright red sequence galaxies. "
   ]
  },
  {
   "cell_type": "markdown",
   "id": "c900943e-6935-44b6-9b88-a2c8171ca049",
   "metadata": {},
   "source": [
    "Check the relation between the `r` band magnitude and uncertainty, and compare that with SNR. In the figure, the uncertainty grows as the magnitude increases (i.e., the objects are fainter), which is expected."
   ]
  },
  {
   "cell_type": "code",
   "execution_count": null,
   "id": "75b6983d-ae70-41dd-8c6c-844b8c36cdf2",
   "metadata": {},
   "outputs": [],
   "source": [
    "plt.figure()\n",
    "\n",
    "plt.scatter(r_cModel,\n",
    "            r_cModel_err,\n",
    "            s=0.1, c='k')\n",
    "\n",
    "ls_list = ['-', '--', '-.']\n",
    "for i, SNR in enumerate([5, 10, 20]):\n",
    "    plt.axhline(fac / SNR, c='C%d'%i, label='SNR=%d'%SNR, ls=ls_list[i])\n",
    "\n",
    "plt.xlim(16, 28)\n",
    "plt.ylim(0, 0.25)\n",
    "\n",
    "plt.axvline(26, c='y', ls=':', label='mag=26')\n",
    "\n",
    "plt.xlabel('r [mag]')\n",
    "plt.ylabel('r_err [mag]')\n",
    "\n",
    "_ = plt.legend()"
   ]
  },
  {
   "cell_type": "markdown",
   "id": "6c407da5-437f-4aee-99fa-ec2c730bd89d",
   "metadata": {},
   "source": [
    "> Figure 2: r-band magnitude and uncertainty of galaxies."
   ]
  },
  {
   "cell_type": "markdown",
   "id": "c065e6c5-8ea9-44ae-94f4-c99833191a19",
   "metadata": {},
   "source": [
    "Now, check the distribution of galaxies on the sky. Clearly, the RS galaxies have a concentration near the cluster center, but the background ones are uniformally distributed. "
   ]
  },
  {
   "cell_type": "code",
   "execution_count": null,
   "id": "eeb0c78c-68b4-485c-b63e-7ccfc30bb074",
   "metadata": {},
   "outputs": [],
   "source": [
    "ra = data_s['r_ra']\n",
    "dec = data_s['r_decl']\n",
    "\n",
    "plt.figure(figsize=(5, 5))\n",
    "plt.scatter(ra[sel_rs], dec[sel_rs], s=10, c='r',\n",
    "            label=\"red sequence\", marker='^', alpha=0.5)\n",
    "plt.scatter(ra[sel_bg], dec[sel_bg], s=5, c='b',\n",
    "            label=\"background\", marker='s', alpha=0.5)\n",
    "plt.xlabel('RA [deg]')\n",
    "plt.ylabel('DEC [deg]')\n",
    "plt.gca().invert_xaxis()\n",
    "_ = plt.legend()"
   ]
  },
  {
   "cell_type": "markdown",
   "id": "efaf0032-f7f2-48c2-b0ee-4f37cc269245",
   "metadata": {},
   "source": [
    "> Figure 3: Sky distribution of the selected background and red sequence galaxies."
   ]
  },
  {
   "cell_type": "markdown",
   "id": "2532df41-d4d9-4f06-b627-8e18183fdd36",
   "metadata": {},
   "source": [
    "## 4. Lensing analysis\n",
    "\n",
    "Compute the tangential and cross ellipticities of background galaxies with respect to the cluster center. \n",
    "\n",
    "In the following formulae, $e_\\textrm{T}$ is the tangential ellipticity, $e_\\textrm{X}$ is the cross ellipticity, $\\varphi$ is the position angle towards the cluster center (top North and left East), $e_1$ and $e_2$ are the original ellipticity components. Note, in the formulae the position angle starts from the negative RA direction (West) and increases counterclockwise, but in Astropy the position angle starts from North. Thus, add $\\pi/2$ to the position angle computed by Astropy. \n",
    "\n",
    "$e_\\textrm{T}= - e_1 \\cos(2 \\varphi)- e_2 \\sin(2 \\varphi)$\n",
    "\n",
    "$e_\\textrm{X}= e_1 \\sin(2 \\varphi) - e_2 \\cos(2 \\varphi)$\n",
    "\n",
    "Here, the tangential direction is perpendicular to the line connecting the galaxy and the cluster center, while the cross direction is 45 degrees counterclockwise from the tangential direction.  \n",
    "\n",
    "Also, compute the radial distance in arcminutes. "
   ]
  },
  {
   "cell_type": "code",
   "execution_count": null,
   "id": "f003a9d9-9e72-424c-8798-8f4d5777b09e",
   "metadata": {},
   "outputs": [],
   "source": [
    "e1 = data_s['r_hsmShapeRegauss_e1']\n",
    "e2 = data_s['r_hsmShapeRegauss_e2']\n",
    "\n",
    "coord0 = SkyCoord(center_ra, center_dec, frame='icrs', unit='deg')\n",
    "coord1 = SkyCoord(ra, dec, frame='icrs', unit='deg')\n",
    "\n",
    "position_angle = coord0.position_angle(coord1).rad + np.pi/2.\n",
    "\n",
    "e_t = - e1 * np.cos(2.*position_angle) - e2 * np.sin(2.*position_angle)\n",
    "e_x = + e1 * np.sin(2.*position_angle) - e2 * np.cos(2.*position_angle)\n",
    "\n",
    "r = coord0.separation(coord1).arcmin"
   ]
  },
  {
   "cell_type": "markdown",
   "id": "eb3d5477-528c-407e-9bed-75f6559c8b23",
   "metadata": {},
   "source": [
    "Examine the distributions of the tangential and cross ellipticities. They both show Gaussian-like distributions, but the tangential ellipticity distribution has a mean slightly above zero, while the cross ellipticity distribution has a mean close to zero ([Kaiser 1995](https://ui.adsabs.harvard.edu/abs/1995ApJ...439L...1K/abstract); [Umetsu 2020](https://ui.adsabs.harvard.edu/abs/2020A%26ARv..28....7U/abstract))."
   ]
  },
  {
   "cell_type": "code",
   "execution_count": null,
   "id": "1f55efbe-293e-47e8-be7d-ffcc31e130be",
   "metadata": {},
   "outputs": [],
   "source": [
    "bins = np.linspace(-1, 1, 30)\n",
    "mid = 0.5 * (bins[1:] + bins[:-1])\n",
    "\n",
    "plt.figure()\n",
    "\n",
    "n_e_t, _, im = plt.hist(e_t[sel_bg], bins=bins, histtype='step',\n",
    "                        density=True, label='e_t')\n",
    "n_e_x, _, im = plt.hist(e_x[sel_bg], bins=bins, histtype='step',\n",
    "                        density=True, ls='--', label='e_x')\n",
    "\n",
    "plt.axvline(np.mean(e_t[sel_bg]), c='C0', label='mean[e_t]')\n",
    "plt.axvline(np.mean(e_x[sel_bg]), c='C1', ls='--', label='mean[e_x]')\n",
    "\n",
    "plt.xlabel('ellipticity')\n",
    "plt.ylabel('count')\n",
    "\n",
    "_ = plt.legend()"
   ]
  },
  {
   "cell_type": "markdown",
   "id": "01617218-3102-45e6-93be-06367fa67039",
   "metadata": {},
   "source": [
    "> Figure 4: Distributions of the tangential ellipticities and the cross ellipticities of the selected background galaxies."
   ]
  },
  {
   "cell_type": "markdown",
   "id": "e885d7e8-0585-41c5-bc71-1e414b023704",
   "metadata": {},
   "source": [
    "The difference between two distributions shows a dipole feature as expected, because this is the difference between two Gaussian-like functions that only have a small offset of the peak. See also an example in the work of [Dell'Antonio et al. (2020)](https://ui.adsabs.harvard.edu/abs/2020ApJ...903...64D/abstract)."
   ]
  },
  {
   "cell_type": "code",
   "execution_count": null,
   "id": "4e5cd79c-cc56-4d53-a3a8-efba9c3af95d",
   "metadata": {},
   "outputs": [],
   "source": [
    "plt.figure()\n",
    "plt.step(mid, n_e_t - n_e_x, where='mid')\n",
    "plt.axvline(0, c='k', ls=':')\n",
    "plt.xlabel('ellipticity')\n",
    "plt.ylabel('count difference')"
   ]
  },
  {
   "cell_type": "markdown",
   "id": "181ebdb2-d416-46b0-a165-0fdb80beb299",
   "metadata": {},
   "source": [
    "> Figure 5: Difference between the distributions of the tangential ellipticities and the cross ellipticities."
   ]
  },
  {
   "cell_type": "markdown",
   "id": "640be262-ca8b-41bf-9e74-878429f06ed2",
   "metadata": {},
   "source": [
    "Bin the data by radial distance to get the mean tangential and cross ellipticities. Note, these are ellipticity profiles rather than shear profiles. \n",
    "\n",
    "Estimate the error bar by the standard deviation divided by the square root of the number of data points ($std/\\sqrt{N}$). Here, the shape noise (which can be as large as the ellipticity itself) is usually about 10 times bigger than other sources of error (e.g., measurement error, large-scale structure). Therefore, using the statistical error is sufficient in this case, assuming each galaxy's shape is an independent measurement. \n",
    "\n",
    "When plotting the cross component result, shift the data point slightly for better visualization. \n",
    "\n",
    "This cluster has sufficient mass and an appropriate redshift to produce a significant lensing signal (mean tangential ellipticity). Additionally, the mean cross ellipticity is consistent with zero, indicating no significant systematics. "
   ]
  },
  {
   "cell_type": "code",
   "execution_count": null,
   "id": "29a09501-95c9-4aba-ad82-6aab233b9b3c",
   "metadata": {},
   "outputs": [],
   "source": [
    "r_max = np.max(r)\n",
    "print(r_max)\n",
    "\n",
    "bins = np.linspace(0, r_max, 7)\n",
    "mid = 0.5 * (bins[1:] + bins[:-1])\n",
    "\n",
    "e_t_mean, _, _ = binned_statistic(r[sel_bg], e_t[sel_bg], bins=bins)\n",
    "e_x_mean, _, _ = binned_statistic(r[sel_bg], e_x[sel_bg], bins=bins)\n",
    "\n",
    "e_t_std, _, _ = binned_statistic(r[sel_bg], e_t[sel_bg], bins=bins,\n",
    "                                 statistic='std')\n",
    "e_x_std, _, _ = binned_statistic(r[sel_bg], e_x[sel_bg], bins=bins,\n",
    "                                 statistic='std')\n",
    "\n",
    "count, _, _ = binned_statistic(r[sel_bg], e_t[sel_bg], bins=bins,\n",
    "                               statistic='count')\n",
    "\n",
    "e_t_err = e_t_std / count ** 0.5\n",
    "e_x_err = e_x_std / count ** 0.5\n",
    "\n",
    "plt.figure()\n",
    "plt.errorbar(mid, e_t_mean, e_t_err, fmt='o', label='e_t')\n",
    "plt.errorbar(mid+r_max*0.03, e_x_mean, e_x_err, fmt='x', label='e_x')\n",
    "plt.axhline(0, c='k', ls=':')\n",
    "plt.xlabel('r [arcmin]')\n",
    "plt.ylabel('<e_i>')\n",
    "\n",
    "_ = plt.legend()"
   ]
  },
  {
   "cell_type": "markdown",
   "id": "902aaa45-fc06-4301-82b0-c011e8910da1",
   "metadata": {},
   "source": [
    "> Figure 6: Mean shape profile with error bars estimated by statistical uncertainty."
   ]
  },
  {
   "cell_type": "markdown",
   "id": "73e8c19b-204f-4535-bb7a-d5d64438b268",
   "metadata": {},
   "source": [
    "As mentioned earlier, there are other sources of error in addition to shape noise. For example, the background large-scale structure can introduce correlated noise between radial bins. To fully catch all kinds of error, consider using resampling to estimate the intrinsic scatter of the measurement. \n",
    "\n",
    "\n",
    "The result will be very similar to the previous one, because other types of error are much smaller than the shape noise."
   ]
  },
  {
   "cell_type": "markdown",
   "id": "8f7b7881-8ead-4d62-8f16-c4679d4845cb",
   "metadata": {},
   "source": [
    "Note: It is encouraged that researchers join the LSST Dark Energy Science Collaboration (DESC) to carry out cosmological studies using the Rubin data."
   ]
  }
 ],
 "metadata": {
  "kernelspec": {
   "display_name": "LSST",
   "language": "python",
   "name": "lsst"
  },
  "language_info": {
   "codemirror_mode": {
    "name": "ipython",
    "version": 3
   },
   "file_extension": ".py",
   "mimetype": "text/x-python",
   "name": "python",
   "nbconvert_exporter": "python",
   "pygments_lexer": "ipython3",
   "version": "3.12.9"
  },
  "toc-autonumbering": false
 },
 "nbformat": 4,
 "nbformat_minor": 5
}
