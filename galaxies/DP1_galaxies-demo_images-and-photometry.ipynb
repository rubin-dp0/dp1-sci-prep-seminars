{
 "cells": [
  {
   "cell_type": "markdown",
   "id": "749b0ddf",
   "metadata": {
    "tags": []
   },
   "source": [
    "<img align=\"left\" src = https://noirlab.edu/public/media/archives/logos/svg/logo250.svg width=250 style=\"background-color:white; padding:10px\" alt=\"Rubin Observatory logo, a graphical representation of turning stars into data.\">\n",
    "<br>\n",
    "Contact author(s): Christina Williams, Douglas Tucker <br>\n",
    "Last verified to run: 2025-07-15 <br>\n",
    "LSST Science Pipelines version: r29.1.1 <br>\n",
    "Container Size: medium <br>\n",
    "Targeted learning level: beginner <br>"
   ]
  },
  {
   "cell_type": "markdown",
   "id": "2963cbac-4ecd-4694-bea3-c111f527e51b",
   "metadata": {},
   "source": [
    "**Description:** Explore the LSST Pipeline data products relevant to galaxy science. Explore the available measurements of galaxy photometry produced by the LSST pipelines and their applications."
   ]
  },
  {
   "cell_type": "markdown",
   "id": "80a0baf5-51ad-40ec-8991-060a7b27c289",
   "metadata": {},
   "source": [
    "**Skills:** Basic understanding of photometric measurement methods typically used to characterize galaxies."
   ]
  },
  {
   "cell_type": "markdown",
   "id": "393da88f-7978-4920-aa4a-a9830df6eed9",
   "metadata": {},
   "source": [
    "**LSST Data Products:** deepCoadd, objectTable"
   ]
  },
  {
   "cell_type": "markdown",
   "id": "5c67fab9-136a-4adc-bb42-142b91ab69dd",
   "metadata": {},
   "source": [
    "**Packages:** `lsst.afw`, `lsst.daf`, `lsst.rsp`, `lsst.geom`, `lsst.sphgeom`, `lsst.gauss2d`, `astropy`, `photutils`, `pyvo`, `galsim`"
   ]
  },
  {
   "cell_type": "markdown",
   "id": "8f72b27f",
   "metadata": {},
   "source": [
    "**Credit:**\n",
    "This notebook includes selections of DP0.2 tutorial notebook 03a (image display and manipulation) and DP1 tutorial notebook 303.1 (galaxy photometry). "
   ]
  },
  {
   "cell_type": "markdown",
   "id": "28e91cbf-ab7f-4e26-9276-b00299d6065e",
   "metadata": {},
   "source": [
    "**Get Support:**\n",
    "Find DP1-related documentation and resources at <a href=\"https://dp1.lsst.io\">dp1.lsst.io</a>.\n",
    "Questions are welcome as new topics in the \n",
    "<a href=\"https://community.lsst.org/c/support/dp1\">Support - Data Preview 1 Category</a> \n",
    "of the Rubin Community Forum. \n",
    "Rubin staff will respond to all questions posted there."
   ]
  },
  {
   "cell_type": "markdown",
   "id": "cfc73be0",
   "metadata": {},
   "source": [
    "# 1. Introduction\n",
    "\n",
    "This tutorial will overview some data products produced by the LSST pipeline with applications for galaxy science. Section 2 will overview the data products (deepCoadd images, how to access them, and some simple image display and manipulation) and the catalog of objects that made from detections found in those coadds (the objectTable). Section 3 will then overview some of the photometry and shape measurements that are produced of galaxies in deepCoadds.\n"
   ]
  },
  {
   "cell_type": "markdown",
   "id": "dc36f107",
   "metadata": {},
   "source": [
    "## 1.1 Import packages\n"
   ]
  },
  {
   "cell_type": "markdown",
   "id": "ccb4fe61-835a-47ac-a691-e086ce766e79",
   "metadata": {},
   "source": [
    "`numpy` is a fundamental package for scientific computing with arrays in Python\n",
    "(<a href=\"https://numpy.org\">numpy.org</a>).\n",
    "\n",
    "`matplotlib` is a comprehensive library for creating static, animated, and\n",
    "interactive visualizations in Python \n",
    "(<a href=\"https://matplotlib.org/\">matplotlib.org</a>; \n",
    "<a href=\"https://matplotlib.org/stable/gallery/index.html\">matplotlib gallery</a>).\n",
    "\n",
    "From the `lsst` package, modules for accessing the TAP service, and image display functions from `afw` are imported (<a href=\"https://pipelines.lsst.io/\">pipelines.lsst.io</a>). Also import some geometric functions to help plot photometric apertures.\n",
    "\n",
    "From the `pyvo` package, import some functions that will enable using the image cutout tool.\n",
    "\n",
    "Finally, from `astropy` and `photutils` import packages to enable plotting images and drawing shapes on images with WCS information. Also import `galsim` which is the galaxy simulation package, which was used to build the DP0.2 simulated images, and is useful for reconstructing the sersic profiles that are used to model the galaxies in Rubin images."
   ]
  },
  {
   "cell_type": "code",
   "execution_count": null,
   "id": "2dbc75bd-a802-4576-8628-4e0088942303",
   "metadata": {},
   "outputs": [],
   "source": [
    "import numpy as np\n",
    "import matplotlib.pyplot as plt\n",
    "\n",
    "import lsst.afw.display as afwDisplay\n",
    "from lsst.afw.image import ExposureF\n",
    "import lsst.afw.geom.ellipses as ellipses\n",
    "from lsst.afw.fits import MemFileManager\n",
    "\n",
    "from lsst.rsp import get_tap_service\n",
    "from lsst.rsp.utils import get_pyvo_auth\n",
    "from lsst.rsp.service import get_siav2_service\n",
    "from lsst.daf.butler import Butler\n",
    "\n",
    "import lsst.geom as geom\n",
    "import lsst.sphgeom as sphgeom\n",
    "from lsst.gauss2d import Ellipse, EllipseMajor\n",
    "\n",
    "from pyvo.dal.adhoc import DatalinkResults, SodaQuery\n",
    "\n",
    "from astropy import units as u\n",
    "from astropy.coordinates import SkyCoord\n",
    "from astropy.wcs import WCS\n",
    "\n",
    "from photutils.aperture import SkyCircularAperture, SkyEllipticalAperture\n",
    "\n",
    "import galsim as gs"
   ]
  },
  {
   "cell_type": "markdown",
   "id": "c217adff-25ed-4fce-95e7-8aa04630f6cc",
   "metadata": {},
   "source": [
    "## 1.2 Define functions and parameters\n",
    "\n",
    "\n",
    "### 1.2.1 Define plot defaults"
   ]
  },
  {
   "cell_type": "code",
   "execution_count": null,
   "id": "0d2ecffa-a837-4d10-be95-616c95fda15f",
   "metadata": {},
   "outputs": [],
   "source": [
    "afwDisplay.setDefaultBackend('matplotlib')\n",
    "\n",
    "plt.style.use('tableau-colorblind10')\n"
   ]
  },
  {
   "cell_type": "markdown",
   "id": "30e18bb8-9839-4961-b4f5-fa9d76a0cf7e",
   "metadata": {},
   "source": [
    "### 1.2.2 Instantiate the Butler\n",
    "\n",
    "Instantiate the Butler, and assert that it exists."
   ]
  },
  {
   "cell_type": "code",
   "execution_count": null,
   "id": "61fe2c71-2684-483f-aa0d-5cb0d77bd758",
   "metadata": {},
   "outputs": [],
   "source": [
    "butler = Butler('dp1', collections=\"LSSTComCam/DP1\")\n",
    "assert butler is not None"
   ]
  },
  {
   "cell_type": "markdown",
   "id": "115aa33f-f2af-4ab4-9855-994cdfe8a11b",
   "metadata": {
    "execution": {
     "iopub.execute_input": "2025-07-18T20:53:24.147681Z",
     "iopub.status.busy": "2025-07-18T20:53:24.147468Z",
     "iopub.status.idle": "2025-07-18T20:53:24.153567Z",
     "shell.execute_reply": "2025-07-18T20:53:24.151939Z",
     "shell.execute_reply.started": "2025-07-18T20:53:24.147662Z"
    }
   },
   "source": [
    "### 1.2.3 Initialize the TAP service\n",
    "Get an instance of the TAP service, and assert that it exists."
   ]
  },
  {
   "cell_type": "code",
   "execution_count": null,
   "id": "4b95392a-c796-4b54-b72f-11a29696193f",
   "metadata": {},
   "outputs": [],
   "source": [
    "service = get_tap_service(\"tap\")\n",
    "assert service is not None"
   ]
  },
  {
   "cell_type": "markdown",
   "id": "5e6352ac-09dd-4be0-bff3-379860c12a69",
   "metadata": {},
   "source": [
    "### 1.2.4 Image cutout function\n",
    "Define a function to generate an image cutout, using the Rubin image cutout service. Further information about the cutout tool can be found in DP1 tutorial notebook 103.4 that demonstrates the Rubin image cutout service. "
   ]
  },
  {
   "cell_type": "code",
   "execution_count": null,
   "id": "0d988b48-af2f-4de0-9fca-e5666306f2e9",
   "metadata": {},
   "outputs": [],
   "source": [
    "def make_image_cutout(ra, dec, cutout_size=0.01):\n",
    "    \"\"\"\n",
    "    Wrapper function to generate a cutout using the cutout tool\n",
    "\n",
    "    Parameters\n",
    "    ----------\n",
    "    tap_service : an instance of the TAP service\n",
    "    ra, dec : 'float'\n",
    "        the ra and dec of the cutout center\n",
    "    cutout_size : 'float', optional\n",
    "        edge length in degrees of the cutout\n",
    "\n",
    "    Returns\n",
    "    -------\n",
    "    mem : 'object'\n",
    "        An lsst.afw.fits._fits.MemFileManager object containing the\n",
    "        cutout image bytes returned by the cutout tool. The\n",
    "        cutout image bytes can be accessed as an LSST awf image\n",
    "        exposure class format such as: cutout = ExposureF(mem)\n",
    "    \"\"\"\n",
    "    service = get_siav2_service(\"dp1\")\n",
    "    spherePoint = geom.SpherePoint(ra*geom.degrees, dec*geom.degrees)\n",
    "\n",
    "    circle = (ra, dec, cutout_size)\n",
    "    results = service.search(pos=circle, calib_level=3)\n",
    "    table = results.to_table()\n",
    "    tx = np.where((table['dataproduct_subtype'] == 'lsst.deep_coadd')\n",
    "                  & (table['lsst_band'] == 'r'))[0]\n",
    "\n",
    "    datalink_url = results[tx[0].item()].access_url\n",
    "    dl = DatalinkResults.from_result_url(datalink_url, session=get_pyvo_auth())\n",
    "\n",
    "    sq = SodaQuery.from_resource(dl,\n",
    "                                 dl.get_adhocservice_by_id(\"cutout-sync\"),\n",
    "                                 session=get_pyvo_auth())\n",
    "\n",
    "    sq.circle = (spherePoint.getRa().asDegrees() * u.deg,\n",
    "                 spherePoint.getDec().asDegrees() * u.deg,\n",
    "                 cutout_size * u.deg)\n",
    "    cutout_bytes = sq.execute_stream().read()\n",
    "    mem = MemFileManager(len(cutout_bytes))\n",
    "    mem.setData(cutout_bytes, len(cutout_bytes))\n",
    "\n",
    "    return mem"
   ]
  },
  {
   "cell_type": "markdown",
   "id": "29e07262-129e-4714-abff-94cfd5d2216d",
   "metadata": {},
   "source": [
    "# 2. Data Products relevant for galaxies\n",
    "\n",
    "## 2.1  `deepCoadd` images\n",
    "\n",
    "This section will examine coadded images made up of multiple exposures that are combined over the course of the LSST survey, and demonstrate some simple display and manipulation. \n",
    "\n",
    "Start by grabbing a `deepCoadd` image, which is a full 4k x 4k pixel coadd \"patch\". Retrieve the image using the butler, using an RA and dec. Choose coordinates in the Extended Chandra Deep Field South (ECDFS), a famous extragalactic deep field that was a target in DP1. It is the deepest 6-filter DP1 imaging. Then display using the LSST pipeline package afwDisplay."
   ]
  },
  {
   "cell_type": "code",
   "execution_count": null,
   "id": "dc17e9ec-ae5d-4ffc-9b4f-5bacc4d6f456",
   "metadata": {
    "tags": []
   },
   "outputs": [],
   "source": [
    "ECDFS_ra = 53.2\n",
    "ECDFS_dec = -28.1\n",
    "\n",
    "radius = 0.1\n",
    "region = sphgeom.Region.from_ivoa_pos(f\"CIRCLE {ECDFS_ra} {ECDFS_dec} {radius}\")\n",
    "\n",
    "coadd_datasetrefs = butler.query_datasets(\"deep_coadd\",\n",
    "                                          where=\"patch.region OVERLAPS region AND band='r'\",\n",
    "                                          bind={\"region\": region},\n",
    "                                          with_dimension_records=True,\n",
    "                                          order_by=[\"patch.tract\"])\n",
    "\n",
    "coadd = butler.get(coadd_datasetrefs[0])"
   ]
  },
  {
   "cell_type": "code",
   "execution_count": null,
   "id": "fd9e3c4d-e859-4532-bd6d-ce591ec2f073",
   "metadata": {
    "tags": []
   },
   "outputs": [],
   "source": [
    "fig, ax = plt.subplots()\n",
    "display = afwDisplay.Display(frame=fig)\n",
    "display.scale('asinh', 'zscale')\n",
    "display.mtv(coadd.image)\n",
    "plt.show()\n"
   ]
  },
  {
   "cell_type": "markdown",
   "id": "1595f646-3c9c-43db-9f5d-406769ef647a",
   "metadata": {},
   "source": [
    "> Figure 1: A `deepCoadd` patch image of the ECDFS field.\n",
    "\n",
    "The following cell demonstrates how to retrieve the world coordinate system (WCS) information."
   ]
  },
  {
   "cell_type": "code",
   "execution_count": null,
   "id": "b64234c8-3867-4996-b0d3-26e39633fe71",
   "metadata": {
    "tags": []
   },
   "outputs": [],
   "source": [
    "wcs = coadd.getWcs()\n",
    "print(wcs)"
   ]
  },
  {
   "cell_type": "markdown",
   "id": "f496ded2-5984-48f5-bf41-6bbcc27eb2dc",
   "metadata": {},
   "source": [
    "Grab a small cutout of the coadded image at the location of the ECDFS region covering the Hubble Ultra Deep Field (HUDF) to explore further. To do this, use the function `make_image_cutout` which is defined at the beginning of the notebook. This function extracts a cutout from a deep coadd image at a given RA, Dec position and desired image size, using the Rubin image cutout service."
   ]
  },
  {
   "cell_type": "code",
   "execution_count": null,
   "id": "2e1db878-af9c-44c1-a16f-03ec55e47435",
   "metadata": {
    "tags": []
   },
   "outputs": [],
   "source": [
    "HUDF_RA = 53.159\n",
    "HUDF_dec = -27.781\n",
    "\n",
    "mem = make_image_cutout(HUDF_RA, HUDF_dec, cutout_size=0.05)\n",
    "\n",
    "cutout_image = ExposureF(mem)\n",
    "print(\"The size of the cutout in pixels is: \", cutout_image.image.array.shape)\n"
   ]
  },
  {
   "cell_type": "code",
   "execution_count": null,
   "id": "c95d43d8-4bf9-461d-9d99-06afe5d3d1a3",
   "metadata": {},
   "outputs": [],
   "source": [
    "fig, ax = plt.subplots()\n",
    "display = afwDisplay.Display(frame=fig)\n",
    "display.scale('asinh', 'zscale')\n",
    "display.mtv(cutout_image.image)\n",
    "plt.show()"
   ]
  },
  {
   "cell_type": "markdown",
   "id": "389d42fe-fdb8-4326-a2db-1536c98a73b8",
   "metadata": {},
   "source": [
    "> Figure 2: A cutout of a `deepCoadd` image, centered at the region of ECDFS that is overlapping the Hubble Ultra Deep Field."
   ]
  },
  {
   "cell_type": "markdown",
   "id": "6f66a311-3a04-4d06-8cff-4948ff3e174f",
   "metadata": {},
   "source": [
    "## 2.2 The objectTable\n",
    "\n",
    "The `objectTable` is the catalog of static objects that are detected with S/N > 5 from the `deepCoadd` images by the LSST Science Pipelines. This section will look at the galaxies in the `objectTable` that was extracted from this specific image. \n",
    "The TAP service is the recommended way to retrieve catalog data for a notebook, and there are examples on how to do this in [DP1 tutorials](https://github.com/lsst/tutorial-notebooks/tree/main/DP1).\n",
    "\n",
    "This section demonstrates how to use TAP to retrieve the catalog data within a polygon defined by the corners of the coadd image.\n",
    "\n",
    "The following cell extracts the XY values of the corners of the cutout image and converts them to RA, Dec, which are then used as spatial constraints in the query below."
   ]
  },
  {
   "cell_type": "code",
   "execution_count": null,
   "id": "5a4e6d7c-a8e1-415d-b126-402b24e36bab",
   "metadata": {
    "tags": []
   },
   "outputs": [],
   "source": [
    "wcs = cutout_image.getWcs()\n",
    "\n",
    "x0 = float(cutout_image.getX0())\n",
    "y0 = float(cutout_image.getY0())\n",
    "width = cutout_image.getWidth()\n",
    "height = cutout_image.getHeight()\n",
    "\n",
    "xcorners = [x0, x0+width, x0+width, x0]\n",
    "ycorners = [y0, y0, y0+width, y0+width]\n",
    "\n",
    "ra_corners = []\n",
    "dec_corners = []\n",
    "\n",
    "for i in range(len(xcorners)):\n",
    "    radec = wcs.pixelToSky(xcorners[i], ycorners[i])\n",
    "    ra_corners.append(radec.getRa().asDegrees())\n",
    "    dec_corners.append(radec.getDec().asDegrees())"
   ]
  },
  {
   "cell_type": "markdown",
   "id": "99f4270f-e0b4-4416-a086-09ccb0e02066",
   "metadata": {},
   "source": [
    "Create a query statement for `Objects` within the bounding box corners.\n",
    "\n",
    "> **Notice:** You may be familiar with the `BETWEEN ... AND ...` format for ADQL spatial queries, and tempted to use it here to select on RA and Dec ranges. However, the Qserv database does not know how to deal with this construction efficiently, so you are _much_ better off constructing a polygon from the corners of the image as below."
   ]
  },
  {
   "cell_type": "code",
   "execution_count": null,
   "id": "a7bc1e59-3c43-4486-bbfe-91309a7d7cfc",
   "metadata": {
    "tags": []
   },
   "outputs": [],
   "source": [
    "query = \"SELECT objectId, coord_ra, coord_dec, x, y, tract, patch \" + \\\n",
    "        \"FROM dp1.Object \" + \\\n",
    "        \"WHERE CONTAINS(POINT('ICRS', coord_ra, coord_dec), \" +\\\n",
    "        \"POLYGON('ICRS', \" + str(ra_corners[0]) + \", \" + str(dec_corners[0]) + \", \" +\\\n",
    "        str(ra_corners[1]) + \", \" + str(dec_corners[1]) + \", \" +\\\n",
    "        str(ra_corners[2]) + \", \" + str(dec_corners[2]) + \", \" +\\\n",
    "        str(ra_corners[3]) + \", \" + str(dec_corners[3]) + \")) = 1 \"\n"
   ]
  },
  {
   "cell_type": "markdown",
   "id": "c189e7be-0ba1-4ba6-8403-da1f6c783702",
   "metadata": {},
   "source": [
    "Run the query as an asynchronous job, then fetch the results."
   ]
  },
  {
   "cell_type": "code",
   "execution_count": null,
   "id": "5ea2c94c-7f8b-41ff-8af5-adc4191b0fee",
   "metadata": {},
   "outputs": [],
   "source": [
    "job = service.submit_job(query)\n",
    "job.run()\n",
    "job.wait(phases=['COMPLETED', 'ERROR'])\n",
    "print('Job phase is', job.phase)"
   ]
  },
  {
   "cell_type": "code",
   "execution_count": null,
   "id": "db82d74f-76a5-4ff7-a5ec-7426cf4c07a3",
   "metadata": {},
   "outputs": [],
   "source": [
    "results = job.fetch_result()\n",
    "print(len(results))"
   ]
  },
  {
   "cell_type": "markdown",
   "id": "75ba30f6-e6af-4a05-9558-f4e7ae7ce574",
   "metadata": {},
   "source": [
    "Convert the results to an Astropy table, then take a look at the table."
   ]
  },
  {
   "cell_type": "code",
   "execution_count": null,
   "id": "e0a03c7b-ee8b-4c83-b6b1-7174622f21cd",
   "metadata": {
    "tags": []
   },
   "outputs": [],
   "source": [
    "tab = results.to_table()"
   ]
  },
  {
   "cell_type": "markdown",
   "id": "00ecf793-24f9-4a31-af71-afd3ebf5293f",
   "metadata": {},
   "source": [
    "Display the image cutout, and overplot the sources on the image. Use display buffering to avoid re-drawing the image after each source is plotted."
   ]
  },
  {
   "cell_type": "code",
   "execution_count": null,
   "id": "adb54f60-7bd3-440c-81b7-522a5dd11e07",
   "metadata": {
    "tags": []
   },
   "outputs": [],
   "source": [
    "fig, ax = plt.subplots()\n",
    "display = afwDisplay.Display(frame=fig)\n",
    "display.scale('asinh', 'zscale')\n",
    "display.mtv(cutout_image.image)\n",
    "with display.Buffering():\n",
    "    for i in range(len(tab)):\n",
    "        display.dot('+', tab[i]['x'], tab[i]['y'], ctype=afwDisplay.RED)\n",
    "\n",
    "plt.show()\n"
   ]
  },
  {
   "cell_type": "markdown",
   "id": "e7e872b4-61f7-4246-b064-23483901b78f",
   "metadata": {},
   "source": [
    "> Figure 3: A cutout of a `deepCoadd` image, centered on the HUDF region of ECDFS, now with the location of detected galaxies from the objectTable overplotted."
   ]
  },
  {
   "cell_type": "markdown",
   "id": "ec51ac0b",
   "metadata": {
    "tags": []
   },
   "source": [
    "# 3. Integrated photometry of galaxies\n",
    "\n",
    "This section will explore integrated photometry measurements generated by the LSST pipeline, and provide some guidance for which are optimal for certain science applications using galaxies. \n",
    "\n",
    "\n",
    "Photometry is the measurement of how much light is apparent from astronomical sources. The amount of light arriving on the telescope from the object is typically referred to as the flux density, or apparent magnitude (depending on units). Flux density is defined as the amount of energy arriving on the telescope per unit area, per unit time, per unit frequency (or wavelength) of the light.\n",
    "\n",
    "The LSST Science Pipelines makes a variety of photometric measurements for point-like and extended sources. This notebook will teach the user about the automated photometry measurements that are measured on the deepCoadd images and appear in the Object Catalog as part of the LSST pipelines data products. \n",
    "\n",
    "Please note that these explanations are specific to DP1: the `objectTable` contents and definitions are still subject to change for DP2, and may be different from DP0.2. The photometry in the catalog are flux densities in units of nano-Jansky [nJy]. 1 Jy = 10^{-23} ergs/s/cm^2/Hz.\n"
   ]
  },
  {
   "cell_type": "markdown",
   "id": "f5c8ccfa-498a-406f-9cdf-e7ddc52d7a72",
   "metadata": {
    "execution": {
     "iopub.execute_input": "2024-12-02T22:37:09.704845Z",
     "iopub.status.busy": "2024-12-02T22:37:09.704072Z",
     "iopub.status.idle": "2024-12-02T22:37:10.367698Z",
     "shell.execute_reply": "2024-12-02T22:37:10.366983Z",
     "shell.execute_reply.started": "2024-12-02T22:37:09.704824Z"
    }
   },
   "source": [
    "## 3.1 Types of photometry\n",
    "\n",
    "Schema for the object catalog for DP1 <a href=\"https://sdm-schemas.lsst.io/dp1.html#Object\">is available here</a>.\n",
    "\n",
    "Numerous photometry measurements are produced by the LSST Pipelines. Two types of photometry are there. The first are total fluxes, which aim to approximate (or model) all of the light coming from objects. Measurements that approximate total flux are \"Composite Model\" (cModel) fluxes. The second class of fluxes are measured inside an on-sky aperture but not corrected for flux that may fall outside: thus they are apparent fluxes but do not recover the intrisic (total) flux (see Section 3.2 below). The apparent fluxes are optimized for other purposes, such as for measuring accurate light profiles or accurate colors.\n",
    "\n"
   ]
  },
  {
   "cell_type": "markdown",
   "id": "9547e659-fd0e-432c-af25-968cc9ebea9d",
   "metadata": {},
   "source": [
    "\n",
    "First, see what is available in the object catalog by querying the `tap_schema` columns, and printing all the parameters available related to \"Flux\" measured in the i-band (as an example). For clarity, the return also omits errors and flags associated with the photometric measurements outlined in section 1.1. "
   ]
  },
  {
   "cell_type": "code",
   "execution_count": null,
   "id": "999d12f2-b84b-4a80-a7fd-f7f111674470",
   "metadata": {},
   "outputs": [],
   "source": [
    "query = \"SELECT column_name, datatype, description, unit \" \\\n",
    "        \"FROM tap_schema.columns \" \\\n",
    "        \"WHERE table_name = 'dp1.Object'\"\n",
    "\n",
    "results = service.search(query).to_table()\n"
   ]
  },
  {
   "cell_type": "code",
   "execution_count": null,
   "id": "3c0a793b-f6b1-4e39-99a2-1fd5b26fe4ae",
   "metadata": {},
   "outputs": [],
   "source": [
    "search_string = 'Flux'\n",
    "band = 'i_'\n",
    "exclude1 = 'Err'\n",
    "exclude2 = 'flag'\n",
    "for cname in results['column_name']:\n",
    "    if cname.find(search_string) > -1 and cname.find(band) > -1 and \\\n",
    "       cname.find(exclude1) == -1 and cname.find(exclude2) == -1:\n",
    "\n",
    "        print(cname)"
   ]
  },
  {
   "cell_type": "markdown",
   "id": "caf9008d-e3aa-4908-bf32-a27cbe890a4f",
   "metadata": {},
   "source": [
    "## 3.2 Compare photometric measurements\n",
    "\n",
    "### 3.2.1 Total fluxes\n",
    "\n",
    "These are measurements that model the total light of galaxies. They are intended to be used for e.g. luminosity or mass measurements that require the full light output of the galaxy.\n",
    "\n",
    "#### Sersic fluxes\n",
    "\n",
    "This photometric measurement models all galaxies as a single Sersic profile and calculates its total flux according to the best fitting model. More information the sersic profile <a href=\"https://en.wikipedia.org/wiki/S%C3%A9rsic_profile\">is available here</a>.\n",
    "\n",
    "The best fit sersic model is evaluated based on a model to all filters, and then the flux in each filter is calculated by integrating the galaxy light from the best fit model, assuming the best-fit sersic shape parameters. \n",
    "\n",
    "```\n",
    "<f>_sersicFlux    : Flux from the final sersic fit. Forced on <f>-band.\n",
    "<f>_sersicFluxErr : Uncertainty of <f>_sersicFlux\n",
    "sersic_no_data_flag   : Failure flag for <f>_sersicFlux\n",
    "```\n",
    "\n",
    "DP1 is the first Rubin data release that contains sersic fluxes. cModel fluxes (see below) have seen more testing and been in use longer since they were included in DP0.2. The LSST pipeline package responsible for sersic fluxes is called `multiprofit` and documentation is <a href=\"https://pipelines.lsst.io/modules/lsst.multiprofit/index.html#module-lsst.multiprofit\">available here</a>.\n",
    "\n",
    "\n",
    "#### Composite Model (CModel) fluxes\n",
    "\n",
    "Similar in nature to those measured for SDSS (information <a href=\"https://www.sdss3.org/dr8/algorithms/magnitudes.php#cmodel\">available here</a>). \n",
    "\n",
    "\n",
    "In short, it is the linear combination of the best fit exponential (disk or D) and de Vaucouleurs (bulge or B) profiles. \n",
    "\n",
    "```\n",
    "<f>_cModelFlux    : Flux from the final cmodel fit. Forced on <f>-band.\n",
    "<f>_cModelFluxErr : Uncertainty of <f>_cModelFlux\n",
    "<f>_cModel_flag   : Failure flag for <f>_cModelFlux\n",
    "```\n",
    "\n",
    "For most cases the \"fixed\" cModel photometry (as listed above) are preferred to that measured with more degrees of freedom labeled `<f>_free_cModelFlux`. The difference is that the fixed ones above uses a reference band (recorded as `refBand` in the schema) where the galaxy is well detected to determine the other parameters, which are then fixed when fitting for the flux in the other bands. The `_free_cModelFlux` measurement allows all parameters to be free and independent in each filter. The fixed `_cModelFlux` measurements are generally recommended for galaxy science applications where total flux measurements are needed (e.g. for intrinsic luminosity or mass).\n",
    "\n",
    "\n",
    "\n",
    "### 3.2.2 Apparent fluxes\n",
    "\n",
    "Apparent fluxes refer to measurements that are measured but are not corrected to the total flux. These are not intended to be used for luminosity or mass measurements but can be used for color or shape analysis.\n",
    "\n",
    "#### Kron fluxes\n",
    "\n",
    "A decent summary of Kron fluxes <a href=\"https://ned.ipac.caltech.edu/level5/March05/Graham/Graham2_6.html\">in the NED documentation</a>. The aperture used for the fluxes is 2.5 x R1 where R1 is the luminosity weighted radius (also called \"first moment\"; Kron et al. 1980).\n",
    "\n",
    "```\n",
    "<f>_kronFlux      : Flux from Kron Flux algorithm. Measured on <f> g-band.\n",
    "<f>_kronFluxErr   : Uncertainty of <f>_kronFlux.\n",
    "<f>_kronFlux_flag : Failure flag for <f>_kronFlux.\n",
    "```\n",
    "\n",
    "The Kron radius, `<f>_kronRad`, is also available. In this case of LSST pipeline output, the Kron flux is not corrected for light that is emitted outside of the Kron aperture. While in many cases it will collect the majority of light, it will not be as accurate as the cModel for science cases requiring total flux.\n",
    "\n",
    "\n",
    "#### Aperture fluxes\n",
    "This contains the enclosed flux inside a given aperture (they are not corrected to total fluxes using an aperture correction that accounts for the flux falling outside the aperture). Fixed aperture size refers to the aperture radius in pixels.\n",
    "\n",
    "```\n",
    "<f>_ap<pix>Flux     : Flux within <pix>-pixel aperture. Forced on <f>-band.\n",
    "<f>_ap<pix>FluxErr  : Uncertainty of <f>_ap<pix>Flux.\n",
    "<f>_ap<pix>FluxFlag : Failure flag for <f>_ap<pix>Flux.\n",
    "```\n",
    "\n",
    "For DP1, the apertures are 3, 6, 9, 12, 17, 25, 35, 50, and 70 pixels. In the column name, apertures are `03`, `06`, `09`, `12`, and so on. While aperture fluxes are not corrected for the loss outside the aperture, if the aperture size is much larger than the galaxy size then it will approximate the total flux of the galaxy. The general application of these measurements are for measuring radial profiles.\n",
    "\n"
   ]
  },
  {
   "cell_type": "markdown",
   "id": "28ed5dd3-1875-4967-b8c8-213003da5c1e",
   "metadata": {},
   "source": [
    "\n",
    "## 3.3 Identify galaxies in ECDFS\n",
    "\n",
    "Below, query the DP1 `objectTable` for a selection of photometric measurements. This section will focus on 4 measurements: total flux from cModel (sum of bulge and disk sersic compoents fitted to the galaxy); and apparent fluxes measured as Kron (typically includes more than 90% of intrinsic light), GaaP (which is optimized for measuring accurate colors between bands), and aperture photometry (flux measured inside circles of varying size).\n",
    "\n",
    "First, focus on the center of the ECDFS. Limit the search to contain galaxies using the `i_extendedness` flag (which will exclude point sources). Further, identify objects which have been detected at high signal to noise > 20 and whose photometric measurements have not been flagged as having an issue (`i_kronFlux_flag` or `i_cModel_flag` = 0 means the photometry is ok). "
   ]
  },
  {
   "cell_type": "code",
   "execution_count": null,
   "id": "0d82dd79-a4d7-4428-a77c-1ed2bb717486",
   "metadata": {},
   "outputs": [],
   "source": [
    "query = \"SELECT obj.objectId, obj.coord_ra, obj.coord_dec, \" + \\\n",
    "        \"obj.i_blendedness, obj.i_extendedness, \" + \\\n",
    "        \"obj.i_kronFlux, obj.i_kronFluxErr, obj.i_kronRad, \" + \\\n",
    "        \"obj.i_cModelFlux, obj.i_cModelFluxErr, \" + \\\n",
    "        \"obj.i_gaap1p0Flux, obj.g_gaap1p0Flux, \" + \\\n",
    "        \"obj.sersic_index, obj.i_sersicFlux, obj.sersic_reff_x, \" + \\\n",
    "        \"obj.sersic_reff_y, obj.sersic_rho, \" + \\\n",
    "        \"obj.i_kronFlux_flag, obj.i_cModel_flag, \" + \\\n",
    "        \"obj.shape_xx, obj.shape_xy, obj.shape_yy, \" + \\\n",
    "        \"obj.i_ap06Flux, obj.i_ap09Flux, obj.i_ap12Flux, \" + \\\n",
    "        \"obj.i_ap17Flux, obj.i_ap35Flux \" + \\\n",
    "        \"FROM dp1.Object AS obj \" + \\\n",
    "        \"WHERE (obj.i_cModelFlux/obj.i_cModelFluxErr > 20) AND \" + \\\n",
    "        \"(obj.i_extendedness = 1) AND \" + \\\n",
    "        \"(obj.i_kronFlux_flag = 0) AND (obj.i_cModel_flag = 0) AND \" + \\\n",
    "        \"CONTAINS(POINT('ICRS', obj.coord_ra, obj.coord_dec), \" + \\\n",
    "        \"CIRCLE('ICRS',\"+str(ECDFS_ra)+\",\"+str(ECDFS_dec)+\", 0.1)) = 1 \""
   ]
  },
  {
   "cell_type": "code",
   "execution_count": null,
   "id": "e75ee4db-e4b9-4ff2-ba07-1f7f34a8d44b",
   "metadata": {},
   "outputs": [],
   "source": [
    "job = service.submit_job(query)\n",
    "job.run()\n",
    "job.wait(phases=['COMPLETED', 'ERROR'])\n",
    "print('Job phase is', job.phase)"
   ]
  },
  {
   "cell_type": "markdown",
   "id": "6d90ce60-2dc7-432d-bf12-1679cd43c3f3",
   "metadata": {},
   "source": [
    "Print the results of the search query."
   ]
  },
  {
   "cell_type": "code",
   "execution_count": null,
   "id": "02ea5eb7-bac9-4c9f-90e4-626a69340b41",
   "metadata": {},
   "outputs": [],
   "source": [
    "results = job.fetch_result()\n",
    "tab = results.to_table()\n",
    "tab"
   ]
  },
  {
   "cell_type": "markdown",
   "id": "e6a27a39-ed2b-49fe-ac6d-51ae4c300bfc",
   "metadata": {},
   "source": [
    "Below, store the Kron Radius, which is a good proxy for the size of the galaxy light profile. Then convert the fluxes extracted from the `objectTable` into AB magnitudes\n",
    "\n",
    "> **Warning:** The following cell will produce warnings for invalid value encountered in log10, which happens if the source flux is negative. This occasionally happens from aperture photometry if the included pixels inside the aperture have negative values and can be safely ignored for this example."
   ]
  },
  {
   "cell_type": "code",
   "execution_count": null,
   "id": "e8b4a64a-6565-4d7d-ae48-0a666c41101e",
   "metadata": {},
   "outputs": [],
   "source": [
    "i_kronRad = tab['i_kronRad']\n",
    "\n",
    "cmodel_mag = -2.50 * np.log10(tab['i_cModelFlux']) + 31.4\n",
    "sersic_mag = -2.50 * np.log10(tab['i_sersicFlux']) + 31.4\n",
    "\n",
    "ap06_mag = -2.50 * np.log10(tab['i_ap06Flux']) + 31.4\n",
    "ap09_mag = -2.50 * np.log10(tab['i_ap09Flux']) + 31.4\n",
    "ap17_mag = -2.50 * np.log10(tab['i_ap17Flux']) + 31.4\n",
    "ap12_mag = -2.50 * np.log10(tab['i_ap12Flux']) + 31.4"
   ]
  },
  {
   "attachments": {},
   "cell_type": "markdown",
   "id": "4e73d5fe-1311-4d0e-9690-0b0ae2de27d6",
   "metadata": {},
   "source": [
    "## 3.4 Visualize photometric apertures\n",
    "\n",
    "Here make a cutout of a large galaxy in the cluster and compare the photometric aperture sizes of the different photometric measurements. The cell below also demonstrates how to reconstruct the Kron aperture using the corresponding shape parameters in the `objectTable`. The position angle `theta` is defined in radians counterclockwise from the x-axis. This cell will plot for an elongated edge-on galaxy (`objectId` of 611254385447537498) to ensure that the visualization emphasizes the difference between the elliptical Kron aperture to the circular aperture. \n",
    "\n",
    "Note that the pixel scale of the LSST data is 0.2 arcseconds per pixel.\n"
   ]
  },
  {
   "cell_type": "code",
   "execution_count": null,
   "id": "965edc46-a741-4a2d-9c90-3aefa41b556b",
   "metadata": {},
   "outputs": [],
   "source": [
    "wh = np.where((tab['objectId'] == 611254385447537498))[0]\n",
    "indx = 0\n",
    "\n",
    "arcsec_per_pix = 0.2"
   ]
  },
  {
   "cell_type": "markdown",
   "id": "76ebca00-f223-49e6-8ed3-056ba69cd687",
   "metadata": {},
   "source": [
    "In the next cell, use `objectTable` shape parameters to reconstruct the Kron shape. The method of the Kron implementation in the LSST pipelines is parameterized by three shape parameters `shape_xx`, `shape_yy`, and `shape_xy`, which must be converted using LSST package `ellipses`. The cell below will demonstrate how to extract the more commonly used semi-major and semi-minor axes (`Rmaj`, `Rmin`) and the rotation angle `theta`. The Kron Radius `kronRad` is defined as sqrt(Rmaj * Rmin). "
   ]
  },
  {
   "cell_type": "code",
   "execution_count": null,
   "id": "be685c80-88bb-43f6-80c1-cda7436ba276",
   "metadata": {},
   "outputs": [],
   "source": [
    "axes = ellipses.Axes(ellipses.Quadrupole(tab['shape_xx'][wh][indx],\n",
    "                                         tab['shape_yy'][wh][indx],\n",
    "                                         tab['shape_xy'][wh][indx]))\n",
    "Rmaj = axes.getA()\n",
    "Rmin = axes.getB()\n",
    "theta = axes.getTheta()"
   ]
  },
  {
   "cell_type": "markdown",
   "id": "d77dfe54-4d1d-40f5-a626-a31f63ef064c",
   "metadata": {},
   "source": [
    "Generate an image cutout."
   ]
  },
  {
   "cell_type": "code",
   "execution_count": null,
   "id": "54b3366b-2b9e-49b6-8f26-efc8d759ff93",
   "metadata": {},
   "outputs": [],
   "source": [
    "mem = make_image_cutout(tab['coord_ra'][wh][indx],\n",
    "                        tab['coord_dec'][wh][indx], cutout_size=0.005)\n",
    "\n",
    "cutout = ExposureF(mem)"
   ]
  },
  {
   "cell_type": "markdown",
   "id": "bff5faf0-18f5-4999-a5e6-1621556633b8",
   "metadata": {},
   "source": [
    "Plot the cutout and overplot the various shapes and apertures."
   ]
  },
  {
   "cell_type": "code",
   "execution_count": null,
   "id": "11fbb88b-2fc5-4c4b-9459-a69284e80c3e",
   "metadata": {},
   "outputs": [],
   "source": [
    "plt.subplot(projection=WCS(cutout.getWcs().getFitsMetadata()))\n",
    "extent = (cutout.getBBox().beginX, cutout.getBBox().endX,\n",
    "          cutout.getBBox().beginY, cutout.getBBox().endY)\n",
    "\n",
    "plt.imshow(cutout.image.array, extent=extent,\n",
    "           origin='lower', cmap='gray')\n",
    "\n",
    "coord = SkyCoord(ra=tab['coord_ra'][wh][indx]*u.degree,\n",
    "                 dec=tab['coord_dec'][wh][indx]*u.degree, frame='icrs')\n",
    "\n",
    "aperture = SkyCircularAperture(coord, r=17 * arcsec_per_pix * u.arcsec)\n",
    "pix_aperture = aperture.to_pixel(WCS(cutout.getWcs().getFitsMetadata()))\n",
    "pix_aperture.plot(color='r', lw=3, label='17 pixel aperture')\n",
    "\n",
    "aperture = SkyCircularAperture(coord, r=35 * arcsec_per_pix * u.arcsec)\n",
    "pix_aperture = aperture.to_pixel(WCS(cutout.getWcs().getFitsMetadata()))\n",
    "pix_aperture.plot(color='g', lw=3, label='35 pixel aperture')\n",
    "\n",
    "aperture = SkyEllipticalAperture(coord,\n",
    "                                 2.5 * Rmaj * arcsec_per_pix * u.arcsec,\n",
    "                                 2.5 * Rmin * arcsec_per_pix * u.arcsec,\n",
    "                                 theta=(np.pi/2 + theta) * u.rad)\n",
    "\n",
    "pix_aperture = aperture.to_pixel(WCS(cutout.getWcs().getFitsMetadata()))\n",
    "pix_aperture.plot(color='b', lw=3, label='Kron')\n",
    "plt.legend()"
   ]
  },
  {
   "cell_type": "markdown",
   "id": "9d6643bb-6531-4b4d-bc05-e823e0558964",
   "metadata": {},
   "source": [
    "> Figure 4: An i-band image cutout of an example galaxy (grayscale). The photometric apertures are overplotted including Kron (blue), the 17 pixel aperture (red) and the 35 pixel aperture (green). None of the apertures enclose all of the flux visible from the galaxy, which is why the photometry measures less flux than the total flux from cModel."
   ]
  },
  {
   "cell_type": "markdown",
   "id": "63e08dcc-64b8-48b5-9783-0cd010f201ab",
   "metadata": {},
   "source": [
    "The above figure shows more clearly that there is some fraction of the galaxy's light excluded by each of these photometric apertures. Further, printing the different photometry measurements illustrates how these assumed apertures will change the measured flux (compared to the total flux measured by cModel, which approximates the total magnitude using sersic models for the light profile).  "
   ]
  },
  {
   "cell_type": "markdown",
   "id": "05b4cef5-1ad8-400f-a944-d46e93de2f34",
   "metadata": {},
   "source": [
    "## 3.5 Build a sersic model\n",
    "\n",
    "The sersic model used to measure `sersicFlux` in the `objectTable` can be reconstructed using the sersic shape parameters. These include the `sersic_reff_x` and `sersic_reff_y` which are the effective radii (along the x- and y-axis) from the multiband Sersic model fit, prior to convolution with the point spread function (PSF); `sersic_rho` which is the correlation coefficient from the multiband Sersic model fit. These can be converted to the more commonly used axis ratio `ba` (ratio of semi-major and semi-minor axes), the position angle `pa` which indicates the rotation counter clockwise with respect to the x-axis. \n"
   ]
  },
  {
   "cell_type": "code",
   "execution_count": null,
   "id": "2432cf67-5ee2-42eb-9ab1-04874cdcadee",
   "metadata": {},
   "outputs": [],
   "source": [
    "x = EllipseMajor(Ellipse(sigma_x=tab['sersic_reff_x'][wh][indx],\n",
    "                         sigma_y=tab['sersic_reff_y'][wh][indx],\n",
    "                         rho=tab['sersic_rho'][wh][indx]), degrees=True)\n",
    "ba = x.axrat\n",
    "pa = x.angle\n",
    "r_major = x.r_major * arcsec_per_pix\n"
   ]
  },
  {
   "cell_type": "markdown",
   "id": "0be56d7f-5f2c-493e-aa33-0020c9cc3dd7",
   "metadata": {},
   "source": [
    "The next cell will use `galsim` `Sersic` function to create a 2D sersic model of the galaxy. Finally, the `sersic_index` which indicates the shape of the light profile is used in addition to the ellipse parameters retrieved in the cell above."
   ]
  },
  {
   "cell_type": "code",
   "execution_count": null,
   "id": "a615c25c-a520-4d06-b944-0bf1981346ec",
   "metadata": {},
   "outputs": [],
   "source": [
    "sersic = gs.Sersic(n=tab['sersic_index'][wh][indx], half_light_radius=r_major*np.sqrt(ba),\n",
    "                   flux=tab['i_sersicFlux'][wh][indx]).shear(q=ba, beta=pa*gs.degrees)\n",
    "\n",
    "img = sersic.drawImage(nx=50, ny=50, method=\"real_space\", scale=arcsec_per_pix).array\n",
    "\n",
    "print('Total flux of model = ', np.sum(img),\n",
    "      ' which equals flux from objectTable = ',\n",
    "      tab['i_sersicFlux'][wh][indx])\n",
    "\n",
    "fig, ax = plt.subplots()\n",
    "im = ax.imshow(img, origin='lower', interpolation='nearest', vmin=0.01, vmax=101)\n",
    "\n",
    "plt.xlabel('x')\n",
    "plt.ylabel('y')\n",
    "plt.show()"
   ]
  },
  {
   "cell_type": "markdown",
   "id": "db70c409-8655-4cc6-aa04-45295b9a68bf",
   "metadata": {},
   "source": [
    "> Figure 5: The best fit Sersic model of the galaxy in Figure 4 that was used to measure `sersicFlux` of the galaxy. "
   ]
  },
  {
   "cell_type": "markdown",
   "id": "85f65eb7-c0c6-45bf-8ff4-4e73b5e9e075",
   "metadata": {},
   "source": [
    "## 3.6 Compare aperture to total fluxes\n",
    "\n",
    "This section will make several plots that shows how the different photometric measurements compare. Note that cModel is the total flux integrated from a model fit to the galaxy light profile, while aperture photometry are measures of light within a fixed aperture.  \n",
    "\n",
    "### 3.6.1 Aperture photometry\n",
    "\n",
    "Generally, magnitudes measured using aperture photometry in the LSST pipeline are larger (i.e. fainter) than those measured from cModel, becuase the fixed circular aperture systematically underestimates the flux in the galaxy wings (and the lost flux increases as the intrinsic size of the galaxy increases, e.g. as traced by the Kron radius)."
   ]
  },
  {
   "cell_type": "code",
   "execution_count": null,
   "id": "d72bd736-3fb0-40b6-a607-a583ab4773ea",
   "metadata": {},
   "outputs": [],
   "source": [
    "fig, (ax, ax2) = plt.subplots(ncols=2, nrows=1,\n",
    "                              width_ratios=[0.8, 0.2], figsize=(10, 6))\n",
    "\n",
    "ylims = [-1.5, 1.5]\n",
    "ax.plot(i_kronRad, (cmodel_mag-ap06_mag), '^', alpha=.3,\n",
    "        label='6-pixel aperture', color='red')\n",
    "ax.plot(i_kronRad, (cmodel_mag-ap09_mag), 's', alpha=.3,\n",
    "        label='9-pixel aperture', color='orange')\n",
    "ax.plot(i_kronRad, (cmodel_mag-ap12_mag), 'o', alpha=.3,\n",
    "        label='12-pixel aperture', color='green')\n",
    "ax.plot(i_kronRad, (cmodel_mag-ap17_mag), '.', alpha=.3,\n",
    "        label='17-pixel aperture', color='blue')\n",
    "\n",
    "ax2.hist((cmodel_mag-ap17_mag), edgecolor='blue', orientation=\"horizontal\",\n",
    "         bins=np.linspace(ylims[0], ylims[1], 40), align='mid',\n",
    "         histtype=\"step\", stacked=True, fill=False)\n",
    "ax2.hist((cmodel_mag-ap12_mag), edgecolor='green', orientation=\"horizontal\",\n",
    "         bins=np.linspace(ylims[0], ylims[1], 40), align='mid',\n",
    "         histtype=\"step\", stacked=True, fill=False)\n",
    "ax2.hist((cmodel_mag-ap09_mag), edgecolor='orange', orientation=\"horizontal\",\n",
    "         bins=np.linspace(ylims[0], ylims[1], 40), align='mid',\n",
    "         histtype=\"step\", stacked=True, fill=False)\n",
    "ax2.hist((cmodel_mag-ap06_mag), edgecolor='red', orientation=\"horizontal\",\n",
    "         bins=np.linspace(ylims[0], ylims[1], 40), align='mid',\n",
    "         histtype=\"step\", stacked=True, fill=False)\n",
    "\n",
    "ax2.set_ylim(ylims)\n",
    "ax.axhline(0, linestyle='--')\n",
    "ax.set_xlabel('Kron Radius [i-band; pixels]')\n",
    "ax.set_ylabel('cModel mag - Aperture mag')\n",
    "ax.set_ylim(ylims)\n",
    "ax.set_xlim([2, 10])\n",
    "ax.legend()\n"
   ]
  },
  {
   "cell_type": "markdown",
   "id": "0e6cc869-a275-48b0-9ac8-febec0428e07",
   "metadata": {},
   "source": [
    "> Figure 6: A comparison of the difference between cModel photometry and aperture photometry measured by the LSST pipelines for four different aperture sizes as a function of galaxy size (as measured using the Kron radius). The left panel shows the scatter plot of difference in photometry vs Kron radius, and the right panel shows a histogram of these values that demonstrate that larger aperture sizes have photometry that is closer to the cModel."
   ]
  },
  {
   "cell_type": "markdown",
   "id": "cef81cea-b352-4196-a4d0-c5b4ad80bd00",
   "metadata": {},
   "source": [
    "This figure shows that the aperture photometry typically under-estimates the flux relative to the total flux estimated using cModel. As expected, there is a general trend that using larger apertures gets closer to the total flux from cModel, for larger galaxies (i.e. whose Kron Radius is larger). \n"
   ]
  },
  {
   "cell_type": "markdown",
   "id": "ec25172d-0f22-41c0-8b40-5bd1bc4133eb",
   "metadata": {},
   "source": [
    "# 4. Science application: galaxy colors\n",
    "\n",
    "This section demonstrates using GaaP photometry to calculate accurate galaxy colors to identify different types of galaxies. \n",
    "\n",
    "#### GaaP fluxes\n",
    "\n",
    "These are optimized for measuring accurate colors between bands (the Gaussian-aperture-and-PSF flux, defined in <a href=\"https://ui.adsabs.harvard.edu/abs/2008A%26A...482.1053K/abstract\">Kuijken et al. 2008</a>). The main goal of this method is to measure accurate colors while accounting for the different spatial resolution between filters. This is sometimes achieved in other datasets by convolving all images to the largest PSF, but this process of PSF-matching is computationally very time consuming for large images, thus motivating GaaP as a faster alternative. It is not a measure of total flux in a filter. Several measurement apertures are available. \n",
    "\n",
    "**Aperture**\n",
    "\n",
    "```\n",
    "<f>_gaap<ap>Flux    : GaaP flux with <ap> aperture after multiplying the seeing aperture. Forced on <f>-band.\n",
    "<f>_gaap<ap>FluxErr : Uncertainty of <f>_gaap<ap>Flux.\n",
    "```\n",
    "\n",
    "Where the measurement apertures are 0.5, 0.7, 1.0, 1.5, 2.5, and 3.0 arcseconds. In the column name `<ap>` appears as `0p5`, `0p7`, etc. Multiplying by the \"seeing aperture\" refers to convolving the PSF with a kernel so that the PSF is as if the seeing were 1.15 arcseconds. This has the effect of smearing the images of all filters consistently so that the colors are accurate.\n",
    "\n",
    "For photometric redshifts, and other analysis where accurate colors are important, it is recommended to start with the GaaP fluxes with 1.0 aperture (optimal aperture was found to not perform as well, and should not be used). The largest aperture `gaap3p0` might work better for larger galaxies, but `gaap1p0` has better overall performance. Experiment yourself to see how it works for your science case.\n",
    "\n",
    "\n"
   ]
  },
  {
   "cell_type": "markdown",
   "id": "a3d61021-716e-49d6-b8bd-00f016902304",
   "metadata": {},
   "source": [
    "## 4.1 Identify cluster galaxies\n",
    "\n",
    "In galaxy clusters, galaxies tend to be old, red elliptical galaxies and thus exhibit a well defined red sequence in color space, while field environments (e.g. the ECDFS region), the galaxy population is typically dominated by bluer star forming galaxies. \n",
    "\n",
    "In the cell below, query for a second sample of galaxies that live in a galaxy cluster. The Abell 360 cluster sits inside one of the DP1 footprints, so we will search for galaxies around that cluster.\n"
   ]
  },
  {
   "cell_type": "code",
   "execution_count": null,
   "id": "2526bac6-67a5-4836-b910-6f64052fa205",
   "metadata": {},
   "outputs": [],
   "source": [
    "cluster_RA = 37.83\n",
    "cluster_dec = 6.98\n",
    "\n",
    "query = \"SELECT obj.objectId, obj.coord_ra, obj.coord_dec, \" + \\\n",
    "        \"obj.i_blendedness, obj.i_extendedness, \" + \\\n",
    "        \"obj.i_cModelFlux, obj.i_cModelFluxErr, \" + \\\n",
    "        \"obj.g_gaap1p0Flux, obj.i_gaap1p0Flux, \" + \\\n",
    "        \"obj.i_kronFlux_flag, obj.i_cModel_flag \" + \\\n",
    "        \"FROM dp1.Object AS obj \" + \\\n",
    "        \"WHERE (obj.i_cModelFlux/obj.i_cModelFluxErr > 20) AND \" + \\\n",
    "        \"(obj.i_extendedness = 1) AND \" + \\\n",
    "        \"(obj.i_kronFlux_flag = 0) AND (obj.i_cModel_flag = 0) AND \" + \\\n",
    "        \"CONTAINS(POINT('ICRS', obj.coord_ra, obj.coord_dec), \" + \\\n",
    "        \"CIRCLE('ICRS',\"+str(cluster_RA)+\",\"+str(cluster_dec)+\", 0.1)) = 1 \"\n"
   ]
  },
  {
   "cell_type": "code",
   "execution_count": null,
   "id": "6b786028-8acb-4168-890f-524ff5f3bcf8",
   "metadata": {},
   "outputs": [],
   "source": [
    "job = service.submit_job(query)\n",
    "job.run()\n",
    "job.wait(phases=['COMPLETED', 'ERROR'])\n",
    "print('Job phase is', job.phase)\n"
   ]
  },
  {
   "cell_type": "code",
   "execution_count": null,
   "id": "f2e646df-7824-4be8-aecf-63dc10629205",
   "metadata": {},
   "outputs": [],
   "source": [
    "results = job.fetch_result()\n",
    "tab2 = results.to_table()\n"
   ]
  },
  {
   "cell_type": "markdown",
   "id": "f5bcc8d3-3607-492f-93d2-79f239321307",
   "metadata": {},
   "source": [
    "\n",
    "First, calculate the g, r, i magnitudes of galaxies in the galaxy cluster, and also for other filters not used yet (g, r) from a 'field' environment (use the ECDFS galaxies from the query performed in Section 2). This will enable plotting a comparison of their colors, which is performed in the second cell below.\n",
    "\n",
    "> **Warning:** Like in Section 2.3, the following cell will produce warnings for invalid value encountered in log10, which happens if the source flux is negative. This happens for a small number of objects and since the goal of the plot is to see the distribution of the majority of sources, the warning can be safely ignored. "
   ]
  },
  {
   "cell_type": "code",
   "execution_count": null,
   "id": "6e1be2f4-74b1-4d73-87bd-fb6d08d2a6c2",
   "metadata": {},
   "outputs": [],
   "source": [
    "i_cluster_gaap_mag = -2.50 * np.log10(tab2['i_gaap1p0Flux']) + 31.4\n",
    "g_cluster_gaap_mag = -2.50 * np.log10(tab2['g_gaap1p0Flux']) + 31.4\n",
    "\n",
    "i_ECDFS_gaap_mag = -2.50 * np.log10(tab['i_gaap1p0Flux']) + 31.4\n",
    "g_ECDFS_gaap_mag = -2.50 * np.log10(tab['g_gaap1p0Flux']) + 31.4\n"
   ]
  },
  {
   "cell_type": "code",
   "execution_count": null,
   "id": "6d53c736-3a5a-4390-9aaf-0c748e4fa08a",
   "metadata": {},
   "outputs": [],
   "source": [
    "fig, (ax, ax1) = plt.subplots(ncols=1, nrows=2, figsize=(10, 6))\n",
    "\n",
    "ax.plot(i_cluster_gaap_mag, (g_cluster_gaap_mag-i_cluster_gaap_mag),\n",
    "        '.', alpha=.1, color='r', label='Cluster A360 Galaxies')\n",
    "ax.set_xlabel('i-band Magnitude [GaaP]')\n",
    "ax.set_ylabel('g-i color')\n",
    "ax.set_ylim([-1, 4])\n",
    "ax.legend()\n",
    "\n",
    "ax1.plot(i_ECDFS_gaap_mag, (g_ECDFS_gaap_mag-i_ECDFS_gaap_mag),\n",
    "         '.', alpha=.1, color='b', label='Field ECDFS Galaxies')\n",
    "ax1.set_xlabel('i-band Magnitude [GaaP]')\n",
    "ax1.set_ylabel('g-i color')\n",
    "ax1.set_ylim([-1, 4])\n",
    "ax1.legend()"
   ]
  },
  {
   "cell_type": "markdown",
   "id": "07a4487a-b8d6-4e1c-bbb7-045175c2928a",
   "metadata": {},
   "source": [
    "> Figure 7: Color magnitude diagram constructed using GaaP fluxes for a cluster (top panel) and a field population (bottom panel). A very nice red sequence appears from the red, old galaxies in the cluster (top panel) while field galaxies (bottom panel) are dominated by bluer objects and do not exhibit a red sequence.  "
   ]
  }
 ],
 "metadata": {
  "kernelspec": {
   "display_name": "LSST",
   "language": "python",
   "name": "lsst"
  },
  "language_info": {
   "codemirror_mode": {
    "name": "ipython",
    "version": 3
   },
   "file_extension": ".py",
   "mimetype": "text/x-python",
   "name": "python",
   "nbconvert_exporter": "python",
   "pygments_lexer": "ipython3",
   "version": "3.12.11"
  },
  "toc-autonumbering": false
 },
 "nbformat": 4,
 "nbformat_minor": 5
}
